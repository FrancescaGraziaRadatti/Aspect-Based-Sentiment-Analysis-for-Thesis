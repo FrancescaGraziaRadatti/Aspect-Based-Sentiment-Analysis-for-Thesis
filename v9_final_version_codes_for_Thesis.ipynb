{
  "nbformat": 4,
  "nbformat_minor": 0,
  "metadata": {
    "colab": {
      "name": "v9_final version - codes for Thesis",
      "provenance": [],
      "collapsed_sections": [],
      "mount_file_id": "1d-_3cOpevjYAFusYMDr7eGZJse6RPJ23",
      "authorship_tag": "ABX9TyN0YfU50o34JRMio1C+mOnP",
      "include_colab_link": true
    },
    "kernelspec": {
      "display_name": "Python 3",
      "name": "python3"
    },
    "language_info": {
      "name": "python"
    }
  },
  "cells": [
    {
      "cell_type": "markdown",
      "metadata": {
        "id": "view-in-github",
        "colab_type": "text"
      },
      "source": [
        "<a href=\"https://colab.research.google.com/github/FrancescaGraziaRadatti/Thesis/blob/main/v9_final_version_codes_for_Thesis.ipynb\" target=\"_parent\"><img src=\"https://colab.research.google.com/assets/colab-badge.svg\" alt=\"Open In Colab\"/></a>"
      ]
    },
    {
      "cell_type": "code",
      "metadata": {
        "colab": {
          "base_uri": "https://localhost:8080/"
        },
        "id": "08OaUigYJArW",
        "outputId": "b568332f-1ead-4145-f4e5-627573aca1fd"
      },
      "source": [
        "#1.x tensor flow version \n",
        "\n",
        "%tensorflow_version 1.x\n",
        "import tensorflow as tf\n",
        "\n",
        "print(tf.__version__)"
      ],
      "execution_count": 3,
      "outputs": [
        {
          "output_type": "stream",
          "name": "stdout",
          "text": [
            "TensorFlow 1.x selected.\n",
            "1.15.2\n"
          ]
        }
      ]
    },
    {
      "cell_type": "code",
      "metadata": {
        "colab": {
          "base_uri": "https://localhost:8080/"
        },
        "id": "Mo6gVc7AG3xp",
        "outputId": "4c9b80c8-9a13-45d5-ad0a-ddf8522284a1"
      },
      "source": [
        "#import packages to install Spark\n",
        "!pip install pyspark\n",
        "import pyspark\n",
        "from pyspark.sql import SparkSession\n",
        "import seaborn as sns   \n",
        "import matplotlib.pyplot as plt  \n",
        "import pandas as pd\n",
        "import numpy as np"
      ],
      "execution_count": 6,
      "outputs": [
        {
          "output_type": "stream",
          "name": "stdout",
          "text": [
            "Collecting pyspark\n",
            "  Downloading pyspark-3.2.0.tar.gz (281.3 MB)\n",
            "\u001b[K     |████████████████████████████████| 281.3 MB 36 kB/s \n",
            "\u001b[?25hCollecting py4j==0.10.9.2\n",
            "  Downloading py4j-0.10.9.2-py2.py3-none-any.whl (198 kB)\n",
            "\u001b[K     |████████████████████████████████| 198 kB 50.2 MB/s \n",
            "\u001b[?25hBuilding wheels for collected packages: pyspark\n",
            "  Building wheel for pyspark (setup.py) ... \u001b[?25l\u001b[?25hdone\n",
            "  Created wheel for pyspark: filename=pyspark-3.2.0-py2.py3-none-any.whl size=281805912 sha256=b7c1baf1d6831289f4fab91d3da5ed389adf827bab49a9ec50e8b83a642bab58\n",
            "  Stored in directory: /root/.cache/pip/wheels/0b/de/d2/9be5d59d7331c6c2a7c1b6d1a4f463ce107332b1ecd4e80718\n",
            "Successfully built pyspark\n",
            "Installing collected packages: py4j, pyspark\n",
            "Successfully installed py4j-0.10.9.2 pyspark-3.2.0\n"
          ]
        }
      ]
    },
    {
      "cell_type": "code",
      "metadata": {
        "id": "yue2HCKNvvdi",
        "colab": {
          "base_uri": "https://localhost:8080/"
        },
        "outputId": "9e2c34e3-6ffb-4bc2-eb82-31f4bacb0119"
      },
      "source": [
        "from keras.models import Sequential,Model\n",
        "from keras.layers import Dense,Dropout,Activation\n",
        "from keras.layers import Flatten,Input\n",
        "from keras.layers import Embedding\n",
        "from keras.layers import concatenate\n",
        "from tensorflow.keras.utils import to_categorical\n",
        "from keras.layers.recurrent import LSTM\n",
        "from keras.layers.wrappers import Bidirectional\n",
        "from keras.layers import Dense, Embedding, LSTM, GRU, Flatten, Dropout, Lambda\n",
        "from keras.layers.embeddings import Embedding\n",
        "from IPython.display import SVG\n",
        "from keras.utils.vis_utils import model_to_dot"
      ],
      "execution_count": 7,
      "outputs": [
        {
          "output_type": "stream",
          "name": "stderr",
          "text": [
            "Using TensorFlow backend.\n"
          ]
        }
      ]
    },
    {
      "cell_type": "code",
      "metadata": {
        "id": "sS4hiibfMMuW"
      },
      "source": [
        "#import libraries \n",
        "import string\n",
        "import re\n",
        "from keras.preprocessing.text import Tokenizer\n",
        "from sklearn.preprocessing import LabelBinarizer\n",
        "from keras.preprocessing.sequence import pad_sequences\n",
        "import keras\n",
        "from sklearn.model_selection import train_test_split"
      ],
      "execution_count": 9,
      "outputs": []
    },
    {
      "cell_type": "code",
      "metadata": {
        "colab": {
          "base_uri": "https://localhost:8080/"
        },
        "id": "b9A2KrYfGCBl",
        "outputId": "48af5953-2e50-45e5-ee7b-b0e0a9a399ba"
      },
      "source": [
        "#load reviews from Drive \n",
        "from google.colab import drive\n",
        "drive.mount('/content/drive')\n"
      ],
      "execution_count": 2,
      "outputs": [
        {
          "output_type": "stream",
          "name": "stdout",
          "text": [
            "Mounted at /content/drive\n"
          ]
        }
      ]
    },
    {
      "cell_type": "code",
      "metadata": {
        "colab": {
          "base_uri": "https://localhost:8080/"
        },
        "id": "hZ3Wbcp6kxBH",
        "outputId": "2c719cf7-fbef-43ca-ed08-791999fe3a97"
      },
      "source": [
        "!ls \"/content/drive/My Drive/reviews_Clothing_Shoes_and_Jewelry.json.gz\""
      ],
      "execution_count": 4,
      "outputs": [
        {
          "output_type": "stream",
          "name": "stdout",
          "text": [
            "'/content/drive/My Drive/reviews_Clothing_Shoes_and_Jewelry.json.gz'\n"
          ]
        }
      ]
    },
    {
      "cell_type": "code",
      "metadata": {
        "colab": {
          "base_uri": "https://localhost:8080/"
        },
        "id": "woDlB1mYlVkj",
        "outputId": "e1b300c8-5e11-4474-ee85-2a291375b66f"
      },
      "source": [
        "!ls \"/content/drive/MyDrive/meta_Clothing_Shoes_and_Jewelry.json.gz\""
      ],
      "execution_count": 5,
      "outputs": [
        {
          "output_type": "stream",
          "name": "stdout",
          "text": [
            "/content/drive/MyDrive/meta_Clothing_Shoes_and_Jewelry.json.gz\n"
          ]
        }
      ]
    },
    {
      "cell_type": "code",
      "metadata": {
        "id": "pR3JhdV8HFGm"
      },
      "source": [
        "#build the spark function \n",
        "spark = SparkSession.builder.enableHiveSupport().getOrCreate()"
      ],
      "execution_count": 8,
      "outputs": []
    },
    {
      "cell_type": "code",
      "metadata": {
        "id": "6hq1u7j0J9yz"
      },
      "source": [
        "#read the json file with spark \n",
        "df_reviews = spark.read.json(\"/content/drive/MyDrive/reviews_Clothing_Shoes_and_Jewelry.json.gz\")\n"
      ],
      "execution_count": 10,
      "outputs": []
    },
    {
      "cell_type": "code",
      "metadata": {
        "colab": {
          "base_uri": "https://localhost:8080/"
        },
        "id": "XzIlgI56KRs9",
        "outputId": "0be4d6ad-96b5-4414-8e56-49dc41c0ceb7"
      },
      "source": [
        "#brief overview of just created reviews dataframe\n",
        "df_reviews.show(n=25)"
      ],
      "execution_count": 11,
      "outputs": [
        {
          "output_type": "stream",
          "name": "stdout",
          "text": [
            "+----------+--------+-------+--------------------+-----------+--------------+--------------------+--------------------+--------------+\n",
            "|      asin| helpful|overall|          reviewText| reviewTime|    reviewerID|        reviewerName|             summary|unixReviewTime|\n",
            "+----------+--------+-------+--------------------+-----------+--------------+--------------------+--------------------+--------------+\n",
            "|0000031887|  [0, 0]|    5.0|Perfect red tutu ...| 11 4, 2013|A2XVJBSRI3SWDI|             abigail|           Nice tutu|    1383523200|\n",
            "|0000031887|  [1, 1]|    4.0|This was a really...|05 26, 2012|A2G0LNLN79Q6HR|       aj_18 \"Aj_18\"|Really Cute but r...|    1337990400|\n",
            "|0000031887|  [1, 1]|    2.0|the tutu color wa...|02 17, 2013|A2R3K1KX09QBYP|      alert consumer|not very good mat...|    1361059200|\n",
            "|0000031887|  [0, 1]|    1.0|My 3-yr-old daugh...|03 21, 2013| A19PBP93OF896|Alinna Satake \"Ca...|Tiny and Poorly C...|    1363824000|\n",
            "|0000031887|  [0, 0]|    4.0|Bought it for my ...|01 23, 2014|A1P0IHU93EF9ZK|              Amanda|           i love it|    1390435200|\n",
            "|0000031887|  [3, 4]|    4.0|I ordered this fo...|03 16, 2010|A3Q6CTO56DJ8UZ|      Amazing Amazon|       Good Quality!|    1268697600|\n",
            "|0000031887|  [0, 0]|    5.0|This is a great t...|02 12, 2011|A1KLRMWW2FWPL4|Amazon Customer \"...|Great tutu-  not ...|    1297468800|\n",
            "|0000031887|  [0, 0]|    5.0|Got this for our ...|12 26, 2012|A1GQPAM8Y45QN7|     Amazon Customer|                Tutu|    1356480000|\n",
            "|0000031887|  [0, 0]|    5.0|I bought this for...|01 19, 2013|A2G5TCU2WDFZ65|     Amazon Customer|         Very Cute!!|    1358553600|\n",
            "|0000031887|  [0, 0]|    5.0|Just as described...|06 22, 2013| AEAN37KUOYSX4|     Amazon Customer|          Fantastic!|    1371859200|\n",
            "|0000031887|  [0, 0]|    5.0|Purchased it for ...|06 16, 2014|A1MCJONUQ78L9T|     Amazon Customer|My daughter loved...|    1402876800|\n",
            "|0000031887|  [0, 0]|    5.0|This really is a ...| 03 4, 2013|A2QEODSEIT1ME2|     Amazon Customer|           Very Nice|    1362355200|\n",
            "|0000031887|  [0, 0]|    4.0|Very cute, shorte...|12 10, 2013|A2PSIVW9I3TGHD|     Amazon Customer|        Good product|    1386633600|\n",
            "|0000031887|  [0, 0]|    5.0|Vey cute and perf...|02 18, 2014|A3CHBY0CB0O7PP|     Amazon Customer|                cute|    1392681600|\n",
            "|0000031887|  [2, 3]|    5.0|Bought this for m...| 12 6, 2012| AAE8WBNKHQPL5|     Amazon Customer|Deceivingly Worka...|    1354752000|\n",
            "|0000031887|  [0, 0]|    5.0|Loved it and so d...|11 21, 2012|A1Z4XQ937SMPO3|             amstier|        super cute!!|    1353456000|\n",
            "|0000031887|  [0, 0]|    4.0|I just got this t...|10 24, 2013|A2F9MVWWC0IZYW|                 Amy|Perfect for the p...|    1382572800|\n",
            "|0000031887|  [0, 0]|    5.0|Our 3-year-old pe...|08 24, 2013| AZMKXP68HZ4CN|      Angela K. Ford|          Wonderful!|    1377302400|\n",
            "|0000031887|  [0, 0]|    1.0|It was beautiful ...|04 17, 2014| AV056ETQ5RXLN|      anna alexander|               Cheap|    1397692800|\n",
            "|0000031887|  [0, 0]|    3.0|The waistband was...|12 28, 2012| A5GPS8FCXTPPI|          Ann C Peat|           Waistband|    1356652800|\n",
            "|0000031887|  [0, 0]|    5.0|The tutu's was fo...|01 15, 2014| AM1CYMR007O6H|         anne foster|              Tutus!|    1389744000|\n",
            "|0000031887|  [0, 0]|    5.0|My 5 year old dau...|12 25, 2013|A25G580SJ513IC|          Anne Klein|         Very happy!|    1387929600|\n",
            "|0000031887|  [0, 0]|    4.0|This is a very ba...|10 24, 2012|A1MYJDE1JEKLHX|                  AP|           Cute Tutu|    1351036800|\n",
            "|0000031887|  [0, 0]|    3.0|tutus are amazing...|01 26, 2013|A1WAAEP1EBQ3S4|         artgirl1288|          tutus rock|    1359158400|\n",
            "|0000031887|[26, 28]|    5.0|I bought this as ...|10 10, 2010|A3H1W0DWLW5DLH|              ashley| Very happy customer|    1286668800|\n",
            "+----------+--------+-------+--------------------+-----------+--------------+--------------------+--------------------+--------------+\n",
            "only showing top 25 rows\n",
            "\n"
          ]
        }
      ]
    },
    {
      "cell_type": "code",
      "metadata": {
        "colab": {
          "base_uri": "https://localhost:8080/"
        },
        "id": "cb3edJqaLItu",
        "outputId": "5ec82d37-ce1e-421c-e1e9-13d464192570"
      },
      "source": [
        "#read the products dataframe\n",
        "df_products = spark.read.json(\"/content/drive/MyDrive/meta_Clothing_Shoes_and_Jewelry.json.gz\")\n",
        "df_products.show(n=25)"
      ],
      "execution_count": 12,
      "outputs": [
        {
          "output_type": "stream",
          "name": "stdout",
          "text": [
            "+--------------------+----------+--------------+--------------------+--------------------+--------------------+-----+--------------------+--------------------+--------------------+\n",
            "|     _corrupt_record|      asin|         brand|          categories|         description|               imUrl|price|             related|           salesRank|               title|\n",
            "+--------------------+----------+--------------+--------------------+--------------------+--------------------+-----+--------------------+--------------------+--------------------+\n",
            "|                null|0000037214|    Big Dreams|[[Clothing, Shoes...|                null|http://ecx.images...| 6.99|{null, [B00JO8II7...|{null, null, null...|Purple Sequin Tin...|\n",
            "|                null|0000031887|Boutique Cutie|[[Clothing, Shoes...|This adorable bas...|http://ecx.images...| 6.79|{[0000031852, 000...|{null, null, null...|Ballet Dress-Up F...|\n",
            "|                null|0123456479|          null|[[Clothing, Shoes...|Elegance par exce...|http://ecx.images...|64.98|{[B000BMTCK6, B00...|{null, null, null...|SHINING IMAGE HUG...|\n",
            "|                null|0456844570|          null|[[Clothing, Shoes...|                null|http://ecx.images...| null|{null, [B008MTRT1...|{null, null, null...|RiZ Women's Beaut...|\n",
            "|                null|0456808574|          null|[[Clothing, Shoes...|                null|http://ecx.images...| null|{null, [B00A6JD8E...|{null, null, null...|Lantin White Viso...|\n",
            "|                null|0456830197|          null|[[Clothing, Shoes...|                null|http://ecx.images...| null|{[729300236X], nu...|{null, null, null...|NVC Unisex Light ...|\n",
            "|                null|0456856293|          null|[[Clothing, Shoes...|                null|http://ecx.images...| null|{null, [B005P1HF2...|{null, null, null...|Kismeth Eyewear C...|\n",
            "|                null|0456840532|          null|[[Clothing, Shoes...|                null|http://ecx.images...| null|{null, [B001K9DPP...|{null, null, null...|Max-MPH Black - L...|\n",
            "|                null|0456787283|          null|[[Clothing, Shoes...|                null|http://ecx.images...| null|{null, [B00AIPLH2...|{null, null, null...|FX1 Small Adult A...|\n",
            "|                null|0456838384|          null|[[Clothing, Shoes...|                null|http://ecx.images...| null|{null, [B001K9DPP...|{null, null, null...|Riz Small Unisex ...|\n",
            "|                null|0641674791|          null|[[Clothing, Shoes...|ISBN: 0641674791\\...|http://ecx.images...| null|                null|                null|Red Crocodile Emb...|\n",
            "|                null|0641997078|          null|[[Clothing, Shoes...|Vera Bradley Tote...|http://ecx.images...|47.99|{null, [B00A8OV6R...|{null, null, null...|Vera Bradley Tote...|\n",
            "|                null|0681256036|          NECA|[[Clothing, Shoes...|                null|http://ecx.images...|17.59|{null, [B005TLMG0...|{null, null, null...|Twilight Saga: Ne...|\n",
            "|                null|0681358173|          null|[[Clothing, Shoes...|Adorable fleece t...|http://ecx.images...| null|                null|{null, null, null...|Bear Ear Hoodie J...|\n",
            "|{'asin': '0742403...|      null|          null|                null|                null|                null| null|                null|                null|                null|\n",
            "|                null|0756029929|          null|[[Clothing, Shoes...|Spanish Third-yea...|http://ecx.images...|11.45|                null|{null, null, null...|Spanish Third-yea...|\n",
            "|                null|0756029104|          null|[[Clothing, Shoes...|Viva Espaol pin, ...|http://ecx.images...|11.45|                null|{null, null, null...|Viva Espanol Pins...|\n",
            "|{'asin': '0765599...|      null|          null|                null|                null|                null| null|                null|                null|                null|\n",
            "|{'asin': '0839933...|      null|          null|                null|                null|                null| null|                null|                null|                null|\n",
            "|                null|1028907516|          null|[[Clothing, Shoes...|                null|http://ecx.images...| 6.29|{null, null, null...|                null|New Lava Iron Blu...|\n",
            "|                null|1094780162|          null|[[Clothing, Shoes...|                null|http://ecx.images...|19.15|{null, null, null...|                null|Men Automatic U1 ...|\n",
            "|                null|1304567583|          null|[[Clothing, Shoes...|pink bikini swimw...|http://ecx.images...|19.99|                null|                null|Pink Bikini Swimw...|\n",
            "|                null|1304567613|          null|[[Clothing, Shoes...|Bikini Swimwear g...|http://ecx.images...|29.99|                null|                null|Bikini Swimwear B...|\n",
            "|                null|1304743128|          null|[[Clothing, Shoes...|glow in the dark ...|http://ecx.images...|19.99|{null, [130456808...|                null|Glow in the Dark ...|\n",
            "|                null|1304743594|          null|[[Clothing, Shoes...|                null|http://ecx.images...| null|{null, [130082732...|                null|Watch Black Match...|\n",
            "+--------------------+----------+--------------+--------------------+--------------------+--------------------+-----+--------------------+--------------------+--------------------+\n",
            "only showing top 25 rows\n",
            "\n"
          ]
        }
      ]
    },
    {
      "cell_type": "markdown",
      "metadata": {
        "id": "eIRWRb_AQTZJ"
      },
      "source": [
        "Some of the columns inside both dataFrames need to be deleted (since there are not significant). Moreover, some columns that are expressed via array need to be flattened applying the transform and flatten functions. \n",
        "\n",
        "\n",
        "For df_products, the arrays are: also_buy, also_view, category, description, feature, and image. Details variable is a structure. \n",
        "\n",
        "For df_reviews, style is a structure, image is an array e verified is a boolean. "
      ]
    },
    {
      "cell_type": "code",
      "metadata": {
        "colab": {
          "base_uri": "https://localhost:8080/"
        },
        "id": "Y-ae4CVGMkS6",
        "outputId": "51ccf130-a10b-4b1d-f4da-ed74e3dba92e"
      },
      "source": [
        "df_products.printSchema()"
      ],
      "execution_count": null,
      "outputs": [
        {
          "name": "stdout",
          "output_type": "stream",
          "text": [
            "root\n",
            " |-- _corrupt_record: string (nullable = true)\n",
            " |-- asin: string (nullable = true)\n",
            " |-- brand: string (nullable = true)\n",
            " |-- categories: array (nullable = true)\n",
            " |    |-- element: array (containsNull = true)\n",
            " |    |    |-- element: string (containsNull = true)\n",
            " |-- description: string (nullable = true)\n",
            " |-- imUrl: string (nullable = true)\n",
            " |-- price: double (nullable = true)\n",
            " |-- related: struct (nullable = true)\n",
            " |    |-- also_bought: array (nullable = true)\n",
            " |    |    |-- element: string (containsNull = true)\n",
            " |    |-- also_viewed: array (nullable = true)\n",
            " |    |    |-- element: string (containsNull = true)\n",
            " |    |-- bought_together: array (nullable = true)\n",
            " |    |    |-- element: string (containsNull = true)\n",
            " |    |-- buy_after_viewing: array (nullable = true)\n",
            " |    |    |-- element: string (containsNull = true)\n",
            " |-- salesRank: struct (nullable = true)\n",
            " |    |-- Arts, Crafts & Sewing: long (nullable = true)\n",
            " |    |-- Automotive: long (nullable = true)\n",
            " |    |-- Baby: long (nullable = true)\n",
            " |    |-- Beauty: long (nullable = true)\n",
            " |    |-- Camera &amp; Photo: long (nullable = true)\n",
            " |    |-- Cell Phones & Accessories: long (nullable = true)\n",
            " |    |-- Clothing: long (nullable = true)\n",
            " |    |-- Computers & Accessories: long (nullable = true)\n",
            " |    |-- Electronics: long (nullable = true)\n",
            " |    |-- Health & Personal Care: long (nullable = true)\n",
            " |    |-- Home &amp; Kitchen: long (nullable = true)\n",
            " |    |-- Home Improvement: long (nullable = true)\n",
            " |    |-- Industrial & Scientific: long (nullable = true)\n",
            " |    |-- Jewelry: long (nullable = true)\n",
            " |    |-- Kitchen & Dining: long (nullable = true)\n",
            " |    |-- Movies & TV: long (nullable = true)\n",
            " |    |-- Music: long (nullable = true)\n",
            " |    |-- Musical Instruments: long (nullable = true)\n",
            " |    |-- Office Products: long (nullable = true)\n",
            " |    |-- Patio, Lawn & Garden: long (nullable = true)\n",
            " |    |-- Pet Supplies: long (nullable = true)\n",
            " |    |-- Shoes: long (nullable = true)\n",
            " |    |-- Software: long (nullable = true)\n",
            " |    |-- Sports &amp; Outdoors: long (nullable = true)\n",
            " |    |-- Toys & Games: long (nullable = true)\n",
            " |    |-- Video Games: long (nullable = true)\n",
            " |    |-- Watches: long (nullable = true)\n",
            " |-- title: string (nullable = true)\n",
            "\n"
          ]
        }
      ]
    },
    {
      "cell_type": "code",
      "metadata": {
        "colab": {
          "base_uri": "https://localhost:8080/"
        },
        "id": "DSTwfhOkMxjB",
        "outputId": "2449c0d7-a90a-4995-f294-ff1f3c716770"
      },
      "source": [
        "df_reviews.printSchema()"
      ],
      "execution_count": null,
      "outputs": [
        {
          "name": "stdout",
          "output_type": "stream",
          "text": [
            "root\n",
            " |-- asin: string (nullable = true)\n",
            " |-- helpful: array (nullable = true)\n",
            " |    |-- element: long (containsNull = true)\n",
            " |-- overall: double (nullable = true)\n",
            " |-- reviewText: string (nullable = true)\n",
            " |-- reviewTime: string (nullable = true)\n",
            " |-- reviewerID: string (nullable = true)\n",
            " |-- reviewerName: string (nullable = true)\n",
            " |-- summary: string (nullable = true)\n",
            " |-- unixReviewTime: long (nullable = true)\n",
            "\n"
          ]
        }
      ]
    },
    {
      "cell_type": "code",
      "metadata": {
        "id": "H2q7tu9dNOT5"
      },
      "source": [
        "def spark_shape(self):\n",
        "    return (self.count(), len(self.columns))\n",
        "pyspark.sql.dataframe.DataFrame.shape = spark_shape\n"
      ],
      "execution_count": 13,
      "outputs": []
    },
    {
      "cell_type": "code",
      "metadata": {
        "colab": {
          "base_uri": "https://localhost:8080/"
        },
        "id": "FDb1eh8YNV20",
        "outputId": "1ab4953b-17b1-4a66-fefd-1f7abe3a3f25"
      },
      "source": [
        "#shape\n",
        "spark_shape(df_products)\n",
        "#shape\n",
        "spark_shape(df_reviews)"
      ],
      "execution_count": null,
      "outputs": [
        {
          "data": {
            "text/plain": [
              "(5748920, 9)"
            ]
          },
          "execution_count": 9,
          "metadata": {},
          "output_type": "execute_result"
        }
      ]
    },
    {
      "cell_type": "markdown",
      "metadata": {
        "id": "PUetY1B4NdgH"
      },
      "source": [
        "The shapes are different and the ASIN variable is my join key. In the following codes I'll try to remove null values using some logics in order to have a clean marged dataFrame at the end "
      ]
    },
    {
      "cell_type": "markdown",
      "metadata": {
        "id": "vR01BE22lrji"
      },
      "source": [
        "**Data preprocessing**\n",
        "\n",
        "- remove nullvalues (delete or fill with other values when possible)\n",
        "\n",
        "- remove variables not useful to aim\n",
        "\n",
        "-merge dataFrame and drop duplicated values for the primary key (asin, ReviewerName and unixReviewTime)\n",
        "\n",
        "-Analyse again the merged dataFrame"
      ]
    },
    {
      "cell_type": "code",
      "metadata": {
        "colab": {
          "base_uri": "https://localhost:8080/"
        },
        "id": "5u6lotB8L8YF",
        "outputId": "15e24353-006a-4abb-f319-53103494014c"
      },
      "source": [
        "from pyspark.sql.functions import isnan, when, count, col\n",
        "df_products.select([count(when(col(c).isNull(), c)).alias(c) for c in df_products.columns]).show()"
      ],
      "execution_count": null,
      "outputs": [
        {
          "name": "stdout",
          "output_type": "stream",
          "text": [
            "+---------------+-----+-------+----------+-----------+-----+------+-------+---------+-----+\n",
            "|_corrupt_record| asin|  brand|categories|description|imUrl| price|related|salesRank|title|\n",
            "+---------------+-----+-------+----------+-----------+-----+------+-------+---------+-----+\n",
            "|        1488673|14711|1409043|     14711|    1432653|14790|936998| 456742|    94634|15315|\n",
            "+---------------+-----+-------+----------+-----------+-----+------+-------+---------+-----+\n",
            "\n"
          ]
        }
      ]
    },
    {
      "cell_type": "code",
      "metadata": {
        "id": "j5Q-hBq4Oo_i"
      },
      "source": [
        "#drop null values from 'reviewerName','reviewText','summary','title'; I can't delete the 'description' variable since it has too many null vlaues \n",
        "df_prd_cleaned= df_products.na.drop(subset=[\"title\"])"
      ],
      "execution_count": 14,
      "outputs": []
    },
    {
      "cell_type": "code",
      "metadata": {
        "colab": {
          "base_uri": "https://localhost:8080/"
        },
        "id": "cap-xZ4bP6aq",
        "outputId": "1166a4e8-d015-429b-a561-8c0540e64f89"
      },
      "source": [
        "df_prd_cleaned.select([count(when(col(c).isNull(), c)).alias(c) for c in df_prd_cleaned.columns]).show()"
      ],
      "execution_count": null,
      "outputs": [
        {
          "name": "stdout",
          "output_type": "stream",
          "text": [
            "+---------------+----+-------+----------+-----------+-----+------+-------+---------+-----+\n",
            "|_corrupt_record|asin|  brand|categories|description|imUrl| price|related|salesRank|title|\n",
            "+---------------+----+-------+----------+-----------+-----+------+-------+---------+-----+\n",
            "|        1488069|   0|1393728|         0|    1417827|    0|922095| 441895|    79853|    0|\n",
            "+---------------+----+-------+----------+-----------+-----+------+-------+---------+-----+\n",
            "\n"
          ]
        }
      ]
    },
    {
      "cell_type": "code",
      "metadata": {
        "colab": {
          "base_uri": "https://localhost:8080/"
        },
        "id": "miwpEdqoICTG",
        "outputId": "eb8061d1-8132-4b89-8306-0f29fbe54c74"
      },
      "source": [
        "from pyspark.sql.functions import *\n",
        "\n",
        "df_prd_cleaned1 = df_prd_cleaned.withColumn('brand_title', pyspark.sql.functions.split(df_prd_cleaned['title'],' ').getItem(0)) \n",
        "df_prd_cleaned1.show(n=20)"
      ],
      "execution_count": 17,
      "outputs": [
        {
          "output_type": "stream",
          "name": "stdout",
          "text": [
            "+---------------+----------+--------------+--------------------+--------------------+--------------------+-----+--------------------+--------------------+--------------------+-----------+\n",
            "|_corrupt_record|      asin|         brand|          categories|         description|               imUrl|price|             related|           salesRank|               title|brand_title|\n",
            "+---------------+----------+--------------+--------------------+--------------------+--------------------+-----+--------------------+--------------------+--------------------+-----------+\n",
            "|           null|0000037214|    Big Dreams|[[Clothing, Shoes...|                null|http://ecx.images...| 6.99|{null, [B00JO8II7...|{null, null, null...|Purple Sequin Tin...|     Purple|\n",
            "|           null|0000031887|Boutique Cutie|[[Clothing, Shoes...|This adorable bas...|http://ecx.images...| 6.79|{[0000031852, 000...|{null, null, null...|Ballet Dress-Up F...|     Ballet|\n",
            "|           null|0123456479|          null|[[Clothing, Shoes...|Elegance par exce...|http://ecx.images...|64.98|{[B000BMTCK6, B00...|{null, null, null...|SHINING IMAGE HUG...|    SHINING|\n",
            "|           null|0456844570|          null|[[Clothing, Shoes...|                null|http://ecx.images...| null|{null, [B008MTRT1...|{null, null, null...|RiZ Women's Beaut...|        RiZ|\n",
            "|           null|0456808574|          null|[[Clothing, Shoes...|                null|http://ecx.images...| null|{null, [B00A6JD8E...|{null, null, null...|Lantin White Viso...|     Lantin|\n",
            "|           null|0456830197|          null|[[Clothing, Shoes...|                null|http://ecx.images...| null|{[729300236X], nu...|{null, null, null...|NVC Unisex Light ...|        NVC|\n",
            "|           null|0456856293|          null|[[Clothing, Shoes...|                null|http://ecx.images...| null|{null, [B005P1HF2...|{null, null, null...|Kismeth Eyewear C...|    Kismeth|\n",
            "|           null|0456840532|          null|[[Clothing, Shoes...|                null|http://ecx.images...| null|{null, [B001K9DPP...|{null, null, null...|Max-MPH Black - L...|    Max-MPH|\n",
            "|           null|0456787283|          null|[[Clothing, Shoes...|                null|http://ecx.images...| null|{null, [B00AIPLH2...|{null, null, null...|FX1 Small Adult A...|        FX1|\n",
            "|           null|0456838384|          null|[[Clothing, Shoes...|                null|http://ecx.images...| null|{null, [B001K9DPP...|{null, null, null...|Riz Small Unisex ...|        Riz|\n",
            "|           null|0641674791|          null|[[Clothing, Shoes...|ISBN: 0641674791\\...|http://ecx.images...| null|                null|                null|Red Crocodile Emb...|        Red|\n",
            "|           null|0641997078|          null|[[Clothing, Shoes...|Vera Bradley Tote...|http://ecx.images...|47.99|{null, [B00A8OV6R...|{null, null, null...|Vera Bradley Tote...|       Vera|\n",
            "|           null|0681256036|          NECA|[[Clothing, Shoes...|                null|http://ecx.images...|17.59|{null, [B005TLMG0...|{null, null, null...|Twilight Saga: Ne...|   Twilight|\n",
            "|           null|0681358173|          null|[[Clothing, Shoes...|Adorable fleece t...|http://ecx.images...| null|                null|{null, null, null...|Bear Ear Hoodie J...|       Bear|\n",
            "|           null|0756029929|          null|[[Clothing, Shoes...|Spanish Third-yea...|http://ecx.images...|11.45|                null|{null, null, null...|Spanish Third-yea...|    Spanish|\n",
            "|           null|0756029104|          null|[[Clothing, Shoes...|Viva Espaol pin, ...|http://ecx.images...|11.45|                null|{null, null, null...|Viva Espanol Pins...|       Viva|\n",
            "|           null|1028907516|          null|[[Clothing, Shoes...|                null|http://ecx.images...| 6.29|{null, null, null...|                null|New Lava Iron Blu...|        New|\n",
            "|           null|1094780162|          null|[[Clothing, Shoes...|                null|http://ecx.images...|19.15|{null, null, null...|                null|Men Automatic U1 ...|        Men|\n",
            "|           null|1304567583|          null|[[Clothing, Shoes...|pink bikini swimw...|http://ecx.images...|19.99|                null|                null|Pink Bikini Swimw...|       Pink|\n",
            "|           null|1304567613|          null|[[Clothing, Shoes...|Bikini Swimwear g...|http://ecx.images...|29.99|                null|                null|Bikini Swimwear B...|     Bikini|\n",
            "+---------------+----------+--------------+--------------------+--------------------+--------------------+-----+--------------------+--------------------+--------------------+-----------+\n",
            "only showing top 20 rows\n",
            "\n"
          ]
        }
      ]
    },
    {
      "cell_type": "code",
      "metadata": {
        "colab": {
          "base_uri": "https://localhost:8080/"
        },
        "id": "WIncxlW21sdM",
        "outputId": "12c756c5-09b2-47ba-d708-10b92a579a1b"
      },
      "source": [
        "spark_shape(df_prd_cleaned1)"
      ],
      "execution_count": null,
      "outputs": [
        {
          "data": {
            "text/plain": [
              "(1488069, 11)"
            ]
          },
          "execution_count": 28,
          "metadata": {},
          "output_type": "execute_result"
        }
      ]
    },
    {
      "cell_type": "markdown",
      "metadata": {
        "id": "cmLOI0d1FutD"
      },
      "source": [
        "It could be not possible to take brand values from title values; it is better delete values since I want to analyse also brand differences among products and sentiment polarity for brands, so I want to have clean value for brand "
      ]
    },
    {
      "cell_type": "code",
      "metadata": {
        "colab": {
          "base_uri": "https://localhost:8080/"
        },
        "id": "bgSIT1i5Jego",
        "outputId": "82b95f9b-ff9c-4201-e936-1f5f69e4b2e5"
      },
      "source": [
        "from pyspark.sql.functions import when\n",
        "df_prd_cleaned2= df_prd_cleaned1.select('brand_title',\n",
        "           when(df_prd_cleaned1.brand.isNull(), df_prd_cleaned1.brand_title).otherwise(df_prd_cleaned1.brand)).show()"
      ],
      "execution_count": null,
      "outputs": [
        {
          "name": "stdout",
          "output_type": "stream",
          "text": [
            "+-----------+---------------------------------------------------------+\n",
            "|brand_title|CASE WHEN (brand IS NULL) THEN brand_title ELSE brand END|\n",
            "+-----------+---------------------------------------------------------+\n",
            "|     Purple|                                               Big Dreams|\n",
            "|     Ballet|                                           Boutique Cutie|\n",
            "|    SHINING|                                                  SHINING|\n",
            "|        RiZ|                                                      RiZ|\n",
            "|     Lantin|                                                   Lantin|\n",
            "|        NVC|                                                      NVC|\n",
            "|    Kismeth|                                                  Kismeth|\n",
            "|    Max-MPH|                                                  Max-MPH|\n",
            "|        FX1|                                                      FX1|\n",
            "|        Riz|                                                      Riz|\n",
            "|        Red|                                                      Red|\n",
            "|       Vera|                                                     Vera|\n",
            "|   Twilight|                                                     NECA|\n",
            "|       Bear|                                                     Bear|\n",
            "|    Spanish|                                                  Spanish|\n",
            "|       Viva|                                                     Viva|\n",
            "|        New|                                                      New|\n",
            "|        Men|                                                      Men|\n",
            "|       Pink|                                                     Pink|\n",
            "|     Bikini|                                                   Bikini|\n",
            "+-----------+---------------------------------------------------------+\n",
            "only showing top 20 rows\n",
            "\n"
          ]
        }
      ]
    },
    {
      "cell_type": "markdown",
      "metadata": {
        "id": "dUs_-vkqIMd_"
      },
      "source": [
        "Brand is different from brand_title for values for which brand is defined, so I have to delete brand null values"
      ]
    },
    {
      "cell_type": "code",
      "metadata": {
        "id": "xM_pikjCOn1R"
      },
      "source": [
        "df_prd_cleaned1.createOrReplaceTempView(\"df_prd_cleaned1\")\n",
        "\n",
        "query1 = \"\"\"SELECT COUNT(*)\n",
        "           FROM df_prd_cleaned2\n",
        "           WHERE brand = brand_title\n",
        "           \"\"\"\n"
      ],
      "execution_count": null,
      "outputs": []
    },
    {
      "cell_type": "code",
      "metadata": {
        "colab": {
          "base_uri": "https://localhost:8080/"
        },
        "id": "g8_9avGX5JjN",
        "outputId": "355ba272-47ea-457f-d474-0b3d893ed90f"
      },
      "source": [
        "df_prd_cleaned1.createOrReplaceTempView(\"df_prd_cleaned2\")\n",
        "\n",
        "brand_title_similarity = spark.sql(query1)\n",
        "brand_title_similarity.show()"
      ],
      "execution_count": null,
      "outputs": [
        {
          "name": "stdout",
          "output_type": "stream",
          "text": [
            "+--------+\n",
            "|count(1)|\n",
            "+--------+\n",
            "|   30731|\n",
            "+--------+\n",
            "\n"
          ]
        }
      ]
    },
    {
      "cell_type": "code",
      "metadata": {
        "colab": {
          "base_uri": "https://localhost:8080/"
        },
        "id": "35okEWvQ6JXE",
        "outputId": "f4431732-3743-4381-dc94-136c4cf57262"
      },
      "source": [
        "query2 = \"\"\"SELECT COUNT(*)\n",
        "           FROM df_prd_cleaned2\n",
        "           WHERE brand <> brand_title\n",
        "           \"\"\"\n",
        "brand_title_dissimilarity = spark.sql(query2)\n",
        "brand_title_dissimilarity.show()"
      ],
      "execution_count": null,
      "outputs": [
        {
          "name": "stdout",
          "output_type": "stream",
          "text": [
            "+--------+\n",
            "|count(1)|\n",
            "+--------+\n",
            "|   63610|\n",
            "+--------+\n",
            "\n"
          ]
        }
      ]
    },
    {
      "cell_type": "code",
      "metadata": {
        "colab": {
          "base_uri": "https://localhost:8080/"
        },
        "id": "v1LdEQC06rK6",
        "outputId": "0417c4bf-8e69-432a-b10f-017d30bfbb77"
      },
      "source": [
        "query3 = \"\"\"SELECT COUNT(*)\n",
        "           FROM df_prd_cleaned2\n",
        "           WHERE description is NULL \n",
        "           \"\"\"\n",
        "null_descr = spark.sql(query3)\n",
        "null_descr.show()"
      ],
      "execution_count": null,
      "outputs": [
        {
          "name": "stdout",
          "output_type": "stream",
          "text": [
            "+--------+\n",
            "|count(1)|\n",
            "+--------+\n",
            "| 1417827|\n",
            "+--------+\n",
            "\n"
          ]
        }
      ]
    },
    {
      "cell_type": "code",
      "metadata": {
        "colab": {
          "base_uri": "https://localhost:8080/"
        },
        "id": "rKURdM3VH0UC",
        "outputId": "d971f3f9-bc59-40a5-c4be-867ec47c5255"
      },
      "source": [
        "type(df_prd_cleaned2)\n",
        "type(df_prd_cleaned1)"
      ],
      "execution_count": null,
      "outputs": [
        {
          "data": {
            "text/plain": [
              "pyspark.sql.dataframe.DataFrame"
            ]
          },
          "execution_count": 30,
          "metadata": {},
          "output_type": "execute_result"
        }
      ]
    },
    {
      "cell_type": "markdown",
      "metadata": {
        "id": "CiHHvF0N9mDE"
      },
      "source": [
        "\n",
        "Brand cannot substitute by the first part of the title, since there are more different strings than similar. I decide to delete all observations having null values for brand. "
      ]
    },
    {
      "cell_type": "code",
      "metadata": {
        "colab": {
          "base_uri": "https://localhost:8080/"
        },
        "id": "WtJVXoiD9MPx",
        "outputId": "e2f5c2e7-5b4d-498d-978f-b046788be4c0"
      },
      "source": [
        "df_prd_cleaned1.createOrReplaceTempView(\"df_prd_cleaned1\")\n",
        "\n",
        "query4 = \"\"\"SELECT COUNT(*)\n",
        "           FROM df_prd_cleaned1\n",
        "           WHERE brand is NULL\n",
        "           \"\"\"\n",
        "null_brand = spark.sql(query4)\n",
        "null_brand.show()"
      ],
      "execution_count": null,
      "outputs": [
        {
          "name": "stdout",
          "output_type": "stream",
          "text": [
            "+--------+\n",
            "|count(1)|\n",
            "+--------+\n",
            "| 1393728|\n",
            "+--------+\n",
            "\n"
          ]
        }
      ]
    },
    {
      "cell_type": "code",
      "metadata": {
        "colab": {
          "base_uri": "https://localhost:8080/"
        },
        "id": "BYfVjsWKHQdd",
        "outputId": "7bb6b094-5a4b-4b00-dc32-a4c91e6be56f"
      },
      "source": [
        "df_prd_cleaned.select([count(when(col(c).isNull(), c)).alias(c) for c in df_prd_cleaned.columns]).show()"
      ],
      "execution_count": null,
      "outputs": [
        {
          "name": "stdout",
          "output_type": "stream",
          "text": [
            "+--------+\n",
            "|count(1)|\n",
            "+--------+\n",
            "| 1393728|\n",
            "+--------+\n",
            "\n"
          ]
        }
      ]
    },
    {
      "cell_type": "code",
      "metadata": {
        "colab": {
          "base_uri": "https://localhost:8080/"
        },
        "id": "EcIjOwK17s1A",
        "outputId": "87e3dedd-bc9c-47c5-9dd9-c6b64dde03bc"
      },
      "source": [
        "#description column cannot be used \n",
        "df_prd_cleaned1= df_prd_cleaned1.drop('description', 'brand_title')\n",
        "spark_shape(df_prd_cleaned1)"
      ],
      "execution_count": null,
      "outputs": [
        {
          "output_type": "execute_result",
          "data": {
            "text/plain": [
              "(1488069, 9)"
            ]
          },
          "metadata": {},
          "execution_count": 18
        }
      ]
    },
    {
      "cell_type": "code",
      "metadata": {
        "id": "sXrcXfbzG6da"
      },
      "source": [
        "df_prd_cleaned3= df_prd_cleaned1.na.drop(subset=[\"brand\"])"
      ],
      "execution_count": 33,
      "outputs": []
    },
    {
      "cell_type": "code",
      "metadata": {
        "colab": {
          "base_uri": "https://localhost:8080/"
        },
        "id": "9mcTljPGK5sO",
        "outputId": "c26f5eba-debc-45e7-cb27-926424d9a247"
      },
      "source": [
        "df_prd_cleaned3.select([count(when(col(c).isNull(), c)).alias(c) for c in df_prd_cleaned3.columns]).show()"
      ],
      "execution_count": null,
      "outputs": [
        {
          "name": "stdout",
          "output_type": "stream",
          "text": [
            "+---------------+----+-----+----------+-----+-----+-------+---------+-----+\n",
            "|_corrupt_record|asin|brand|categories|imUrl|price|related|salesRank|title|\n",
            "+---------------+----+-----+----------+-----+-----+-------+---------+-----+\n",
            "|          94341|   0|    0|         0|    0|  675|   4994|    15376|    0|\n",
            "+---------------+----+-----+----------+-----+-----+-------+---------+-----+\n",
            "\n"
          ]
        }
      ]
    },
    {
      "cell_type": "code",
      "metadata": {
        "colab": {
          "base_uri": "https://localhost:8080/"
        },
        "id": "YLgN38apI4bo",
        "outputId": "499c1db8-0f7d-4fd7-8e7b-d54e2a1468dd"
      },
      "source": [
        "query5 = \"\"\"SELECT avg(price)\n",
        "           FROM df_prd_cleaned1\n",
        "           WHERE PRICE is NOT NULL \n",
        "           \"\"\"\n",
        "avg_price = spark.sql(query5)\n",
        "avg_price.show()"
      ],
      "execution_count": null,
      "outputs": [
        {
          "name": "stdout",
          "output_type": "stream",
          "text": [
            "+-----------------+\n",
            "|       avg(price)|\n",
            "+-----------------+\n",
            "|46.55125714224298|\n",
            "+-----------------+\n",
            "\n"
          ]
        }
      ]
    },
    {
      "cell_type": "code",
      "metadata": {
        "colab": {
          "base_uri": "https://localhost:8080/"
        },
        "id": "X5VK8Mj6OzNA",
        "outputId": "fbced980-a0b5-45ed-dec9-d7256538dee6"
      },
      "source": [
        "##Replace the average price for null values in price column\n",
        "df_prd_cleaned4= df_prd_cleaned3.fillna(46.55,subset=[\"price\"])\n",
        "df_prd_cleaned4.show()\n",
        "spark_shape(df_prd_cleaned4)"
      ],
      "execution_count": 34,
      "outputs": [
        {
          "output_type": "stream",
          "name": "stdout",
          "text": [
            "+---------------+----------+-------------------+--------------------+--------------------+-----+--------------------+--------------------+--------------------+\n",
            "|_corrupt_record|      asin|              brand|          categories|               imUrl|price|             related|           salesRank|               title|\n",
            "+---------------+----------+-------------------+--------------------+--------------------+-----+--------------------+--------------------+--------------------+\n",
            "|           null|0000037214|         Big Dreams|[[Clothing, Shoes...|http://ecx.images...| 6.99|{null, [B00JO8II7...|{null, null, null...|Purple Sequin Tin...|\n",
            "|           null|0000031887|     Boutique Cutie|[[Clothing, Shoes...|http://ecx.images...| 6.79|{[0000031852, 000...|{null, null, null...|Ballet Dress-Up F...|\n",
            "|           null|0681256036|               NECA|[[Clothing, Shoes...|http://ecx.images...|17.59|{null, [B005TLMG0...|{null, null, null...|Twilight Saga: Ne...|\n",
            "|           null|1848572972| Little Tiger Press|[[Clothing, Shoes...|http://ecx.images...| 1.49|                null|                null|      Baby Kiss Book|\n",
            "|           null|1983049581|                   |[[Clothing, Shoes...|http://ecx.images...| 7.98|{null, [B00HG32UU...|{null, null, null...|Silver Super Lust...|\n",
            "|           null|8511000135|Gifts by Lulee/Baby|[[Clothing, Shoes...|http://ecx.images...| 9.99|{[B005G8BH0I, B00...|{null, null, null...|Genuine Azabache ...|\n",
            "|           null|8866138096|          Moleskine|[[Clothing, Shoes...|http://ecx.images...|16.62|{null, [886613304...|                null|Moleskine Luggage...|\n",
            "|           null|8866138371|          Moleskine|[[Clothing, Shoes...|http://ecx.images...|50.39|{null, [B005H3X3L...|{null, null, null...|Moleskine Luggage...|\n",
            "|           null|8921463267|        Hello Kitty|[[Clothing, Shoes...|http://ecx.images...|22.99|{null, [892146325...|{null, null, null...|Hello Kitty LALA ...|\n",
            "|           null|8921463240|        Hello Kitty|[[Clothing, Shoes...|http://ecx.images...|22.99|{null, [892146325...|{null, null, null...|Hello Kitty LALA ...|\n",
            "|           null|899634480X|               Fila|[[Sports & Outdoo...|http://ecx.images...| 9.99|{[B0080IFJ78, B00...|{null, null, null...|Fila Boys No Show...|\n",
            "|           null|9621434939|                   |[[Clothing, Shoes...|http://ecx.images...| 16.8|{null, [B0036JDRF...|{null, null, null...|Party Women Short...|\n",
            "|           null|9626819502|          Buy_Cheap|[[Clothing, Shoes...|http://ecx.images...| 3.99|{[B006D6JIQC, B00...|{null, null, null...|Womens Lingerie U...|\n",
            "|           null|9881716179|                   |[[Clothing, Shoes...|http://ecx.images...| 24.0|{null, [B00K0CQCD...|{null, null, null...|New Cute Sexy Kor...|\n",
            "|           null|9889832488|       Miku Hatsune|[[Clothing, Shoes...|http://ecx.images...|25.62|{null, [B008UVX2Y...|{null, null, null...|Vocaloid Hatsune ...|\n",
            "|           null|9895517319|            US HATS|[[Clothing, Shoes...|http://ecx.images...| 3.18|{[B004BP9HQI, B00...|{null, null, null...|3 HOLE KIDS SKI M...|\n",
            "|           null|B00000755K|                   |[[CDs & Vinyl, Da...|http://ecx.images...|14.99|{[B00000755J, B00...|{null, null, null...| Girls Will Be Girls|\n",
            "|           null|B00000DTG5|                   |[[CDs & Vinyl, Ja...|http://ecx.images...|13.54|{[B00CRS2TL6, B00...|{null, null, null...|Plays the Music o...|\n",
            "|           null|B00001NFX5|  Disguise Costumes|[[Clothing, Shoes...|http://ecx.images...|15.28|{[B000OW8ZVU, B00...|{null, null, null...|Cuddly Cub Toddle...|\n",
            "|           null|B00001O36X|  Disguise Costumes|[[Clothing, Shoes...|http://ecx.images...|37.63|{[B00430ACYC, B00...|{null, null, null...|Austin Powers Adu...|\n",
            "+---------------+----------+-------------------+--------------------+--------------------+-----+--------------------+--------------------+--------------------+\n",
            "only showing top 20 rows\n",
            "\n"
          ]
        },
        {
          "output_type": "execute_result",
          "data": {
            "text/plain": [
              "(94341, 9)"
            ]
          },
          "metadata": {},
          "execution_count": 34
        }
      ]
    },
    {
      "cell_type": "code",
      "metadata": {
        "colab": {
          "base_uri": "https://localhost:8080/"
        },
        "id": "R4FqqB8lTJzq",
        "outputId": "6ffd4fce-436d-46c1-ad4d-db0510543adc"
      },
      "source": [
        "df_prd_cleaned4.select([count(when(col(c).isNull(), c)).alias(c) for c in df_prd_cleaned2.columns]).show()"
      ],
      "execution_count": null,
      "outputs": [
        {
          "name": "stdout",
          "output_type": "stream",
          "text": [
            "+---------------+----+-----+----------+-----+-----+-------+---------+-----+\n",
            "|_corrupt_record|asin|brand|categories|imUrl|price|related|salesRank|title|\n",
            "+---------------+----+-----+----------+-----+-----+-------+---------+-----+\n",
            "|          94341|   0|    0|         0|    0|    0|   4994|    15376|    0|\n",
            "+---------------+----+-----+----------+-----+-----+-------+---------+-----+\n",
            "\n"
          ]
        }
      ]
    },
    {
      "cell_type": "code",
      "metadata": {
        "id": "r3Deogn7TkAj"
      },
      "source": [
        "#createTemporaryView for df_prd2\n",
        "#df_prd_cleaned2.createOrReplaceTempView(\"df_prd_cleaned2\")\n"
      ],
      "execution_count": null,
      "outputs": []
    },
    {
      "cell_type": "markdown",
      "metadata": {
        "id": "xDhDTY8OJRyO"
      },
      "source": [
        "Now I have to take only title, price, asin and category variables. So i have to delete all the other variables and then I have to merge this dataset to the review dataset and finally i have to remove duplicates for the primary key. \n",
        "\n",
        "-after marged, I can compute n' of reviewers for product and also other descriptive analysis done by someone in the links saved by me. \n"
      ]
    },
    {
      "cell_type": "code",
      "metadata": {
        "colab": {
          "base_uri": "https://localhost:8080/"
        },
        "id": "m6o3bmZhOPPm",
        "outputId": "9d9551e5-528f-4c68-f900-237e2da18990"
      },
      "source": [
        "#delete not necessary columns \n",
        "df_prd_cleaned5= df_prd_cleaned4.drop('_corrupt_record','related', 'salesRank', 'imUrl')\n",
        "type(df_prd_cleaned5)"
      ],
      "execution_count": 35,
      "outputs": [
        {
          "output_type": "execute_result",
          "data": {
            "text/plain": [
              "pyspark.sql.dataframe.DataFrame"
            ]
          },
          "metadata": {},
          "execution_count": 35
        }
      ]
    },
    {
      "cell_type": "code",
      "metadata": {
        "colab": {
          "base_uri": "https://localhost:8080/"
        },
        "id": "0nxLow3vKfEv",
        "outputId": "12cdf785-3989-47e2-9ce0-c7ae9424c3b7"
      },
      "source": [
        "df_prd_cleaned5.dtypes"
      ],
      "execution_count": null,
      "outputs": [
        {
          "data": {
            "text/plain": [
              "[('asin', 'string'),\n",
              " ('brand', 'string'),\n",
              " ('categories', 'array<array<string>>'),\n",
              " ('price', 'double'),\n",
              " ('title', 'string')]"
            ]
          },
          "execution_count": 14,
          "metadata": {},
          "output_type": "execute_result"
        }
      ]
    },
    {
      "cell_type": "code",
      "metadata": {
        "colab": {
          "base_uri": "https://localhost:8080/"
        },
        "id": "0BBiCi6173Pp",
        "outputId": "ac8f6433-83a5-406a-c1ea-cb59c3b775cc"
      },
      "source": [
        "spark_shape(df_prd_cleaned5)"
      ],
      "execution_count": null,
      "outputs": [
        {
          "data": {
            "text/plain": [
              "(94341, 6)"
            ]
          },
          "execution_count": 43,
          "metadata": {},
          "output_type": "execute_result"
        }
      ]
    },
    {
      "cell_type": "code",
      "metadata": {
        "colab": {
          "base_uri": "https://localhost:8080/"
        },
        "id": "wyYy2zh9XzCG",
        "outputId": "20e73c29-3961-400c-9f9c-7e0416481973"
      },
      "source": [
        "df_prd_fin.info()"
      ],
      "execution_count": null,
      "outputs": [
        {
          "name": "stdout",
          "output_type": "stream",
          "text": [
            "<class 'pandas.core.frame.DataFrame'>\n",
            "RangeIndex: 94341 entries, 0 to 94340\n",
            "Data columns (total 5 columns):\n",
            " #   Column      Non-Null Count  Dtype  \n",
            "---  ------      --------------  -----  \n",
            " 0   asin        94341 non-null  object \n",
            " 1   brand       94341 non-null  object \n",
            " 2   categories  94341 non-null  object \n",
            " 3   price       94341 non-null  float64\n",
            " 4   title       94341 non-null  object \n",
            "dtypes: float64(1), object(4)\n",
            "memory usage: 3.6+ MB\n"
          ]
        }
      ]
    },
    {
      "cell_type": "markdown",
      "metadata": {
        "id": "wRhcOa_9Kr_q"
      },
      "source": [
        "Analyse Review DataFrame now\n"
      ]
    },
    {
      "cell_type": "code",
      "metadata": {
        "colab": {
          "base_uri": "https://localhost:8080/"
        },
        "id": "XTQtTTZSN0Ou",
        "outputId": "62f54c67-b49a-40b5-ba7d-74df487da0d2"
      },
      "source": [
        "#count null values for reviews \n",
        "df_reviews.select([count(when(col(c).isNull(), c)).alias(c) for c in df_reviews.columns]).show()"
      ],
      "execution_count": 85,
      "outputs": [
        {
          "output_type": "stream",
          "name": "stdout",
          "text": [
            "+----+-------+-------+----------+----------+----------+------------+-------+--------------+\n",
            "|asin|helpful|overall|reviewText|reviewTime|reviewerID|reviewerName|summary|unixReviewTime|\n",
            "+----+-------+-------+----------+----------+----------+------------+-------+--------------+\n",
            "|   0|      0|      0|         0|         0|         0|       13698|      0|             0|\n",
            "+----+-------+-------+----------+----------+----------+------------+-------+--------------+\n",
            "\n"
          ]
        }
      ]
    },
    {
      "cell_type": "code",
      "metadata": {
        "id": "VcWT3gbsNu9N"
      },
      "source": [
        "#now I have to delete null values for reviewerName \n",
        "df_reviews_cleaned= df_reviews.na.drop(subset=[\"reviewerName\"])"
      ],
      "execution_count": 24,
      "outputs": []
    },
    {
      "cell_type": "code",
      "metadata": {
        "colab": {
          "base_uri": "https://localhost:8080/"
        },
        "id": "AsYVWItAOOGE",
        "outputId": "6d626634-fd80-46a4-fcb5-3dad8e22f14e"
      },
      "source": [
        "df_reviews_cleaned.show(n=20)\n",
        "spark_shape(df_reviews_cleaned)"
      ],
      "execution_count": null,
      "outputs": [
        {
          "name": "stdout",
          "output_type": "stream",
          "text": [
            "+----------+-------+-------+--------------------+-----------+--------------+--------------------+--------------------+--------------+\n",
            "|      asin|helpful|overall|          reviewText| reviewTime|    reviewerID|        reviewerName|             summary|unixReviewTime|\n",
            "+----------+-------+-------+--------------------+-----------+--------------+--------------------+--------------------+--------------+\n",
            "|0000031887| [0, 0]|    5.0|Perfect red tutu ...| 11 4, 2013|A2XVJBSRI3SWDI|             abigail|           Nice tutu|    1383523200|\n",
            "|0000031887| [1, 1]|    4.0|This was a really...|05 26, 2012|A2G0LNLN79Q6HR|       aj_18 \"Aj_18\"|Really Cute but r...|    1337990400|\n",
            "|0000031887| [1, 1]|    2.0|the tutu color wa...|02 17, 2013|A2R3K1KX09QBYP|      alert consumer|not very good mat...|    1361059200|\n",
            "|0000031887| [0, 1]|    1.0|My 3-yr-old daugh...|03 21, 2013| A19PBP93OF896|Alinna Satake \"Ca...|Tiny and Poorly C...|    1363824000|\n",
            "|0000031887| [0, 0]|    4.0|Bought it for my ...|01 23, 2014|A1P0IHU93EF9ZK|              Amanda|           i love it|    1390435200|\n",
            "|0000031887| [3, 4]|    4.0|I ordered this fo...|03 16, 2010|A3Q6CTO56DJ8UZ|      Amazing Amazon|       Good Quality!|    1268697600|\n",
            "|0000031887| [0, 0]|    5.0|This is a great t...|02 12, 2011|A1KLRMWW2FWPL4|Amazon Customer \"...|Great tutu-  not ...|    1297468800|\n",
            "|0000031887| [0, 0]|    5.0|Got this for our ...|12 26, 2012|A1GQPAM8Y45QN7|     Amazon Customer|                Tutu|    1356480000|\n",
            "|0000031887| [0, 0]|    5.0|I bought this for...|01 19, 2013|A2G5TCU2WDFZ65|     Amazon Customer|         Very Cute!!|    1358553600|\n",
            "|0000031887| [0, 0]|    5.0|Just as described...|06 22, 2013| AEAN37KUOYSX4|     Amazon Customer|          Fantastic!|    1371859200|\n",
            "|0000031887| [0, 0]|    5.0|Purchased it for ...|06 16, 2014|A1MCJONUQ78L9T|     Amazon Customer|My daughter loved...|    1402876800|\n",
            "|0000031887| [0, 0]|    5.0|This really is a ...| 03 4, 2013|A2QEODSEIT1ME2|     Amazon Customer|           Very Nice|    1362355200|\n",
            "|0000031887| [0, 0]|    4.0|Very cute, shorte...|12 10, 2013|A2PSIVW9I3TGHD|     Amazon Customer|        Good product|    1386633600|\n",
            "|0000031887| [0, 0]|    5.0|Vey cute and perf...|02 18, 2014|A3CHBY0CB0O7PP|     Amazon Customer|                cute|    1392681600|\n",
            "|0000031887| [2, 3]|    5.0|Bought this for m...| 12 6, 2012| AAE8WBNKHQPL5|     Amazon Customer|Deceivingly Worka...|    1354752000|\n",
            "|0000031887| [0, 0]|    5.0|Loved it and so d...|11 21, 2012|A1Z4XQ937SMPO3|             amstier|        super cute!!|    1353456000|\n",
            "|0000031887| [0, 0]|    4.0|I just got this t...|10 24, 2013|A2F9MVWWC0IZYW|                 Amy|Perfect for the p...|    1382572800|\n",
            "|0000031887| [0, 0]|    5.0|Our 3-year-old pe...|08 24, 2013| AZMKXP68HZ4CN|      Angela K. Ford|          Wonderful!|    1377302400|\n",
            "|0000031887| [0, 0]|    1.0|It was beautiful ...|04 17, 2014| AV056ETQ5RXLN|      anna alexander|               Cheap|    1397692800|\n",
            "|0000031887| [0, 0]|    3.0|The waistband was...|12 28, 2012| A5GPS8FCXTPPI|          Ann C Peat|           Waistband|    1356652800|\n",
            "+----------+-------+-------+--------------------+-----------+--------------+--------------------+--------------------+--------------+\n",
            "only showing top 20 rows\n",
            "\n"
          ]
        },
        {
          "data": {
            "text/plain": [
              "(5735222, 9)"
            ]
          },
          "execution_count": 53,
          "metadata": {},
          "output_type": "execute_result"
        }
      ]
    },
    {
      "cell_type": "code",
      "metadata": {
        "colab": {
          "base_uri": "https://localhost:8080/"
        },
        "id": "pUrhijs6U4oZ",
        "outputId": "89a8400f-00fb-4fc1-aac1-e5d907cc1f60"
      },
      "source": [
        "type(df_reviews_cleaned)"
      ],
      "execution_count": null,
      "outputs": [
        {
          "data": {
            "text/plain": [
              "pyspark.sql.dataframe.DataFrame"
            ]
          },
          "execution_count": 17,
          "metadata": {},
          "output_type": "execute_result"
        }
      ]
    },
    {
      "cell_type": "code",
      "metadata": {
        "colab": {
          "base_uri": "https://localhost:8080/"
        },
        "id": "dAB1XwIRVC2s",
        "outputId": "ac6145b0-c3dd-4f35-bb3a-399ebd376800"
      },
      "source": [
        "df_reviews_cleaned.dtypes"
      ],
      "execution_count": null,
      "outputs": [
        {
          "data": {
            "text/plain": [
              "[('asin', 'string'),\n",
              " ('helpful', 'array<bigint>'),\n",
              " ('overall', 'double'),\n",
              " ('reviewText', 'string'),\n",
              " ('reviewTime', 'string'),\n",
              " ('reviewerID', 'string'),\n",
              " ('reviewerName', 'string'),\n",
              " ('summary', 'string'),\n",
              " ('unixReviewTime', 'bigint')]"
            ]
          },
          "execution_count": 18,
          "metadata": {},
          "output_type": "execute_result"
        }
      ]
    },
    {
      "cell_type": "code",
      "metadata": {
        "colab": {
          "base_uri": "https://localhost:8080/"
        },
        "id": "v-9uYOWPTJut",
        "outputId": "dfdddf88-fd2d-4e69-d84f-aabc8afa61c7"
      },
      "source": [
        "#extract year from reviews: try to compute min and max of review year --- prima calcolare year, poi trasformarlo in integer e poi calcolare min e max \n",
        "df_reviews_cleaned1 = df_reviews_cleaned.withColumn('year', pyspark.sql.functions.split(df_reviews_cleaned['reviewTime'],', ').getItem(1))\n",
        "df_reviews_cleaned2 = df_reviews_cleaned1.withColumn('month', pyspark.sql.functions.split(df_reviews_cleaned1['reviewTime'],' ').getItem(0))\n",
        "df_reviews_cleaned2.dtypes"
      ],
      "execution_count": 25,
      "outputs": [
        {
          "output_type": "execute_result",
          "data": {
            "text/plain": [
              "[('asin', 'string'),\n",
              " ('helpful', 'array<bigint>'),\n",
              " ('overall', 'double'),\n",
              " ('reviewText', 'string'),\n",
              " ('reviewTime', 'string'),\n",
              " ('reviewerID', 'string'),\n",
              " ('reviewerName', 'string'),\n",
              " ('summary', 'string'),\n",
              " ('unixReviewTime', 'bigint'),\n",
              " ('year', 'string'),\n",
              " ('month', 'string')]"
            ]
          },
          "metadata": {},
          "execution_count": 25
        }
      ]
    },
    {
      "cell_type": "code",
      "metadata": {
        "colab": {
          "base_uri": "https://localhost:8080/"
        },
        "id": "MDYfU5aTVadj",
        "outputId": "81cceb46-8681-4a7b-cb81-5405b969f805"
      },
      "source": [
        "#cast year to integer -- df_reviews1 and 2 are useful only to evaluate the year \n",
        "df_reviews_cleaned3 =df_reviews_cleaned2.withColumn('year_int', (df_reviews_cleaned2['year']).cast('integer'))\n",
        "df_reviews_cleaned4 =df_reviews_cleaned3.withColumn('month_int', (df_reviews_cleaned3['month']).cast('integer'))\n",
        "\n",
        "df_reviews_cleaned4.dtypes"
      ],
      "execution_count": 26,
      "outputs": [
        {
          "output_type": "execute_result",
          "data": {
            "text/plain": [
              "[('asin', 'string'),\n",
              " ('helpful', 'array<bigint>'),\n",
              " ('overall', 'double'),\n",
              " ('reviewText', 'string'),\n",
              " ('reviewTime', 'string'),\n",
              " ('reviewerID', 'string'),\n",
              " ('reviewerName', 'string'),\n",
              " ('summary', 'string'),\n",
              " ('unixReviewTime', 'bigint'),\n",
              " ('year', 'string'),\n",
              " ('month', 'string'),\n",
              " ('year_int', 'int'),\n",
              " ('month_int', 'int')]"
            ]
          },
          "metadata": {},
          "execution_count": 26
        }
      ]
    },
    {
      "cell_type": "code",
      "metadata": {
        "colab": {
          "base_uri": "https://localhost:8080/"
        },
        "id": "wmtzjsbVf4J_",
        "outputId": "f1c9c703-ae0c-4127-9654-47997a4b49a1"
      },
      "source": [
        "type(df_reviews_cleaned4)"
      ],
      "execution_count": null,
      "outputs": [
        {
          "data": {
            "text/plain": [
              "pyspark.sql.dataframe.DataFrame"
            ]
          },
          "execution_count": 15,
          "metadata": {},
          "output_type": "execute_result"
        }
      ]
    },
    {
      "cell_type": "code",
      "metadata": {
        "colab": {
          "base_uri": "https://localhost:8080/"
        },
        "id": "LKmr_iRFrI_j",
        "outputId": "6facf9c9-7c3a-497f-c354-778309849df5"
      },
      "source": [
        "df_reviews_cleaned4.show()"
      ],
      "execution_count": null,
      "outputs": [
        {
          "name": "stdout",
          "output_type": "stream",
          "text": [
            "+----------+-------+-------+--------------------+-----------+--------------+--------------------+--------------------+--------------+----+-----+--------+---------+\n",
            "|      asin|helpful|overall|          reviewText| reviewTime|    reviewerID|        reviewerName|             summary|unixReviewTime|year|month|year_int|month_int|\n",
            "+----------+-------+-------+--------------------+-----------+--------------+--------------------+--------------------+--------------+----+-----+--------+---------+\n",
            "|0000031887| [0, 0]|    5.0|Perfect red tutu ...| 11 4, 2013|A2XVJBSRI3SWDI|             abigail|           Nice tutu|    1383523200|2013|   11|    2013|       11|\n",
            "|0000031887| [1, 1]|    4.0|This was a really...|05 26, 2012|A2G0LNLN79Q6HR|       aj_18 \"Aj_18\"|Really Cute but r...|    1337990400|2012|   05|    2012|        5|\n",
            "|0000031887| [1, 1]|    2.0|the tutu color wa...|02 17, 2013|A2R3K1KX09QBYP|      alert consumer|not very good mat...|    1361059200|2013|   02|    2013|        2|\n",
            "|0000031887| [0, 1]|    1.0|My 3-yr-old daugh...|03 21, 2013| A19PBP93OF896|Alinna Satake \"Ca...|Tiny and Poorly C...|    1363824000|2013|   03|    2013|        3|\n",
            "|0000031887| [0, 0]|    4.0|Bought it for my ...|01 23, 2014|A1P0IHU93EF9ZK|              Amanda|           i love it|    1390435200|2014|   01|    2014|        1|\n",
            "|0000031887| [3, 4]|    4.0|I ordered this fo...|03 16, 2010|A3Q6CTO56DJ8UZ|      Amazing Amazon|       Good Quality!|    1268697600|2010|   03|    2010|        3|\n",
            "|0000031887| [0, 0]|    5.0|This is a great t...|02 12, 2011|A1KLRMWW2FWPL4|Amazon Customer \"...|Great tutu-  not ...|    1297468800|2011|   02|    2011|        2|\n",
            "|0000031887| [0, 0]|    5.0|Got this for our ...|12 26, 2012|A1GQPAM8Y45QN7|     Amazon Customer|                Tutu|    1356480000|2012|   12|    2012|       12|\n",
            "|0000031887| [0, 0]|    5.0|I bought this for...|01 19, 2013|A2G5TCU2WDFZ65|     Amazon Customer|         Very Cute!!|    1358553600|2013|   01|    2013|        1|\n",
            "|0000031887| [0, 0]|    5.0|Just as described...|06 22, 2013| AEAN37KUOYSX4|     Amazon Customer|          Fantastic!|    1371859200|2013|   06|    2013|        6|\n",
            "|0000031887| [0, 0]|    5.0|Purchased it for ...|06 16, 2014|A1MCJONUQ78L9T|     Amazon Customer|My daughter loved...|    1402876800|2014|   06|    2014|        6|\n",
            "|0000031887| [0, 0]|    5.0|This really is a ...| 03 4, 2013|A2QEODSEIT1ME2|     Amazon Customer|           Very Nice|    1362355200|2013|   03|    2013|        3|\n",
            "|0000031887| [0, 0]|    4.0|Very cute, shorte...|12 10, 2013|A2PSIVW9I3TGHD|     Amazon Customer|        Good product|    1386633600|2013|   12|    2013|       12|\n",
            "|0000031887| [0, 0]|    5.0|Vey cute and perf...|02 18, 2014|A3CHBY0CB0O7PP|     Amazon Customer|                cute|    1392681600|2014|   02|    2014|        2|\n",
            "|0000031887| [2, 3]|    5.0|Bought this for m...| 12 6, 2012| AAE8WBNKHQPL5|     Amazon Customer|Deceivingly Worka...|    1354752000|2012|   12|    2012|       12|\n",
            "|0000031887| [0, 0]|    5.0|Loved it and so d...|11 21, 2012|A1Z4XQ937SMPO3|             amstier|        super cute!!|    1353456000|2012|   11|    2012|       11|\n",
            "|0000031887| [0, 0]|    4.0|I just got this t...|10 24, 2013|A2F9MVWWC0IZYW|                 Amy|Perfect for the p...|    1382572800|2013|   10|    2013|       10|\n",
            "|0000031887| [0, 0]|    5.0|Our 3-year-old pe...|08 24, 2013| AZMKXP68HZ4CN|      Angela K. Ford|          Wonderful!|    1377302400|2013|   08|    2013|        8|\n",
            "|0000031887| [0, 0]|    1.0|It was beautiful ...|04 17, 2014| AV056ETQ5RXLN|      anna alexander|               Cheap|    1397692800|2014|   04|    2014|        4|\n",
            "|0000031887| [0, 0]|    3.0|The waistband was...|12 28, 2012| A5GPS8FCXTPPI|          Ann C Peat|           Waistband|    1356652800|2012|   12|    2012|       12|\n",
            "+----------+-------+-------+--------------------+-----------+--------------+--------------------+--------------------+--------------+----+-----+--------+---------+\n",
            "only showing top 20 rows\n",
            "\n"
          ]
        }
      ]
    },
    {
      "cell_type": "code",
      "metadata": {
        "id": "73QhhI5TYl6G"
      },
      "source": [
        "df_reviews_cleaned4.createOrReplaceTempView('df_reviews_cleaned4')\n"
      ],
      "execution_count": 27,
      "outputs": []
    },
    {
      "cell_type": "code",
      "metadata": {
        "colab": {
          "base_uri": "https://localhost:8080/"
        },
        "id": "J1C1Igu1tGro",
        "outputId": "418a9d2c-ad09-4bed-9b53-fb15cc1dd285"
      },
      "source": [
        "#take max and min year \n",
        "\n",
        "query6= \"\"\"SELECT min(year_int), max(year_int)\n",
        "           FROM df_reviews_cleaned4\n",
        "        \"\"\"\n",
        "\n",
        "min_max_year= spark.sql(query6)\n",
        "min_max_year.show()"
      ],
      "execution_count": null,
      "outputs": [
        {
          "name": "stdout",
          "output_type": "stream",
          "text": [
            "+-------------+-------------+\n",
            "|min(year_int)|max(year_int)|\n",
            "+-------------+-------------+\n",
            "|         1999|         2014|\n",
            "+-------------+-------------+\n",
            "\n"
          ]
        }
      ]
    },
    {
      "cell_type": "code",
      "metadata": {
        "colab": {
          "base_uri": "https://localhost:8080/"
        },
        "id": "ZyC_YyVIXKGV",
        "outputId": "6c9e314c-6a0c-4091-9ea5-2cfe124ea9c3"
      },
      "source": [
        "#take all unique values for years \n",
        "query7= \"\"\"SELECT year_int\n",
        "           FROM df_reviews_cleaned4\n",
        "           GROUP BY year_int\n",
        "           ORDER BY year_int DESC\n",
        "        \"\"\"\n",
        "\n",
        "reviews_by_year= spark.sql(query7)\n",
        "reviews_by_year.show(truncate=False)"
      ],
      "execution_count": null,
      "outputs": [
        {
          "name": "stdout",
          "output_type": "stream",
          "text": [
            "+--------+\n",
            "|year_int|\n",
            "+--------+\n",
            "|2014    |\n",
            "|2013    |\n",
            "|2012    |\n",
            "|2011    |\n",
            "|2010    |\n",
            "|2009    |\n",
            "|2008    |\n",
            "|2007    |\n",
            "|2006    |\n",
            "|2005    |\n",
            "|2004    |\n",
            "|2003    |\n",
            "|2002    |\n",
            "|2001    |\n",
            "|2000    |\n",
            "|1999    |\n",
            "+--------+\n",
            "\n"
          ]
        }
      ]
    },
    {
      "cell_type": "code",
      "metadata": {
        "colab": {
          "base_uri": "https://localhost:8080/"
        },
        "id": "bTgzhs-jtiS0",
        "outputId": "9bb206e0-e743-49c2-957c-66ec2343a4d7"
      },
      "source": [
        "#take all unique values for months \n",
        "query_by_months= \"\"\"SELECT month_int\n",
        "           FROM df_reviews_cleaned4\n",
        "           GROUP BY month_int\n",
        "           ORDER BY month_int DESC\n",
        "        \"\"\"\n",
        "\n",
        "reviews_by_months= spark.sql(query_by_months)\n",
        "reviews_by_months.show(truncate=False)"
      ],
      "execution_count": null,
      "outputs": [
        {
          "output_type": "stream",
          "name": "stdout",
          "text": [
            "+---------+\n",
            "|month_int|\n",
            "+---------+\n",
            "|12       |\n",
            "|11       |\n",
            "|10       |\n",
            "|9        |\n",
            "|8        |\n",
            "|7        |\n",
            "|6        |\n",
            "|5        |\n",
            "|4        |\n",
            "|3        |\n",
            "|2        |\n",
            "|1        |\n",
            "+---------+\n",
            "\n"
          ]
        }
      ]
    },
    {
      "cell_type": "code",
      "metadata": {
        "colab": {
          "base_uri": "https://localhost:8080/"
        },
        "id": "n639m7OcgA0V",
        "outputId": "afa4c64d-a0a6-4a0d-dcb1-122f250bf7ee"
      },
      "source": [
        "#take reviews for 2014 - last year \n",
        "\n",
        "query8 = \"\"\"SELECT *\n",
        "           FROM df_reviews_cleaned4\n",
        "           WHERE (year_int = 2014) \n",
        "         \"\"\"\n",
        "df_last_year= spark.sql(query8)\n",
        "df_last_year.show()"
      ],
      "execution_count": 28,
      "outputs": [
        {
          "output_type": "stream",
          "name": "stdout",
          "text": [
            "+----------+-------+-------+--------------------+-----------+--------------+--------------------+--------------------+--------------+----+-----+--------+---------+\n",
            "|      asin|helpful|overall|          reviewText| reviewTime|    reviewerID|        reviewerName|             summary|unixReviewTime|year|month|year_int|month_int|\n",
            "+----------+-------+-------+--------------------+-----------+--------------+--------------------+--------------------+--------------+----+-----+--------+---------+\n",
            "|0000031887| [0, 0]|    4.0|Bought it for my ...|01 23, 2014|A1P0IHU93EF9ZK|              Amanda|           i love it|    1390435200|2014|   01|    2014|        1|\n",
            "|0000031887| [0, 0]|    5.0|Purchased it for ...|06 16, 2014|A1MCJONUQ78L9T|     Amazon Customer|My daughter loved...|    1402876800|2014|   06|    2014|        6|\n",
            "|0000031887| [0, 0]|    5.0|Vey cute and perf...|02 18, 2014|A3CHBY0CB0O7PP|     Amazon Customer|                cute|    1392681600|2014|   02|    2014|        2|\n",
            "|0000031887| [0, 0]|    1.0|It was beautiful ...|04 17, 2014| AV056ETQ5RXLN|      anna alexander|               Cheap|    1397692800|2014|   04|    2014|        4|\n",
            "|0000031887| [0, 0]|    5.0|The tutu's was fo...|01 15, 2014| AM1CYMR007O6H|         anne foster|              Tutus!|    1389744000|2014|   01|    2014|        1|\n",
            "|0000031887| [0, 0]|    5.0|The tutu was the ...|05 10, 2014|A3QW1I2TL6WBS6|          Avidreader|         Perfect Fit|    1399680000|2014|   05|    2014|        5|\n",
            "|0000031887| [0, 0]|    5.0|I ordered this tu...|01 30, 2014|A2T247H3WD9NS0|Betty Anne \"Betty...|   cute! cute! cute!|    1391040000|2014|   01|    2014|        1|\n",
            "|0000031887| [0, 0]|    5.0|Tutu is always a ...| 01 2, 2014|A1YJJG9T2P6VNS|     bobbie fillmore|                Tutu|    1388620800|2014|   01|    2014|        1|\n",
            "|0000031887| [0, 1]|    4.0|Cute tutus.  Defi...|01 13, 2014|A1D7AK2ZV16V2X|           Busy Mama|                Tutu|    1389571200|2014|   01|    2014|        1|\n",
            "|0000031887| [0, 0]|    5.0|We bought several...|04 27, 2014| A8U3FAMSJVHS5|             Caromcg|    Adorable, Sturdy|    1398556800|2014|   04|    2014|        4|\n",
            "|0000031887| [0, 0]|    5.0|I purchased these...|01 12, 2014| A5T4F8B7XF3AU|       Cathy Cervone|Beautiful & well ...|    1389484800|2014|   01|    2014|        1|\n",
            "|0000031887| [0, 0]|    1.0|my 8 year old dau...| 02 7, 2014|A3F97HTSL814QD|     Christy Gijanto|             bad buy|    1391731200|2014|   02|    2014|        2|\n",
            "|0000031887| [0, 0]|    5.0|Thank you Halo He...|03 15, 2014|A3GEOILWLK86XM|                  CJ|Grammy's Angels L...|    1394841600|2014|   03|    2014|        3|\n",
            "|0000031887| [0, 0]|    4.0|I received this t...|03 31, 2014| A27UF1MSF3DB2|      C-Lo \"Cynthia\"|             It's ok|    1396224000|2014|   03|    2014|        3|\n",
            "|0000031887| [0, 0]|    5.0|I bought this for...| 02 2, 2014|A1YDI7KVXKL5DG|Courtney Matis-Bu...|  Great for dress-up|    1391299200|2014|   02|    2014|        2|\n",
            "|0000031887| [0, 0]|    5.0|Highly recommende...| 01 4, 2014|A2EENASQDJAN1N|                  CP|so great and grea...|    1388793600|2014|   01|    2014|        1|\n",
            "|0000031887| [0, 0]|    1.0|what was sent to ...|05 13, 2014|A1LFDDL85CKP74|     Danielle Morris|       color mix-up!|    1399939200|2014|   05|    2014|        5|\n",
            "|0000031887| [0, 0]|    3.0|This was a one-si...| 01 7, 2014| ATDL69N2MREWP|            danijoy4|Cute but much lar...|    1389052800|2014|   01|    2014|        1|\n",
            "|0000031887| [0, 0]|    5.0|Bought this as a ...| 05 3, 2014|A16GFPNVF4Y816|        design maven|Great for dress-u...|    1399075200|2014|   05|    2014|        5|\n",
            "|0000031887| [0, 0]|    5.0|I wanted it for a...| 04 8, 2014|A1716964DOSFDG|                   D|You get what you ...|    1396915200|2014|   04|    2014|        4|\n",
            "+----------+-------+-------+--------------------+-----------+--------------+--------------------+--------------------+--------------+----+-----+--------+---------+\n",
            "only showing top 20 rows\n",
            "\n"
          ]
        }
      ]
    },
    {
      "cell_type": "code",
      "metadata": {
        "colab": {
          "base_uri": "https://localhost:8080/"
        },
        "id": "-NU_wfdpbeiL",
        "outputId": "3a737a4c-d0bc-4edd-f037-a63592aaf9fb"
      },
      "source": [
        "#analyse reviews for who give name and who don't give the name \n",
        "query9 = \"\"\"SELECT *\n",
        "           FROM df_reviews_cleaned2\n",
        "           WHERE (year_int = 2014) AND (overall='5.0' or overall='4.0')\n",
        "         \"\"\"\n",
        "df_last_year_same_overall = spark.sql(query9)\n",
        "df_last_year_same_overall.show()"
      ],
      "execution_count": null,
      "outputs": [
        {
          "name": "stdout",
          "output_type": "stream",
          "text": [
            "+----------+-------+-------+--------------------+-----------+--------------+--------------------+--------------------+--------------+----+--------+\n",
            "|      asin|helpful|overall|          reviewText| reviewTime|    reviewerID|        reviewerName|             summary|unixReviewTime|year|year_int|\n",
            "+----------+-------+-------+--------------------+-----------+--------------+--------------------+--------------------+--------------+----+--------+\n",
            "|0000031887| [0, 0]|    4.0|Bought it for my ...|01 23, 2014|A1P0IHU93EF9ZK|              Amanda|           i love it|    1390435200|2014|    2014|\n",
            "|0000031887| [0, 0]|    5.0|Purchased it for ...|06 16, 2014|A1MCJONUQ78L9T|     Amazon Customer|My daughter loved...|    1402876800|2014|    2014|\n",
            "|0000031887| [0, 0]|    5.0|Vey cute and perf...|02 18, 2014|A3CHBY0CB0O7PP|     Amazon Customer|                cute|    1392681600|2014|    2014|\n",
            "|0000031887| [0, 0]|    5.0|The tutu's was fo...|01 15, 2014| AM1CYMR007O6H|         anne foster|              Tutus!|    1389744000|2014|    2014|\n",
            "|0000031887| [0, 0]|    5.0|The tutu was the ...|05 10, 2014|A3QW1I2TL6WBS6|          Avidreader|         Perfect Fit|    1399680000|2014|    2014|\n",
            "|0000031887| [0, 0]|    5.0|I ordered this tu...|01 30, 2014|A2T247H3WD9NS0|Betty Anne \"Betty...|   cute! cute! cute!|    1391040000|2014|    2014|\n",
            "|0000031887| [0, 0]|    5.0|Tutu is always a ...| 01 2, 2014|A1YJJG9T2P6VNS|     bobbie fillmore|                Tutu|    1388620800|2014|    2014|\n",
            "|0000031887| [0, 1]|    4.0|Cute tutus.  Defi...|01 13, 2014|A1D7AK2ZV16V2X|           Busy Mama|                Tutu|    1389571200|2014|    2014|\n",
            "|0000031887| [0, 0]|    5.0|We bought several...|04 27, 2014| A8U3FAMSJVHS5|             Caromcg|    Adorable, Sturdy|    1398556800|2014|    2014|\n",
            "|0000031887| [0, 0]|    5.0|I purchased these...|01 12, 2014| A5T4F8B7XF3AU|       Cathy Cervone|Beautiful & well ...|    1389484800|2014|    2014|\n",
            "|0000031887| [0, 0]|    5.0|Thank you Halo He...|03 15, 2014|A3GEOILWLK86XM|                  CJ|Grammy's Angels L...|    1394841600|2014|    2014|\n",
            "|0000031887| [0, 0]|    4.0|I received this t...|03 31, 2014| A27UF1MSF3DB2|      C-Lo \"Cynthia\"|             It's ok|    1396224000|2014|    2014|\n",
            "|0000031887| [0, 0]|    5.0|I bought this for...| 02 2, 2014|A1YDI7KVXKL5DG|Courtney Matis-Bu...|  Great for dress-up|    1391299200|2014|    2014|\n",
            "|0000031887| [0, 0]|    5.0|Highly recommende...| 01 4, 2014|A2EENASQDJAN1N|                  CP|so great and grea...|    1388793600|2014|    2014|\n",
            "|0000031887| [0, 0]|    5.0|Bought this as a ...| 05 3, 2014|A16GFPNVF4Y816|        design maven|Great for dress-u...|    1399075200|2014|    2014|\n",
            "|0000031887| [0, 0]|    5.0|I wanted it for a...| 04 8, 2014|A1716964DOSFDG|                   D|You get what you ...|    1396915200|2014|    2014|\n",
            "|0000031887| [0, 0]|    5.0|This is perfect m...| 06 9, 2014|A28E4JIUJA10DK|               doris|Girl Ballet TuTu Red|    1402272000|2014|    2014|\n",
            "|0000031887| [0, 0]|    5.0|Great price! This...|01 25, 2014|A2DCWJN4ZXC0VR|               Faith|     Wonderful deal!|    1390608000|2014|    2014|\n",
            "|0000031887| [0, 0]|    5.0|I bought this for...| 05 6, 2014|A1SAFJHKTHT5PY|       FL Mom \"Kaar\"|              Great!|    1399334400|2014|    2014|\n",
            "|0000031887| [0, 0]|    4.0|This skirt is SUP...| 05 6, 2014|A3RHTZCFS4A95W|               folam|           Foul odor|    1399334400|2014|    2014|\n",
            "+----------+-------+-------+--------------------+-----------+--------------+--------------------+--------------------+--------------+----+--------+\n",
            "only showing top 20 rows\n",
            "\n"
          ]
        }
      ]
    },
    {
      "cell_type": "code",
      "metadata": {
        "colab": {
          "base_uri": "https://localhost:8080/"
        },
        "id": "dZhZN60-cz11",
        "outputId": "4d8816c3-4f3d-4f00-9f53-437985a85708"
      },
      "source": [
        "query10 = \"\"\"SELECT *\n",
        "           FROM df_reviews_cleaned2\n",
        "           WHERE (year_int = 2014) AND (reviewerName='Amazon Customer')\n",
        "         \"\"\"\n",
        "df_last_year_Amazon_Customer = spark.sql(query10)\n",
        "df_last_year_Amazon_Customer.show()"
      ],
      "execution_count": null,
      "outputs": [
        {
          "name": "stdout",
          "output_type": "stream",
          "text": [
            "+----------+-------+-------+--------------------+-----------+--------------+---------------+--------------------+--------------+----+--------+\n",
            "|      asin|helpful|overall|          reviewText| reviewTime|    reviewerID|   reviewerName|             summary|unixReviewTime|year|year_int|\n",
            "+----------+-------+-------+--------------------+-----------+--------------+---------------+--------------------+--------------+----+--------+\n",
            "|0000031887| [0, 0]|    5.0|Purchased it for ...|06 16, 2014|A1MCJONUQ78L9T|Amazon Customer|My daughter loved...|    1402876800|2014|    2014|\n",
            "|0000031887| [0, 0]|    5.0|Vey cute and perf...|02 18, 2014|A3CHBY0CB0O7PP|Amazon Customer|                cute|    1392681600|2014|    2014|\n",
            "|0123456479| [0, 0]|    5.0|This was a gift f...|02 28, 2014|A16OS5CPJ2N2UA|Amazon Customer|Great little jewe...|    1393545600|2014|    2014|\n",
            "|1617160040| [0, 0]|    4.0|I'm still in one ...| 04 7, 2014|A26P8S9G8NH4X7|Amazon Customer|         Works well.|    1396828800|2014|    2014|\n",
            "|978981528X| [1, 1]|    5.0|I bought the shir...|03 12, 2014| ASDRMN5N6DZMH|Amazon Customer|          Fits Great|    1394582400|2014|    2014|\n",
            "|B00001W0J3| [0, 0]|    5.0|Fits true to size...| 01 5, 2014|A18HO6SGX8TMCY|Amazon Customer|   Fits true to size|    1388880000|2014|    2014|\n",
            "|B00004NKKE| [0, 0]|    5.0|Extra fun because...|01 29, 2014|A314T1U8XM43V6|Amazon Customer|   Great Vintage Toy|    1390953600|2014|    2014|\n",
            "|B00005JSBK| [0, 0]|    4.0|The lock works gr...| 04 8, 2014|A34XHX0TZ8UD6N|Amazon Customer|It does everythin...|    1396915200|2014|    2014|\n",
            "|B00005TQI7| [0, 0]|    4.0|This was a gift f...| 06 3, 2014| A1MCNUATKS34V|Amazon Customer|              A gift|    1401753600|2014|    2014|\n",
            "|B00006I551| [0, 0]|    5.0|Came on time. Sta...| 01 2, 2014| AIGLBK5CORGK5|Amazon Customer|Exactly as advert...|    1388620800|2014|    2014|\n",
            "|B00006XXGO| [0, 0]|    5.0|I got these for m...|06 26, 2014|A2OJOSO06FPJH1|Amazon Customer|             Perfect|    1403740800|2014|    2014|\n",
            "|B00006XXGO| [0, 0]|    4.0|I like the shoes ...| 03 9, 2014| A91UBA63DR914|Amazon Customer|    I like the shoes|    1394323200|2014|    2014|\n",
            "|B00006XXGO| [0, 0]|    4.0|I sent these shoe...|02 21, 2014|A2B3UO8M3LFLYM|Amazon Customer|For those who tak...|    1392940800|2014|    2014|\n",
            "|B00006XXGO| [0, 0]|    4.0|there are somethi...|05 14, 2014| AH8GQKS95EM8H|Amazon Customer|a bit different d...|    1400025600|2014|    2014|\n",
            "|B00006XXGO| [0, 0]|    5.0|There really isn'...|04 14, 2014|A24Z3YVT6YUP0I|Amazon Customer|Chucks for Toddlers!|    1397433600|2014|    2014|\n",
            "|B00006XXGO| [0, 0]|    5.0|These are my son'...|03 27, 2014|A30X5TLWDVR152|Amazon Customer|        Perfect fit.|    1395878400|2014|    2014|\n",
            "|B00006XXGO| [0, 0]|    5.0|These shoes are g...| 02 8, 2014|A2JO0VVTRR6VGF|Amazon Customer|    Love these shoes|    1391817600|2014|    2014|\n",
            "|B0000722HK| [0, 0]|    4.0|Purchased this at...|03 14, 2014|A2ZCRZG8B1NQ79|Amazon Customer|Good brand. Didn'...|    1394755200|2014|    2014|\n",
            "|B000072UMJ| [0, 0]|    5.0|Converse have alw...|01 16, 2014|A2NTCMYQZLMF8J|Amazon Customer|Just what I was l...|    1389830400|2014|    2014|\n",
            "|B000072UMJ| [0, 0]|    4.0|I bought these sh...| 01 9, 2014|A1IDMANLS2WF4C|Amazon Customer|Very pleased with...|    1389225600|2014|    2014|\n",
            "+----------+-------+-------+--------------------+-----------+--------------+---------------+--------------------+--------------+----+--------+\n",
            "only showing top 20 rows\n",
            "\n"
          ]
        }
      ]
    },
    {
      "cell_type": "code",
      "metadata": {
        "colab": {
          "base_uri": "https://localhost:8080/"
        },
        "id": "oW0Rmkf_dQRv",
        "outputId": "22873e95-97fb-4477-e5f5-bf1f9d9a84bc"
      },
      "source": [
        "query11 = \"\"\"SELECT *\n",
        "           FROM df_reviews_cleaned2\n",
        "           WHERE (year_int = 2014) AND (reviewerName <> 'Amazon Customer')\n",
        "         \"\"\"\n",
        "df_last_year_not_Amazon_Customer = spark.sql(query11)\n",
        "df_last_year_not_Amazon_Customer.show()"
      ],
      "execution_count": null,
      "outputs": [
        {
          "name": "stdout",
          "output_type": "stream",
          "text": [
            "+----------+-------+-------+--------------------+-----------+--------------+--------------------+--------------------+--------------+----+--------+\n",
            "|      asin|helpful|overall|          reviewText| reviewTime|    reviewerID|        reviewerName|             summary|unixReviewTime|year|year_int|\n",
            "+----------+-------+-------+--------------------+-----------+--------------+--------------------+--------------------+--------------+----+--------+\n",
            "|0000031887| [0, 0]|    4.0|Bought it for my ...|01 23, 2014|A1P0IHU93EF9ZK|              Amanda|           i love it|    1390435200|2014|    2014|\n",
            "|0000031887| [0, 0]|    1.0|It was beautiful ...|04 17, 2014| AV056ETQ5RXLN|      anna alexander|               Cheap|    1397692800|2014|    2014|\n",
            "|0000031887| [0, 0]|    5.0|The tutu's was fo...|01 15, 2014| AM1CYMR007O6H|         anne foster|              Tutus!|    1389744000|2014|    2014|\n",
            "|0000031887| [0, 0]|    5.0|The tutu was the ...|05 10, 2014|A3QW1I2TL6WBS6|          Avidreader|         Perfect Fit|    1399680000|2014|    2014|\n",
            "|0000031887| [0, 0]|    5.0|I ordered this tu...|01 30, 2014|A2T247H3WD9NS0|Betty Anne \"Betty...|   cute! cute! cute!|    1391040000|2014|    2014|\n",
            "|0000031887| [0, 0]|    5.0|Tutu is always a ...| 01 2, 2014|A1YJJG9T2P6VNS|     bobbie fillmore|                Tutu|    1388620800|2014|    2014|\n",
            "|0000031887| [0, 1]|    4.0|Cute tutus.  Defi...|01 13, 2014|A1D7AK2ZV16V2X|           Busy Mama|                Tutu|    1389571200|2014|    2014|\n",
            "|0000031887| [0, 0]|    5.0|We bought several...|04 27, 2014| A8U3FAMSJVHS5|             Caromcg|    Adorable, Sturdy|    1398556800|2014|    2014|\n",
            "|0000031887| [0, 0]|    5.0|I purchased these...|01 12, 2014| A5T4F8B7XF3AU|       Cathy Cervone|Beautiful & well ...|    1389484800|2014|    2014|\n",
            "|0000031887| [0, 0]|    1.0|my 8 year old dau...| 02 7, 2014|A3F97HTSL814QD|     Christy Gijanto|             bad buy|    1391731200|2014|    2014|\n",
            "|0000031887| [0, 0]|    5.0|Thank you Halo He...|03 15, 2014|A3GEOILWLK86XM|                  CJ|Grammy's Angels L...|    1394841600|2014|    2014|\n",
            "|0000031887| [0, 0]|    4.0|I received this t...|03 31, 2014| A27UF1MSF3DB2|      C-Lo \"Cynthia\"|             It's ok|    1396224000|2014|    2014|\n",
            "|0000031887| [0, 0]|    5.0|I bought this for...| 02 2, 2014|A1YDI7KVXKL5DG|Courtney Matis-Bu...|  Great for dress-up|    1391299200|2014|    2014|\n",
            "|0000031887| [0, 0]|    5.0|Highly recommende...| 01 4, 2014|A2EENASQDJAN1N|                  CP|so great and grea...|    1388793600|2014|    2014|\n",
            "|0000031887| [0, 0]|    1.0|what was sent to ...|05 13, 2014|A1LFDDL85CKP74|     Danielle Morris|       color mix-up!|    1399939200|2014|    2014|\n",
            "|0000031887| [0, 0]|    3.0|This was a one-si...| 01 7, 2014| ATDL69N2MREWP|            danijoy4|Cute but much lar...|    1389052800|2014|    2014|\n",
            "|0000031887| [0, 0]|    5.0|Bought this as a ...| 05 3, 2014|A16GFPNVF4Y816|        design maven|Great for dress-u...|    1399075200|2014|    2014|\n",
            "|0000031887| [0, 0]|    5.0|I wanted it for a...| 04 8, 2014|A1716964DOSFDG|                   D|You get what you ...|    1396915200|2014|    2014|\n",
            "|0000031887| [0, 0]|    1.0|Another example o...| 04 4, 2014|A2SHUHMONLRZAB|   Discerning Viewer|Not a tutu, a sof...|    1396569600|2014|    2014|\n",
            "|0000031887| [0, 0]|    5.0|This is perfect m...| 06 9, 2014|A28E4JIUJA10DK|               doris|Girl Ballet TuTu Red|    1402272000|2014|    2014|\n",
            "+----------+-------+-------+--------------------+-----------+--------------+--------------------+--------------------+--------------+----+--------+\n",
            "only showing top 20 rows\n",
            "\n"
          ]
        }
      ]
    },
    {
      "cell_type": "markdown",
      "metadata": {
        "id": "7cWI_2T4nzFU"
      },
      "source": [
        "I runned these queries to understand something about reviews and try to identify some column that have interesting insights. \n",
        "\n",
        "I decided to reduce the dataFrame considering only the last year (2014) because there are many variables, such as the price or the fashion trand, that could mismatch the reviews meaning for more than 1 year. "
      ]
    },
    {
      "cell_type": "code",
      "metadata": {
        "colab": {
          "base_uri": "https://localhost:8080/"
        },
        "id": "i04oCikXcGHi",
        "outputId": "a6c90bb6-6361-476b-820b-50f1abfdb22a"
      },
      "source": [
        "spark_shape(df_last_year)"
      ],
      "execution_count": null,
      "outputs": [
        {
          "output_type": "execute_result",
          "data": {
            "text/plain": [
              "(1916193, 13)"
            ]
          },
          "metadata": {},
          "execution_count": 26
        }
      ]
    },
    {
      "cell_type": "code",
      "metadata": {
        "id": "WoXlkdrcjgJ_"
      },
      "source": [
        "df_last_year= df_last_year.drop('year_int','month_int')\n",
        "# better to do it later with merged dataframes df_rev_fin= df_last_months.dropDuplicates(['asin','reviewerName','unixReviewTime'])\n"
      ],
      "execution_count": 29,
      "outputs": []
    },
    {
      "cell_type": "code",
      "metadata": {
        "colab": {
          "base_uri": "https://localhost:8080/"
        },
        "id": "e1OyqY4liTWo",
        "outputId": "c03d2066-7aa7-4df4-c126-de0f6b852161"
      },
      "source": [
        "type(df_last_year)\n",
        "df_last_year.dtypes"
      ],
      "execution_count": null,
      "outputs": [
        {
          "output_type": "execute_result",
          "data": {
            "text/plain": [
              "[('asin', 'string'),\n",
              " ('helpful', 'array<bigint>'),\n",
              " ('overall', 'double'),\n",
              " ('reviewText', 'string'),\n",
              " ('reviewTime', 'string'),\n",
              " ('reviewerID', 'string'),\n",
              " ('reviewerName', 'string'),\n",
              " ('summary', 'string'),\n",
              " ('unixReviewTime', 'bigint'),\n",
              " ('year', 'string'),\n",
              " ('month', 'string')]"
            ]
          },
          "metadata": {},
          "execution_count": 28
        }
      ]
    },
    {
      "cell_type": "markdown",
      "metadata": {
        "id": "i3iraShcoe1L"
      },
      "source": [
        "Now I have to merge the two dataFrames and drop duplicates "
      ]
    },
    {
      "cell_type": "code",
      "metadata": {
        "id": "N2IXgXvQi2-z"
      },
      "source": [
        "df_last_year.createOrReplaceTempView('df_last_year')\n",
        "df_prd_cleaned5.createOrReplaceTempView('df_prd_cleaned5')"
      ],
      "execution_count": 36,
      "outputs": []
    },
    {
      "cell_type": "code",
      "metadata": {
        "id": "udfBqTnKZIjG"
      },
      "source": [
        "#merging \n",
        "from pyspark.sql.functions import collect_set\n",
        "merged_data = spark.sql(\"\"\"SELECT r.asin, r.helpful, r.overall, r.reviewText, r.reviewTime, r.reviewerID, r.reviewerName, r.summary, r.unixReviewTime, r.year, r.month, p.categories, p.price, p.title, p.brand\n",
        "                       FROM df_last_year as r INNER JOIN df_prd_cleaned5 as p ON r.asin=p.asin \n",
        "                      \"\"\")"
      ],
      "execution_count": 37,
      "outputs": []
    },
    {
      "cell_type": "code",
      "metadata": {
        "colab": {
          "base_uri": "https://localhost:8080/"
        },
        "id": "eQmKo6tRjT9c",
        "outputId": "65f9ac24-a30f-465c-ab8a-3f6bb1c76e00"
      },
      "source": [
        "type(merged_data)"
      ],
      "execution_count": null,
      "outputs": [
        {
          "output_type": "execute_result",
          "data": {
            "text/plain": [
              "pyspark.sql.dataframe.DataFrame"
            ]
          },
          "metadata": {},
          "execution_count": 31
        }
      ]
    },
    {
      "cell_type": "code",
      "metadata": {
        "id": "DJxzt6Zkjfw1",
        "colab": {
          "base_uri": "https://localhost:8080/"
        },
        "outputId": "51eb8207-f619-451e-fb9d-b467d0e3c552"
      },
      "source": [
        "#check null values for merged_data dataFrame \n",
        "merged_data.select([count(when(col(c).isNull(), c)).alias(c) for c in merged_data.columns]).show()"
      ],
      "execution_count": 87,
      "outputs": [
        {
          "output_type": "stream",
          "name": "stdout",
          "text": [
            "+----+-------+-------+----------+----------+----------+------------+-------+--------------+----+-----+----------+-----+-----+-----+\n",
            "|asin|helpful|overall|reviewText|reviewTime|reviewerID|reviewerName|summary|unixReviewTime|year|month|categories|price|title|brand|\n",
            "+----+-------+-------+----------+----------+----------+------------+-------+--------------+----+-----+----------+-----+-----+-----+\n",
            "|   0|      0|      0|         0|         0|         0|           0|      0|             0|   0|    0|         0|    0|    0|    0|\n",
            "+----+-------+-------+----------+----------+----------+------------+-------+--------------+----+-----+----------+-----+-----+-----+\n",
            "\n"
          ]
        }
      ]
    },
    {
      "cell_type": "code",
      "metadata": {
        "id": "FNVGhJ1eo_cm"
      },
      "source": [
        "merged_data.createOrReplaceTempView('merged_data')"
      ],
      "execution_count": 93,
      "outputs": []
    },
    {
      "cell_type": "code",
      "metadata": {
        "id": "28cIONofjoJz",
        "colab": {
          "base_uri": "https://localhost:8080/"
        },
        "outputId": "414a6765-1cf9-42f3-b4a7-c1467f8df47d"
      },
      "source": [
        "#chenck primary key: the combination asin-reviewText-reviewerName must have not duplicated values; so we have to check for duplicated values \n",
        "check_duplicated_value_for_PK=spark.sql(\"\"\"SELECT COUNT(*)\n",
        "                                           FROM merged_data\n",
        "                                           GROUP BY asin, unixReviewTime, reviewerName\n",
        "                                           Having COUNT(*)> 1\"\"\")\n",
        "check_duplicated_value_for_PK.show()\n",
        "spark_shape(check_duplicated_value_for_PK)"
      ],
      "execution_count": 94,
      "outputs": [
        {
          "output_type": "stream",
          "name": "stdout",
          "text": [
            "+--------+\n",
            "|count(1)|\n",
            "+--------+\n",
            "|       2|\n",
            "|       2|\n",
            "|       2|\n",
            "|       2|\n",
            "|       2|\n",
            "|       2|\n",
            "|       2|\n",
            "|       2|\n",
            "|       2|\n",
            "|       2|\n",
            "|       2|\n",
            "|       2|\n",
            "|       2|\n",
            "|       2|\n",
            "+--------+\n",
            "\n"
          ]
        },
        {
          "output_type": "execute_result",
          "data": {
            "text/plain": [
              "(14, 1)"
            ]
          },
          "metadata": {},
          "execution_count": 94
        }
      ]
    },
    {
      "cell_type": "code",
      "metadata": {
        "id": "7aywgvmEkF5X"
      },
      "source": [
        "#drop duplicates with respect to primary key --- probably duplicates because of inner join \n",
        "merged_data_cleaned = merged_data.dropDuplicates(['asin','reviewerName','unixReviewTime'])\n",
        "#m2= merged_data_cleaned.drop('summary','categories','price')\n"
      ],
      "execution_count": 89,
      "outputs": []
    },
    {
      "cell_type": "code",
      "metadata": {
        "colab": {
          "base_uri": "https://localhost:8080/"
        },
        "id": "rX1oOdd8mWJ2",
        "outputId": "65407820-feca-441e-d66e-55b1befd2f00"
      },
      "source": [
        "spark_shape(merged_data_cleaned)"
      ],
      "execution_count": null,
      "outputs": [
        {
          "output_type": "execute_result",
          "data": {
            "text/plain": [
              "(293701, 15)"
            ]
          },
          "metadata": {},
          "execution_count": 33
        }
      ]
    },
    {
      "cell_type": "markdown",
      "metadata": {
        "id": "wUWnEEzdpWJl"
      },
      "source": [
        "The shape of the merged dataFrame is smaller enough to analyse data in Pandas, so I have to convert sparkDataFrame into PandasDataFrame"
      ]
    },
    {
      "cell_type": "code",
      "metadata": {
        "id": "s5OPCcYllJWs"
      },
      "source": [
        "spark.conf.set(\"spark.sql.execution.arrow.enabled\", \"true\")\n",
        "df_reviews_products= merged_data_cleaned.select(\"*\").toPandas()"
      ],
      "execution_count": 39,
      "outputs": []
    },
    {
      "cell_type": "code",
      "metadata": {
        "colab": {
          "base_uri": "https://localhost:8080/"
        },
        "id": "lGNymAD0e6XJ",
        "outputId": "39336f47-af8c-4db9-e121-61648e380783"
      },
      "source": [
        "df_reviews_products.info()"
      ],
      "execution_count": 40,
      "outputs": [
        {
          "output_type": "stream",
          "name": "stdout",
          "text": [
            "<class 'pandas.core.frame.DataFrame'>\n",
            "RangeIndex: 293701 entries, 0 to 293700\n",
            "Data columns (total 15 columns):\n",
            " #   Column          Non-Null Count   Dtype  \n",
            "---  ------          --------------   -----  \n",
            " 0   asin            293701 non-null  object \n",
            " 1   helpful         293701 non-null  object \n",
            " 2   overall         293701 non-null  float64\n",
            " 3   reviewText      293701 non-null  object \n",
            " 4   reviewTime      293701 non-null  object \n",
            " 5   reviewerID      293701 non-null  object \n",
            " 6   reviewerName    293701 non-null  object \n",
            " 7   summary         293701 non-null  object \n",
            " 8   unixReviewTime  293701 non-null  int64  \n",
            " 9   year            293701 non-null  object \n",
            " 10  month           293701 non-null  object \n",
            " 11  categories      293701 non-null  object \n",
            " 12  price           293701 non-null  float64\n",
            " 13  title           293701 non-null  object \n",
            " 14  brand           293701 non-null  object \n",
            "dtypes: float64(2), int64(1), object(12)\n",
            "memory usage: 33.6+ MB\n"
          ]
        }
      ]
    },
    {
      "cell_type": "code",
      "metadata": {
        "colab": {
          "base_uri": "https://localhost:8080/"
        },
        "id": "7EEM7AtwmOAN",
        "outputId": "c1f3237b-82e3-493c-96f7-9d242db29658"
      },
      "source": [
        "df_reviews_products.shape"
      ],
      "execution_count": null,
      "outputs": [
        {
          "output_type": "execute_result",
          "data": {
            "text/plain": [
              "(293701, 15)"
            ]
          },
          "metadata": {},
          "execution_count": 36
        }
      ]
    },
    {
      "cell_type": "markdown",
      "metadata": {
        "id": "-2__kPiWpmfn"
      },
      "source": [
        "**Aspect Extraction, Word Embedding and Aspect Classification**"
      ]
    },
    {
      "cell_type": "markdown",
      "metadata": {
        "id": "gEZQdfW7pCHS"
      },
      "source": [
        "Following steps: \n",
        "\n",
        "-clean reviewText variables \n",
        "\n",
        "-run GloVe \n",
        "\n",
        "-run the BiGRU-CRF models, the LSTM-CRF model and the CRF model \n"
      ]
    },
    {
      "cell_type": "code",
      "metadata": {
        "colab": {
          "base_uri": "https://localhost:8080/"
        },
        "id": "a1wT_KL8pNPh",
        "outputId": "982806fc-4d6e-462e-e957-306f3f0f3486"
      },
      "source": [
        "print(df_reviews_products.head())\n",
        "print(df_reviews_products.columns)\n",
        "print(df_reviews_products.shape)"
      ],
      "execution_count": null,
      "outputs": [
        {
          "output_type": "stream",
          "name": "stdout",
          "text": [
            "         asin  ...               brand\n",
            "0  1848572972  ...  Little Tiger Press\n",
            "1  8921463267  ...         Hello Kitty\n",
            "2  B000034DLG  ...               elope\n",
            "3  B000034DLG  ...               elope\n",
            "4  B00004U1J2  ...              Disney\n",
            "\n",
            "[5 rows x 15 columns]\n",
            "Index(['asin', 'helpful', 'overall', 'reviewText', 'reviewTime', 'reviewerID',\n",
            "       'reviewerName', 'summary', 'unixReviewTime', 'year', 'month',\n",
            "       'categories', 'price', 'title', 'brand'],\n",
            "      dtype='object')\n",
            "(293701, 15)\n"
          ]
        }
      ]
    },
    {
      "cell_type": "code",
      "metadata": {
        "colab": {
          "base_uri": "https://localhost:8080/"
        },
        "id": "sces8vN8p3lK",
        "outputId": "d0f33328-1164-4c79-ee02-191ce58d7dc2"
      },
      "source": [
        "#check rating values and balancing \n",
        "def rating_sentiment(value):\n",
        "  if (int(value) == 1 or int(value) == 2):\n",
        "    return \"Negative\"\n",
        "  if (int(value) == 3): \n",
        "    return \"Neutral\"\n",
        "  else:\n",
        "    return \"Positive\"\n",
        "\n",
        "sentiment_overall  = df_reviews_products.overall.apply(rating_sentiment)\n",
        "sentiment_overall.value_counts()\n"
      ],
      "execution_count": 98,
      "outputs": [
        {
          "output_type": "execute_result",
          "data": {
            "text/plain": [
              "Positive    220172\n",
              "Negative    44623 \n",
              "Neutral     28906 \n",
              "Name: overall, dtype: int64"
            ]
          },
          "metadata": {},
          "execution_count": 98
        }
      ]
    },
    {
      "cell_type": "code",
      "metadata": {
        "id": "eVyHK8CiZCQL"
      },
      "source": [
        "#since the dataset is not balanced, I'll randomly choose same number of positive and negative overall values (and as a consequence rows associated)"
      ],
      "execution_count": null,
      "outputs": []
    },
    {
      "cell_type": "markdown",
      "metadata": {
        "id": "5iUuWtwSiA8w"
      },
      "source": [
        "In 2014 ratingd between 4 and 5 are much more, so I expect that reviews are positive. I think that I have to balance the number of positive and negative reviews, because a dataset so unbalanced can cause issues. But I see before the results. "
      ]
    },
    {
      "cell_type": "markdown",
      "metadata": {
        "id": "d-utLs3wOh2t"
      },
      "source": [
        "We will remove stop words from all the reviews. "
      ]
    },
    {
      "cell_type": "code",
      "metadata": {
        "colab": {
          "base_uri": "https://localhost:8080/"
        },
        "id": "9nLxB_dP16QQ",
        "outputId": "2bbd2d20-fc1b-4564-fe54-e18535aa93b8"
      },
      "source": [
        "#lower case for reviews  if it is not a stopword \n",
        "import nltk\n",
        "nltk.download('stopwords')\n",
        "from nltk.corpus import stopwords\n",
        "\n",
        "stop = set(stopwords.words(\"english\"))\n",
        "\n",
        "\n",
        "def remove_stopwords(text):\n",
        "    text = [word.lower() for word in text.split() if word.lower() not in stop]\n",
        "\n",
        "    return \" \".join(text)\n",
        "\n"
      ],
      "execution_count": 42,
      "outputs": [
        {
          "output_type": "stream",
          "name": "stdout",
          "text": [
            "[nltk_data] Downloading package stopwords to /root/nltk_data...\n",
            "[nltk_data]   Unzipping corpora/stopwords.zip.\n"
          ]
        }
      ]
    },
    {
      "cell_type": "code",
      "metadata": {
        "id": "zA6qaiPz2JbA"
      },
      "source": [
        "df_reviews_products['reviewText'] = df_reviews_products['reviewText'].map(remove_stopwords)"
      ],
      "execution_count": 43,
      "outputs": []
    },
    {
      "cell_type": "code",
      "metadata": {
        "colab": {
          "base_uri": "https://localhost:8080/"
        },
        "id": "O1ocMHa02am1",
        "outputId": "3db90838-d761-4bc9-88b9-0f358fea56ce"
      },
      "source": [
        "df_reviews_products.reviewText"
      ],
      "execution_count": null,
      "outputs": [
        {
          "output_type": "execute_result",
          "data": {
            "text/plain": [
              "0         short book that's great infant young toddler. ...\n",
              "1         shoes extremely pretty. pink like pictured, sa...\n",
              "2         bought home preschool well pleased.they well m...\n",
              "3         son dress school insect day! absolutely adorab...\n",
              "4         spots elastic joined soft vinyl tore days wear...\n",
              "                                ...                        \n",
              "293696    first all, watch pictured dz1657, dz4323, surp...\n",
              "293697         perfect durable. bought take vacation beach!\n",
              "293698                                 ok quality expected.\n",
              "293699    runs small, definitely shorter shows on-line. ...\n",
              "293700                              great looking backpack!\n",
              "Name: reviewText, Length: 293701, dtype: object"
            ]
          },
          "metadata": {},
          "execution_count": 38
        }
      ]
    },
    {
      "cell_type": "markdown",
      "metadata": {
        "id": "T1Ct_347nsAc"
      },
      "source": [
        "explaination of the code: https://towardsdatascience.com/sentiment-analysis-using-lstm-and-glove-embeddings-99223a87fe8e\n",
        "\n",
        "\n",
        "\n",
        "\n",
        "\n",
        "\n",
        "\n",
        "Remove tags and punctuation \n",
        "\n",
        "\n"
      ]
    },
    {
      "cell_type": "code",
      "metadata": {
        "id": "KhVOTY9sOwcI"
      },
      "source": [
        "def remove_tags(string):\n",
        "    result = re.sub('<.*?>','',string)\n",
        "    return result\n",
        "    \n",
        "df_reviews_products['reviewText']= df_reviews_products['reviewText'].apply(lambda cw : remove_tags(cw))\n",
        "df_reviews_products['reviewText']= df_reviews_products['reviewText'].str.replace('[{}]'.format(string.punctuation), ' ')"
      ],
      "execution_count": 44,
      "outputs": []
    },
    {
      "cell_type": "code",
      "metadata": {
        "id": "2Rv_Fx0cRmnS"
      },
      "source": [
        "df_reviews_products['overall']= df_reviews_products['overall'].astype(int)"
      ],
      "execution_count": 45,
      "outputs": []
    },
    {
      "cell_type": "code",
      "metadata": {
        "colab": {
          "base_uri": "https://localhost:8080/"
        },
        "id": "rccUIERASiOj",
        "outputId": "73b86501-6eff-4b0d-f007-f63eff85887e"
      },
      "source": [
        "reviews = df_reviews_products['reviewText']\n",
        "reviews"
      ],
      "execution_count": 96,
      "outputs": [
        {
          "output_type": "execute_result",
          "data": {
            "text/plain": [
              "0         short book that s great infant young toddler  pictures catch attention little one  naturally  love makes sounds  imagine daughter s dismay stopped making kissing sounds day got it  no  one kids sits incessantly pushes buttons batteries run immediately  got new batteries replace  takes 3 small calculator batteries   hoping problem batteries old replaced three  guess what  worked 10 button presses stopped again  since large pack batteries  one replacement daughter begged months later  thing   a handful button pushes nothing  daughter wants throw book trash  hardly blame her                                                                                                                                                                                                                                                                                                                                                                                                                                                                                                                                                                                                                                                                                                                                       \n",
              "1         shoes extremely pretty  pink like pictured  salmon colored  looking great  light  made good rubber material  problem  edges straps sharp impossible wear  give nasty cuts  wore around house today cuts toes  shame pretty they re made great quality rubber  wish would make edges different way                                                                                                                                                                                                                                                                                                                                                                                                                                                                                                                                                                                                                                                                                                                                                                                                                                                                                                                                                                                                                                        \n",
              "2         bought home preschool well pleased they well made  also purchased ant bee one  big hit school  fun way teach little ones insects                                                                                                                                                                                                                                                                                                                                                                                                                                                                                                                                                                                                                                                                                                                                                                                                                                                                                                                                                                                                                                                                                                                                                                                                         \n",
              "3         son dress school insect day  absolutely adorable  well made  cant wait wear it                                                                                                                                                                                                                                                                                                                                                                                                                                                                                                                                                                                                                                                                                                                                                                                                                                                                                                                                                                                                                                                                                                                                                                                                                                                           \n",
              "4         spots elastic joined soft vinyl tore days wear  cheaply made wish better  kid loved lasted                                                                                                                                                                                                                                                                                                                                                                                                                                                                                                                                                                                                                                                                                                                                                                                                                                                                                                                                                                                                                                                                                                                                                                                                                                               \n",
              "                                                     ...                                                                                                                                                                                                                                                                                                                                                                                                                                                                                                                                                                                                                                                                                                                                                                                                                                                                                                                                                                                                                                                                                                                                                                                                                                                                                           \n",
              "293696    first all  watch pictured dz1657  dz4323  surprised get watch pictured  no sub dials   review dz4323  pictured here before getting horrible technical design watch must say far coolest watch i ve ever seen  in terms pure looks   looks far better person picture  blue almost glows  cool  but  whoever designed   34 tick marks  34  watch complete idiot first  1 10 second sub dial 12 ticks   twelve    obviously 10 supposed measuring 1 10 second  1 12  designer obviously used sub dials second minute ones without even thinking it  moron  since every 1 2 rotation 1 10 second sub dial 1 second  tick 0 16666 second instead 0 1  i m going get math calculate 1 10 second watch  annoying  easy  unnecessary  second  instead 4 ticks hour mark  making 60 ticks way around  1 second  7    seven   could understand 9  making tick half second  seven   makes second hand completely useless telling time  means second hand never land directly tick  this  can t use ticks tell many seconds elapsed current minute like said  absolutely gorgeous watch  true sight sore eyes  completely useless telling time want measure anything smaller minutes  seriously diesel  embarrassing  designers stupid  care  pay sort attention they re doing this could god tier 5 5 watch  diesel totally blew it  way go  idiots \n",
              "293697    perfect durable  bought take vacation beach                                                                                                                                                                                                                                                                                                                                                                                                                                                                                                                                                                                                                                                                                                                                                                                                                                                                                                                                                                                                                                                                                                                                                                                                                                                                                              \n",
              "293698    ok quality expected                                                                                                                                                                                                                                                                                                                                                                                                                                                                                                                                                                                                                                                                                                                                                                                                                                                                                                                                                                                                                                                                                                                                                                                                                                                                                                                      \n",
              "293699    runs small  definitely shorter shows on line  tall  like me  hits knee  modest enough  sure wear tight fitting  shorter garment  remain aware movements  bend over    true blue see on line lovely pair blue heels perfect match  fabric substantial darker colors hides underwear usually shines lighter colors  purchased usual size large small  returned  loved look much returning large re ordered xl instead  like pencil style look  perfect pencil silouette  is  opinion  good enough office attire  especially complimentary colored blazer  alone                                                                                                                                                                                                                                                                                                                                                                                                                                                                                                                                                                                                                                                                                                                                                                            \n",
              "293700    great looking backpack                                                                                                                                                                                                                                                                                                                                                                                                                                                                                                                                                                                                                                                                                                                                                                                                                                                                                                                                                                                                                                                                                                                                                                                                                                                                                                                   \n",
              "Name: reviewText, Length: 293701, dtype: object"
            ]
          },
          "metadata": {},
          "execution_count": 96
        }
      ]
    },
    {
      "cell_type": "markdown",
      "metadata": {
        "id": "hhY10fx8tXuG"
      },
      "source": [
        "Create sequences and label"
      ]
    },
    {
      "cell_type": "code",
      "metadata": {
        "colab": {
          "base_uri": "https://localhost:8080/"
        },
        "id": "cEZDYePrP7-I",
        "outputId": "df301219-dc9f-4a63-c47f-fce5e213cdf5"
      },
      "source": [
        "#review list and sentiment are useful to then compute training and test set \n",
        "#create a list for reviews and sentiment about reviews -- the list could be useful to make descriptive analysis later on \n",
        "for i in range(len(reviews)):\n",
        "  reviews_list.append(reviews[i])\n",
        "\n",
        "sentiment = df_reviews_products['overall']\n",
        "\n",
        "sentiment.value_counts()"
      ],
      "execution_count": 97,
      "outputs": [
        {
          "output_type": "execute_result",
          "data": {
            "text/plain": [
              "5    166180\n",
              "4    53992 \n",
              "3    28906 \n",
              "1    26639 \n",
              "2    17984 \n",
              "Name: overall, dtype: int64"
            ]
          },
          "metadata": {},
          "execution_count": 97
        }
      ]
    },
    {
      "cell_type": "code",
      "metadata": {
        "colab": {
          "base_uri": "https://localhost:8080/",
          "height": 90
        },
        "id": "0gbsR-pg42v2",
        "outputId": "858b54ec-63e1-47f4-cd42-77788f0231df"
      },
      "source": [
        "reviews_list[0]"
      ],
      "execution_count": null,
      "outputs": [
        {
          "output_type": "execute_result",
          "data": {
            "application/vnd.google.colaboratory.intrinsic+json": {
              "type": "string"
            },
            "text/plain": [
              "'short book that s great infant young toddler  pictures catch attention little one  naturally  love makes sounds  imagine daughter s dismay stopped making kissing sounds day got it  no  one kids sits incessantly pushes buttons batteries run immediately  got new batteries replace  takes 3 small calculator batteries   hoping problem batteries old replaced three  guess what  worked 10 button presses stopped again  since large pack batteries  one replacement daughter begged months later  thing   a handful button pushes nothing  daughter wants throw book trash  hardly blame her '"
            ]
          },
          "metadata": {},
          "execution_count": 144
        }
      ]
    },
    {
      "cell_type": "markdown",
      "metadata": {
        "id": "9NltJmYVrtFK"
      },
      "source": [
        "Counting words contained in the reviews "
      ]
    },
    {
      "cell_type": "code",
      "metadata": {
        "id": "biKMNHXgux5W"
      },
      "source": [
        "#count unique words \n",
        "from collections import Counter\n",
        "\n",
        "# Count unique words\n",
        "def counter_word(text):\n",
        "    count = Counter()\n",
        "    for i in text.values:\n",
        "        for word in i.split():\n",
        "            count[word] += 1\n",
        "    return count"
      ],
      "execution_count": 99,
      "outputs": []
    },
    {
      "cell_type": "code",
      "metadata": {
        "colab": {
          "base_uri": "https://localhost:8080/"
        },
        "id": "DcWVJ_95u5Lc",
        "outputId": "2d96663f-5f5e-4515-9bc1-42dd5f9bd579"
      },
      "source": [
        "#unique words count (non total words count)\n",
        "text= reviews\n",
        "counter = counter_word(text)\n",
        "len(counter)"
      ],
      "execution_count": 100,
      "outputs": [
        {
          "output_type": "execute_result",
          "data": {
            "text/plain": [
              "78151"
            ]
          },
          "metadata": {},
          "execution_count": 100
        }
      ]
    },
    {
      "cell_type": "code",
      "metadata": {
        "colab": {
          "base_uri": "https://localhost:8080/"
        },
        "id": "fvEvziBYvdOx",
        "outputId": "adfdb667-25b5-40e5-c582-432efdcb563e"
      },
      "source": [
        "#maybe try to put count of words in ascending order\n",
        "type(counter)\n",
        "counter"
      ],
      "execution_count": 101,
      "outputs": [
        {
          "output_type": "execute_result",
          "data": {
            "text/plain": [
              "Counter({'short': 5156,\n",
              "         'book': 1153,\n",
              "         'that': 12126,\n",
              "         's': 32570,\n",
              "         'great': 74336,\n",
              "         'infant': 187,\n",
              "         'young': 1087,\n",
              "         'toddler': 582,\n",
              "         'pictures': 2338,\n",
              "         'catch': 552,\n",
              "         'attention': 1338,\n",
              "         'little': 32441,\n",
              "         'one': 62637,\n",
              "         'naturally': 148,\n",
              "         'love': 52965,\n",
              "         'makes': 7874,\n",
              "         'sounds': 351,\n",
              "         'imagine': 779,\n",
              "         'daughter': 10621,\n",
              "         'dismay': 32,\n",
              "         'stopped': 1524,\n",
              "         'making': 2486,\n",
              "         'kissing': 4,\n",
              "         'day': 18200,\n",
              "         'got': 26256,\n",
              "         'it': 76081,\n",
              "         'no': 1691,\n",
              "         'kids': 3416,\n",
              "         'sits': 649,\n",
              "         'incessantly': 8,\n",
              "         'pushes': 85,\n",
              "         'buttons': 1691,\n",
              "         'batteries': 1728,\n",
              "         'run': 3234,\n",
              "         'immediately': 1745,\n",
              "         'new': 11372,\n",
              "         'replace': 3593,\n",
              "         'takes': 1970,\n",
              "         '3': 11437,\n",
              "         'small': 28589,\n",
              "         'calculator': 206,\n",
              "         'hoping': 1980,\n",
              "         'problem': 7383,\n",
              "         'old': 14024,\n",
              "         'replaced': 1767,\n",
              "         'three': 4283,\n",
              "         'guess': 3667,\n",
              "         'what': 1370,\n",
              "         'worked': 5155,\n",
              "         '10': 5942,\n",
              "         'button': 2496,\n",
              "         'presses': 47,\n",
              "         'again': 7762,\n",
              "         'since': 10194,\n",
              "         'large': 14822,\n",
              "         'pack': 3420,\n",
              "         'replacement': 3083,\n",
              "         'begged': 23,\n",
              "         'months': 6462,\n",
              "         'later': 2021,\n",
              "         'thing': 10714,\n",
              "         'a': 2251,\n",
              "         'handful': 88,\n",
              "         'nothing': 4819,\n",
              "         'wants': 1436,\n",
              "         'throw': 1015,\n",
              "         'trash': 483,\n",
              "         'hardly': 664,\n",
              "         'blame': 138,\n",
              "         'her': 1777,\n",
              "         'shoes': 8098,\n",
              "         'extremely': 3708,\n",
              "         'pretty': 15792,\n",
              "         'pink': 2808,\n",
              "         'like': 68813,\n",
              "         'pictured': 2499,\n",
              "         'salmon': 31,\n",
              "         'colored': 1013,\n",
              "         'looking': 22365,\n",
              "         'light': 13699,\n",
              "         'made': 26991,\n",
              "         'good': 55409,\n",
              "         'rubber': 2119,\n",
              "         'material': 11763,\n",
              "         'edges': 853,\n",
              "         'straps': 3828,\n",
              "         'sharp': 1205,\n",
              "         'impossible': 962,\n",
              "         'wear': 34836,\n",
              "         'give': 7506,\n",
              "         'nasty': 157,\n",
              "         'cuts': 198,\n",
              "         'wore': 5462,\n",
              "         'around': 13138,\n",
              "         'house': 2071,\n",
              "         'today': 2027,\n",
              "         'toes': 654,\n",
              "         'shame': 402,\n",
              "         'they': 7557,\n",
              "         're': 5856,\n",
              "         'quality': 36376,\n",
              "         'wish': 6999,\n",
              "         'would': 54344,\n",
              "         'make': 12100,\n",
              "         'different': 9675,\n",
              "         'way': 14901,\n",
              "         'bought': 34634,\n",
              "         'home': 2391,\n",
              "         'preschool': 91,\n",
              "         'well': 46023,\n",
              "         'pleased': 5809,\n",
              "         'also': 23968,\n",
              "         'purchased': 12267,\n",
              "         'ant': 47,\n",
              "         'bee': 74,\n",
              "         'big': 22364,\n",
              "         'hit': 2143,\n",
              "         'school': 3643,\n",
              "         'fun': 4893,\n",
              "         'teach': 95,\n",
              "         'ones': 4759,\n",
              "         'insects': 9,\n",
              "         'son': 8476,\n",
              "         'dress': 9312,\n",
              "         'insect': 14,\n",
              "         'absolutely': 5773,\n",
              "         'adorable': 2362,\n",
              "         'cant': 1477,\n",
              "         'wait': 3213,\n",
              "         'spots': 455,\n",
              "         'elastic': 1779,\n",
              "         'joined': 34,\n",
              "         'soft': 7135,\n",
              "         'vinyl': 250,\n",
              "         'tore': 375,\n",
              "         'days': 8135,\n",
              "         'cheaply': 1958,\n",
              "         'better': 15669,\n",
              "         'kid': 1332,\n",
              "         'loved': 13521,\n",
              "         'lasted': 1649,\n",
              "         'inflatable': 40,\n",
              "         'wings': 417,\n",
              "         'put': 13819,\n",
              "         'arms': 1354,\n",
              "         'extravagant': 15,\n",
              "         'loves': 14790,\n",
              "         'them': 16901,\n",
              "         'annoyance': 103,\n",
              "         'plug': 131,\n",
              "         'stay': 4281,\n",
              "         'consistantly': 1,\n",
              "         'same': 693,\n",
              "         'found': 6961,\n",
              "         'beach': 1119,\n",
              "         'ball': 717,\n",
              "         'package': 3150,\n",
              "         'arrived': 8955,\n",
              "         'safely': 186,\n",
              "         'time': 43867,\n",
              "         'pos': 37,\n",
              "         'think': 12060,\n",
              "         'junk': 961,\n",
              "         'super': 7750,\n",
              "         'low': 3729,\n",
              "         'exactly': 9445,\n",
              "         'wanted': 11661,\n",
              "         'needed': 8572,\n",
              "         'advertised': 2140,\n",
              "         'purple': 1500,\n",
              "         'outside': 3783,\n",
              "         'packaging': 2089,\n",
              "         'versus': 147,\n",
              "         'actual': 1655,\n",
              "         'huge': 3959,\n",
              "         'deal': 4842,\n",
              "         'blowup': 2,\n",
              "         'stand': 1840,\n",
              "         'older': 1212,\n",
              "         'child': 2566,\n",
              "         'plastic': 7418,\n",
              "         'children': 1091,\n",
              "         'enjoy': 1748,\n",
              "         'thank': 4479,\n",
              "         'much': 24794,\n",
              "         'best': 8668,\n",
              "         'buy': 23528,\n",
              "         'something': 10103,\n",
              "         'else': 3556,\n",
              "         'you': 5713,\n",
              "         'awesome': 6431,\n",
              "         'gold': 4689,\n",
              "         'star': 3071,\n",
              "         'second': 6865,\n",
              "         'we': 1890,\n",
              "         've': 15006,\n",
              "         'first': 16618,\n",
              "         'popped': 375,\n",
              "         'tend': 932,\n",
              "         'kind': 4386,\n",
              "         'hard': 8431,\n",
              "         'toys': 462,\n",
              "         'depend': 76,\n",
              "         'rough': 1126,\n",
              "         'plays': 392,\n",
              "         'year': 12686,\n",
              "         'sturdy': 7025,\n",
              "         'air': 1446,\n",
              "         'filked': 1,\n",
              "         'toy': 959,\n",
              "         'recommend': 22295,\n",
              "         'nephew': 768,\n",
              "         'halloween': 2531,\n",
              "         'played': 242,\n",
              "         'buzz': 33,\n",
              "         'weeks': 4466,\n",
              "         'afterward': 40,\n",
              "         'terrific': 418,\n",
              "         'item': 10098,\n",
              "         'grandson': 1940,\n",
              "         'this': 9333,\n",
              "         'starting': 642,\n",
              "         'tear': 1056,\n",
              "         'away': 4753,\n",
              "         'couple': 5027,\n",
              "         'expensive': 5477,\n",
              "         'probably': 5733,\n",
              "         'constantly': 1179,\n",
              "         'running': 2693,\n",
              "         'playground': 20,\n",
              "         'slides': 340,\n",
              "         'swings': 25,\n",
              "         'christmas': 6321,\n",
              "         'present': 2261,\n",
              "         'represented': 99,\n",
              "         'blow': 210,\n",
              "         'holes': 1996,\n",
              "         'go': 12946,\n",
              "         'sons': 438,\n",
              "         'costume': 8532,\n",
              "         'slowly': 173,\n",
              "         'loose': 3606,\n",
              "         'back': 18588,\n",
              "         'play': 2412,\n",
              "         'last': 9990,\n",
              "         'two': 14417,\n",
              "         'gentle': 308,\n",
              "         'say': 8700,\n",
              "         'though': 11103,\n",
              "         'turned': 1367,\n",
              "         'hold': 7781,\n",
              "         'cut': 3006,\n",
              "         'banged': 144,\n",
              "         'died': 533,\n",
              "         'acceptable': 304,\n",
              "         'him': 1415,\n",
              "         'loop': 787,\n",
              "         'holding': 1965,\n",
              "         'bands': 2141,\n",
              "         'ripped': 1208,\n",
              "         'less': 5243,\n",
              "         '1': 7780,\n",
              "         'month': 4459,\n",
              "         'keep': 12243,\n",
              "         'trying': 2821,\n",
              "         'fix': 1852,\n",
              "         'temp': 203,\n",
              "         'fixes': 59,\n",
              "         'work': 17913,\n",
              "         'playing': 825,\n",
              "         'characters': 179,\n",
              "         'right': 13853,\n",
              "         'inexpensive': 2413,\n",
              "         'piece': 7176,\n",
              "         'add': 2350,\n",
              "         'coatume': 1,\n",
              "         'pieces': 2289,\n",
              "         'set': 9048,\n",
              "         'jet': 91,\n",
              "         'birthday': 4334,\n",
              "         'still': 19058,\n",
              "         'he': 2090,\n",
              "         'flying': 398,\n",
              "         'on': 9243,\n",
              "         'accident': 213,\n",
              "         'repair': 1439,\n",
              "         'puncture': 18,\n",
              "         'going': 9614,\n",
              "         'to': 2902,\n",
              "         'infinity': 121,\n",
              "         'beyond': 686,\n",
              "         'excellent': 6379,\n",
              "         'story': 302,\n",
              "         'fan': 2996,\n",
              "         'hole': 1823,\n",
              "         'wing': 94,\n",
              "         'ordered': 14648,\n",
              "         'advance': 175,\n",
              "         'opened': 2459,\n",
              "         'gift': 15352,\n",
              "         'couldnt': 215,\n",
              "         'return': 5858,\n",
              "         'anymore': 961,\n",
              "         'solution': 590,\n",
              "         'sew': 448,\n",
              "         'many': 11590,\n",
              "         'times': 5508,\n",
              "         'stitches': 138,\n",
              "         'weak': 609,\n",
              "         'i': 64358,\n",
              "         'm': 24876,\n",
              "         'adult': 1628,\n",
              "         'obviously': 890,\n",
              "         'bit': 15723,\n",
              "         'want': 11368,\n",
              "         'durable': 6273,\n",
              "         'party': 3415,\n",
              "         'shoulder': 2987,\n",
              "         'sewn': 803,\n",
              "         'take': 9437,\n",
              "         'long': 15296,\n",
              "         'rip': 779,\n",
              "         'fits': 17831,\n",
              "         'size': 35253,\n",
              "         '6': 6173,\n",
              "         'holds': 4543,\n",
              "         'lots': 4381,\n",
              "         'use': 27365,\n",
              "         'price': 36177,\n",
              "         'strap': 9938,\n",
              "         'broke': 6201,\n",
              "         'shortly': 199,\n",
              "         'gone': 1019,\n",
              "         'recieved': 491,\n",
              "         'promptly': 546,\n",
              "         'bad': 6540,\n",
              "         'came': 13588,\n",
              "         'really': 37901,\n",
              "         'easily': 8207,\n",
              "         'fair': 808,\n",
              "         'save': 1287,\n",
              "         'money': 11374,\n",
              "         'cap': 2439,\n",
              "         'included': 1155,\n",
              "         'overwhelms': 7,\n",
              "         'smell': 2525,\n",
              "         'chemicals': 193,\n",
              "         'let': 2899,\n",
              "         'expected': 13353,\n",
              "         'masks': 432,\n",
              "         'needs': 3886,\n",
              "         'robe': 559,\n",
              "         'collar': 433,\n",
              "         'provided': 652,\n",
              "         'look': 28572,\n",
              "         'alien': 44,\n",
              "         'mask': 3920,\n",
              "         'all': 8446,\n",
              "         'thin': 6318,\n",
              "         'crispy': 7,\n",
              "         'covers': 1127,\n",
              "         'face': 14425,\n",
              "         'comfortable': 15759,\n",
              "         'green': 2800,\n",
              "         'bug': 171,\n",
              "         'eye': 2144,\n",
              "         'glasses': 10344,\n",
              "         'amazon': 11583,\n",
              "         'white': 5351,\n",
              "         'instead': 3826,\n",
              "         'wearing': 11522,\n",
              "         'compliments': 7548,\n",
              "         'come': 6758,\n",
              "         'gloves': 3121,\n",
              "         'used': 13724,\n",
              "         'winter': 2994,\n",
              "         'already': 4479,\n",
              "         'had': 1177,\n",
              "         'fine': 8555,\n",
              "         'chilly': 147,\n",
              "         'person': 4643,\n",
              "         'might': 5180,\n",
              "         'particular': 1053,\n",
              "         'watch': 114208,\n",
              "         'worth': 10220,\n",
              "         '5': 16251,\n",
              "         'paid': 4016,\n",
              "         'waterproof': 1336,\n",
              "         'sold': 1128,\n",
              "         'such': 335,\n",
              "         'restaurant': 107,\n",
              "         'dig': 383,\n",
              "         'watched': 218,\n",
              "         'wrist': 10606,\n",
              "         'tub': 104,\n",
              "         'soaking': 86,\n",
              "         'dishes': 119,\n",
              "         'comes': 4367,\n",
              "         'shining': 121,\n",
              "         'every': 9495,\n",
              "         'smashed': 166,\n",
              "         'drenched': 33,\n",
              "         'badboy': 1,\n",
              "         'anyone': 6302,\n",
              "         'knows': 444,\n",
              "         'now': 4504,\n",
              "         'cheap': 14606,\n",
              "         'could': 15247,\n",
              "         'stopwatch': 663,\n",
              "         'track': 652,\n",
              "         'workouts': 184,\n",
              "         'fills': 136,\n",
              "         'need': 14143,\n",
              "         'perfectly': 8689,\n",
              "         'highly': 6335,\n",
              "         'similar': 2443,\n",
              "         'stays': 1355,\n",
              "         'feather': 253,\n",
              "         'feel': 9711,\n",
              "         'stole': 111,\n",
              "         'simple': 4394,\n",
              "         'easy': 18315,\n",
              "         'function': 1899,\n",
              "         '2': 15302,\n",
              "         'lap': 280,\n",
              "         'split': 369,\n",
              "         'water': 6079,\n",
              "         'resistant': 1459,\n",
              "         '4': 9201,\n",
              "         'lightweight': 2931,\n",
              "         'slim': 1183,\n",
              "         'plus': 4245,\n",
              "         'affordable': 1199,\n",
              "         'off': 6250,\n",
              "         'feels': 4987,\n",
              "         'removing': 587,\n",
              "         'appendage': 7,\n",
              "         'product': 22650,\n",
              "         'profile': 415,\n",
              "         'barley': 45,\n",
              "         'noticeable': 720,\n",
              "         'cool': 5945,\n",
              "         'male': 420,\n",
              "         'maybe': 4370,\n",
              "         'smaller': 7672,\n",
              "         'average': 1928,\n",
              "         'perfect': 27542,\n",
              "         'works': 10472,\n",
              "         'besides': 690,\n",
              "         'review': 3075,\n",
              "         'outdoor': 578,\n",
              "         'activities': 488,\n",
              "         'skiing': 231,\n",
              "         'hiking': 746,\n",
              "         'camping': 355,\n",
              "         'etc': 3925,\n",
              "         'resist': 191,\n",
              "         'tells': 537,\n",
              "         '34': 36815,\n",
              "         'downside': 731,\n",
              "         'utilitarian': 74,\n",
              "         'somewhat': 1549,\n",
              "         'fashionable': 817,\n",
              "         'retro': 404,\n",
              "         'amazingly': 333,\n",
              "         'keeps': 5741,\n",
              "         'accurately': 327,\n",
              "         'act': 112,\n",
              "         'alarm': 1521,\n",
              "         'hour': 2221,\n",
              "         'chime': 86,\n",
              "         'leave': 1461,\n",
              "         'wallet': 11602,\n",
              "         'blingy': 89,\n",
              "         'bauble': 8,\n",
              "         'can': 10802,\n",
              "         't': 13781,\n",
              "         'wrong': 3670,\n",
              "         'casio': 3146,\n",
              "         'f': 285,\n",
              "         '91w': 12,\n",
              "         'impress': 136,\n",
              "         'famous': 88,\n",
              "         'label': 487,\n",
              "         'types': 511,\n",
              "         'nailed': 23,\n",
              "         'digital': 1914,\n",
              "         'process': 713,\n",
              "         'even': 21475,\n",
              "         'end': 4173,\n",
              "         'confident': 227,\n",
              "         'accurate': 3141,\n",
              "         'keeping': 2416,\n",
              "         'several': 6300,\n",
              "         'high': 7021,\n",
              "         'analog': 917,\n",
              "         'watches': 15251,\n",
              "         'jewelry': 4355,\n",
              "         'eventually': 798,\n",
              "         'accuracy': 622,\n",
              "         'side': 7456,\n",
              "         'crystal': 1591,\n",
              "         'seems': 8114,\n",
              "         'scratch': 1408,\n",
              "         'slight': 660,\n",
              "         'issue': 3496,\n",
              "         'difficulty': 324,\n",
              "         'reading': 2091,\n",
              "         'display': 2784,\n",
              "         'dark': 4718,\n",
              "         'built': 1877,\n",
              "         'in': 5409,\n",
              "         'activates': 13,\n",
              "         'digit': 67,\n",
              "         'changing': 703,\n",
              "         'functions': 1792,\n",
              "         'places': 1080,\n",
              "         'greatest': 283,\n",
              "         'drain': 92,\n",
              "         'battery': 6061,\n",
              "         'instructions': 2198,\n",
              "         'follow': 444,\n",
              "         'definitely': 10353,\n",
              "         'another': 12240,\n",
              "         'beat': 2170,\n",
              "         'shower': 923,\n",
              "         'if': 1871,\n",
              "         'functionality': 701,\n",
              "         'style': 7846,\n",
              "         'choice': 1746,\n",
              "         'although': 3852,\n",
              "         'looks': 32957,\n",
              "         'complicated': 320,\n",
              "         'ok': 4758,\n",
              "         'bag': 34998,\n",
              "         'cement': 62,\n",
              "         'inside': 8305,\n",
              "         'stayed': 743,\n",
              "         'week': 5384,\n",
              "         'fell': 3044,\n",
              "         'goin': 28,\n",
              "         'strong': 3330,\n",
              "         'iv': 78,\n",
              "         'swimming': 794,\n",
              "         'showering': 67,\n",
              "         'withit': 6,\n",
              "         'gotten': 2278,\n",
              "         'taken': 1548,\n",
              "         'looked': 7678,\n",
              "         'general': 660,\n",
              "         'weekend': 1116,\n",
              "         'scabs': 1,\n",
              "         'non': 1256,\n",
              "         'replaceable': 105,\n",
              "         'band': 18797,\n",
              "         'rubbed': 162,\n",
              "         'pocket': 7242,\n",
              "         'owned': 2569,\n",
              "         'amazing': 4287,\n",
              "         'years': 11761,\n",
              "         'useable': 114,\n",
              "         'abuse': 621,\n",
              "         'simply': 1771,\n",
              "         'complaints': 1613,\n",
              "         'program': 355,\n",
              "         'fancy': 1018,\n",
              "         'full': 3354,\n",
              "         'exposed': 378,\n",
              "         'basically': 898,\n",
              "         'anything': 5912,\n",
              "         'contact': 665,\n",
              "         'working': 3977,\n",
              "         'wet': 1544,\n",
              "         'oil': 338,\n",
              "         'grease': 92,\n",
              "         'cooking': 100,\n",
              "         'glue': 1196,\n",
              "         'dust': 403,\n",
              "         'dirt': 529,\n",
              "         'mud': 350,\n",
              "         'tar': 12,\n",
              "         'name': 1413,\n",
              "         'fully': 1037,\n",
              "         'functional': 1774,\n",
              "         'minimal': 330,\n",
              "         'scratches': 1320,\n",
              "         'gives': 1560,\n",
              "         'should': 483,\n",
              "         'september': 80,\n",
              "         '2013': 443,\n",
              "         'totally': 2455,\n",
              "         'recommended': 2461,\n",
              "         'backup': 217,\n",
              "         'case': 8541,\n",
              "         'lost': 2927,\n",
              "         'limited': 486,\n",
              "         'mention': 779,\n",
              "         'literature': 24,\n",
              "         'marathon': 111,\n",
              "         'others': 4146,\n",
              "         'the': 11434,\n",
              "         'multi': 346,\n",
              "         'language': 82,\n",
              "         'directions': 687,\n",
              "         'written': 313,\n",
              "         'obscurely': 1,\n",
              "         'tiniest': 23,\n",
              "         'font': 95,\n",
              "         'wearer': 224,\n",
              "         '9': 2430,\n",
              "         'buying': 6017,\n",
              "         'try': 4579,\n",
              "         'without': 9055,\n",
              "         'investment': 364,\n",
              "         'gave': 5875,\n",
              "         'features': 3079,\n",
              "         'out': 7176,\n",
              "         'nice': 38850,\n",
              "         'missing': 1199,\n",
              "         'lot': 13271,\n",
              "         'wanting': 746,\n",
              "         'have': 1865,\n",
              "         'see': 14406,\n",
              "         'know': 9862,\n",
              "         'invest': 161,\n",
              "         'suits': 616,\n",
              "         'specifically': 461,\n",
              "         'date': 5269,\n",
              "         'always': 7499,\n",
              "         'visible': 767,\n",
              "         '122': 12,\n",
              "         'k': 303,\n",
              "         'mart': 150,\n",
              "         'cheaper': 2033,\n",
              "         'change': 4375,\n",
              "         'everyday': 4379,\n",
              "         'thinking': 1876,\n",
              "         'or': 1246,\n",
              "         'badass': 65,\n",
              "         'me': 11590,\n",
              "         'overly': 489,\n",
              "         'sensitive': 467,\n",
              "         'fit': 38733,\n",
              "         'suggest': 1188,\n",
              "         '30': 2156,\n",
              "         'so': 4475,\n",
              "         'everything': 9225,\n",
              "         'basic': 1116,\n",
              "         'data': 263,\n",
              "         'breaking': 802,\n",
              "         'd': 5734,\n",
              "         'happy': 14202,\n",
              "         'proved': 131,\n",
              "         'relatively': 680,\n",
              "         'resilient': 45,\n",
              "         'for': 7238,\n",
              "         'shelf': 177,\n",
              "         'organizing': 167,\n",
              "         'desk': 288,\n",
              "         'space': 2830,\n",
              "         'elevating': 1,\n",
              "         'monitor': 257,\n",
              "         'however': 10374,\n",
              "         'heavier': 944,\n",
              "         'tho': 475,\n",
              "         'ring': 2148,\n",
              "         'tested': 386,\n",
              "         '23': 219,\n",
              "         'pound': 160,\n",
              "         'apple': 156,\n",
              "         'cinema': 3,\n",
              "         'decent': 2274,\n",
              "         'especially': 4271,\n",
              "         'option': 1215,\n",
              "         '90': 459,\n",
              "         'spacebar': 1,\n",
              "         'glad': 3476,\n",
              "         '15': 2094,\n",
              "         '20': 2803,\n",
              "         'ago': 3570,\n",
              "         'broken': 2987,\n",
              "         'stopwatches': 5,\n",
              "         'tell': 4170,\n",
              "         'mess': 577,\n",
              "         'joe': 39,\n",
              "         'canino': 1,\n",
              "         'get': 33950,\n",
              "         'pay': 4652,\n",
              "         'enough': 14298,\n",
              "         'order': 8633,\n",
              "         'of': 1001,\n",
              "         'dim': 277,\n",
              "         'illuminates': 72,\n",
              "         'number': 1629,\n",
              "         'forever': 1122,\n",
              "         'ever': 6328,\n",
              "         'mine': 4068,\n",
              "         'cost': 3855,\n",
              "         'almost': 6131,\n",
              "         'watchyou': 2,\n",
              "         'wash': 2429,\n",
              "         'hands': 5394,\n",
              "         'caught': 733,\n",
              "         'rain': 1572,\n",
              "         'worry': 1607,\n",
              "         'memory': 175,\n",
              "         'serves': 474,\n",
              "         'correctly': 676,\n",
              "         'colleague': 22,\n",
              "         'father': 898,\n",
              "         'claimed': 158,\n",
              "         'quite': 7056,\n",
              "         'remember': 986,\n",
              "         'exceeded': 412,\n",
              "         'useful': 1907,\n",
              "         'osama': 1,\n",
              "         'bin': 204,\n",
              "         'laden': 6,\n",
              "         'approved': 108,\n",
              "         'why': 506,\n",
              "         'prodigal': 1,\n",
              "         'commie': 4,\n",
              "         'edgy': 48,\n",
              "         'bothering': 48,\n",
              "         'soon': 2646,\n",
              "         'does': 712,\n",
              "         'job': 4273,\n",
              "         'considering': 1756,\n",
              "         'frills': 129,\n",
              "         'tried': 5020,\n",
              "         'brand': 4743,\n",
              "         'ended': 2008,\n",
              "         'tossing': 62,\n",
              "         'searching': 603,\n",
              "         'carry': 8496,\n",
              "         'ancillary': 5,\n",
              "         'parst': 1,\n",
              "         'negative': 1304,\n",
              "         'teeny': 82,\n",
              "         'tiny': 2442,\n",
              "         'print': 1342,\n",
              "         'requiring': 85,\n",
              "         'magnifying': 137,\n",
              "         'glass': 1694,\n",
              "         'irritating': 166,\n",
              "         'past': 2157,\n",
              "         'easier': 1931,\n",
              "         'appearance': 1118,\n",
              "         'photo': 2701,\n",
              "         'value': 3544,\n",
              "         'efficient': 222,\n",
              "         '100': 2437,\n",
              "         'needing': 383,\n",
              "         'using': 6564,\n",
              "         'usually': 2914,\n",
              "         'either': 3593,\n",
              "         'goes': 3983,\n",
              "         'breaks': 618,\n",
              "         'gym': 1467,\n",
              "         'barely': 1698,\n",
              "         'items': 4454,\n",
              "         'went': 4325,\n",
              "         'smoke': 114,\n",
              "         'close': 3347,\n",
              "         'ten': 659,\n",
              "         'lose': 1481,\n",
              "         'matter': 1380,\n",
              "         'fact': 3547,\n",
              "         'finally': 2707,\n",
              "         'saw': 3643,\n",
              "         'available': 1464,\n",
              "         'cannot': 2635,\n",
              "         'reliability': 173,\n",
              "         'gifts': 1470,\n",
              "         'too': 7969,\n",
              "         'yard': 487,\n",
              "         'line': 2380,\n",
              "         'find': 10364,\n",
              "         'primarily': 192,\n",
              "         'intervals': 63,\n",
              "         'strength': 220,\n",
              "         'training': 466,\n",
              "         'powerlifting': 2,\n",
              "         'configure': 34,\n",
              "         'noticed': 1773,\n",
              "         'somebody': 198,\n",
              "         'wrists': 2017,\n",
              "         'larger': 5984,\n",
              "         'frame': 2080,\n",
              "         'able': 6436,\n",
              "         'and': 4773,\n",
              "         'pace': 70,\n",
              "         'myself': 1609,\n",
              "         'gets': 3364,\n",
              "         'done': 2478,\n",
              "         'satisfied': 2903,\n",
              "         'purchase': 13021,\n",
              "         'delivery': 2829,\n",
              "         'adequate': 395,\n",
              "         'operate': 357,\n",
              "         'read': 9339,\n",
              "         'frustration': 92,\n",
              "         'left': 2595,\n",
              "         'somewhere': 614,\n",
              "         'anxiety': 18,\n",
              "         'awkward': 625,\n",
              "         'project': 287,\n",
              "         'other': 981,\n",
              "         'occasions': 708,\n",
              "         'never': 8978,\n",
              "         'thought': 10356,\n",
              "         'bigger': 5425,\n",
              "         'not': 4274,\n",
              "         'anyway': 1939,\n",
              "         'trick': 734,\n",
              "         'casual': 2905,\n",
              "         'complex': 107,\n",
              "         'beaten': 68,\n",
              "         'heavy': 7322,\n",
              "         'bulky': 2249,\n",
              "         'appears': 1782,\n",
              "         'defective': 590,\n",
              "         'please': 1424,\n",
              "         'with': 1972,\n",
              "         'as': 1297,\n",
              "         'expecting': 2538,\n",
              "         'clear': 2668,\n",
              "         'while': 1197,\n",
              "         'bucks': 1200,\n",
              "         'cares': 180,\n",
              "         'trip': 4804,\n",
              "         'risk': 404,\n",
              "         'losing': 631,\n",
              "         'stolen': 299,\n",
              "         'real': 5616,\n",
              "         'level': 618,\n",
              "         'simplicity': 230,\n",
              "         'puts': 315,\n",
              "         'rest': 1447,\n",
              "         'cheep': 219,\n",
              "         'loud': 655,\n",
              "         'wake': 287,\n",
              "         'dosing': 3,\n",
              "         'meds': 56,\n",
              "         'awake': 30,\n",
              "         'longevity': 144,\n",
              "         'durability': 1050,\n",
              "         'performed': 197,\n",
              "         'admirably': 19,\n",
              "         'forget': 867,\n",
              "         'mainly': 414,\n",
              "         'environment': 249,\n",
              "         'embarrassed': 171,\n",
              "         'ugly': 674,\n",
              "         'after': 637,\n",
              "         'means': 1399,\n",
              "         'longer': 4160,\n",
              "         'traveling': 1561,\n",
              "         'us': 2632,\n",
              "         'hours': 2676,\n",
              "         'useless': 1126,\n",
              "         'reset': 658,\n",
              "         'feature': 3030,\n",
              "         'due': 2679,\n",
              "         'contacted': 794,\n",
              "         'shopemco': 2,\n",
              "         'received': 11279,\n",
              "         'dreaded': 16,\n",
              "         'manufacturer': 763,\n",
              "         'called': 927,\n",
              "         'course': 1933,\n",
              "         'responsible': 68,\n",
              "         'shipping': 6342,\n",
              "         'lemon': 75,\n",
              "         'consider': 1099,\n",
              "         'salvage': 27,\n",
              "         'vendor': 596,\n",
              "         'period': 600,\n",
              "         'least': 3075,\n",
              "         'understanding': 88,\n",
              "         'yr': 998,\n",
              "         'getting': 6483,\n",
              "         'lights': 932,\n",
              "         'beeps': 73,\n",
              "         '24hr': 34,\n",
              "         'store': 5130,\n",
              "         'didnt': 975,\n",
              "         'realize': 968,\n",
              "         'womans': 47,\n",
              "         'searched': 393,\n",
              "         'mens': 298,\n",
              "         'isnt': 265,\n",
              "         'buyer': 457,\n",
              "         'beware': 678,\n",
              "         'key': 982,\n",
              "         'options': 866,\n",
              "         'uses': 1721,\n",
              "         'runs': 1807,\n",
              "         'woman': 1924,\n",
              "         'waist': 2303,\n",
              "         'watchactually': 1,\n",
              "         'grand': 770,\n",
              "         'learn': 449,\n",
              "         'efficiently': 51,\n",
              "         'overall': 6869,\n",
              "         'someone': 3818,\n",
              "         'll': 6071,\n",
              "         'handy': 1620,\n",
              "         'buenisimo': 5,\n",
              "         'prices': 610,\n",
              "         'nike': 293,\n",
              "         'brands': 919,\n",
              "         'favorite': 3304,\n",
              "         'wearable': 361,\n",
              "         'says': 3254,\n",
              "         'lake': 137,\n",
              "         'issues': 2318,\n",
              "         'bright': 3495,\n",
              "         'helps': 1516,\n",
              "         'user': 491,\n",
              "         'friendly': 357,\n",
              "         'timers': 111,\n",
              "         'quarter': 191,\n",
              "         'previous': 1427,\n",
              "         'licking': 77,\n",
              "         'ticking': 625,\n",
              "         'exactally': 5,\n",
              "         'boy': 1176,\n",
              "         'walk': 1324,\n",
              "         'stop': 2011,\n",
              "         'weight': 6650,\n",
              "         'dependability': 26,\n",
              "         'search': 614,\n",
              "         'watchtronics': 5,\n",
              "         'selling': 545,\n",
              "         'listings': 23,\n",
              "         'fo5r': 1,\n",
              "         'placed': 840,\n",
              "         'amazed': 378,\n",
              "         'michael': 804,\n",
              "         'schwartz5': 1,\n",
              "         'rating': 1445,\n",
              "         'nonstop': 27,\n",
              "         'beep': 110,\n",
              "         'top': 8996,\n",
              "         '12hr': 9,\n",
              "         'night': 4545,\n",
              "         'lighting': 521,\n",
              "         'seller': 4248,\n",
              "         'backpack': 4876,\n",
              "         'attractive': 2271,\n",
              "         'room': 5476,\n",
              "         'anticipated': 479,\n",
              "         'gucci': 122,\n",
              "         'but': 5141,\n",
              "         'unfortunately': 2196,\n",
              "         'type': 2957,\n",
              "         'settle': 62,\n",
              "         'liked': 5599,\n",
              "         'complaint': 2113,\n",
              "         'thinner': 894,\n",
              "         'man': 2541,\n",
              "         'saying': 1034,\n",
              "         'more': 3839,\n",
              "         'applies': 47,\n",
              "         'square': 365,\n",
              "         'shape': 3373,\n",
              "         'numbers': 2307,\n",
              "         'leather': 10663,\n",
              "         'comfort': 1168,\n",
              "         'is': 3854,\n",
              "         'elegant': 2299,\n",
              "         'outfit': 2888,\n",
              "         'flannel': 44,\n",
              "         'shirts': 1239,\n",
              "         'levi': 65,\n",
              "         'reorder': 154,\n",
              "         'third': 1220,\n",
              "         'lingerie': 311,\n",
              "         'hurt': 721,\n",
              "         'removed': 1331,\n",
              "         'wire': 483,\n",
              "         'bra': 1754,\n",
              "         'parade': 115,\n",
              "         'wardrobe': 428,\n",
              "         'malfunctions': 16,\n",
              "         'pairs': 2104,\n",
              "         'who': 505,\n",
              "         'jennifer': 10,\n",
              "         'lopez': 5,\n",
              "         'considered': 437,\n",
              "         'whose': 192,\n",
              "         'reviewers': 993,\n",
              "         'swore': 10,\n",
              "         'adhesive': 282,\n",
              "         'quickly': 4255,\n",
              "         'sometimes': 2106,\n",
              "         'stick': 1260,\n",
              "         'painful': 183,\n",
              "         'irritate': 133,\n",
              "         ...})"
            ]
          },
          "metadata": {},
          "execution_count": 101
        }
      ]
    },
    {
      "cell_type": "markdown",
      "metadata": {
        "id": "5tdDLVbkUuuq"
      },
      "source": [
        " **Part of Speech tagging**\n",
        "\n",
        "associate to aspect BIO Classification --- work in progress"
      ]
    },
    {
      "cell_type": "markdown",
      "metadata": {
        "id": "5hJ-_uc7w2C1"
      },
      "source": [
        "Build Training and Test set to extract aspect and predict sentiment classification "
      ]
    },
    {
      "cell_type": "code",
      "metadata": {
        "colab": {
          "base_uri": "https://localhost:8080/"
        },
        "id": "M4vW62ZMShUD",
        "outputId": "2a8bcbe6-580d-45b9-c169-7b2a85c74944"
      },
      "source": [
        "#compute label and convert to one-hot format \n",
        "y = np.array(list(map(lambda x: 1 if x > 3 else 0, sentiment)))\n",
        "y"
      ],
      "execution_count": null,
      "outputs": [
        {
          "output_type": "execute_result",
          "data": {
            "text/plain": [
              "array([0, 0, 1, ..., 0, 1, 1])"
            ]
          },
          "metadata": {},
          "execution_count": 56
        }
      ]
    },
    {
      "cell_type": "code",
      "metadata": {
        "id": "hlETHBW1Td3x"
      },
      "source": [
        "#X_train, X_test,Y_train, Y_test = train_test_split(df_reviews_products.reviewText, y, test_size=0.2, random_state = 45)"
      ],
      "execution_count": null,
      "outputs": []
    },
    {
      "cell_type": "code",
      "metadata": {
        "id": "vUISpNbS6E92"
      },
      "source": [
        "train_size = int(df_reviews_products.shape[0] * 0.8)\n",
        "\n",
        "train_sentences = df_reviews_products.reviewText[:train_size]\n",
        "train_labels = df_reviews_products.overall[:train_size]\n",
        "\n",
        "test_sentences = df_reviews_products.reviewText[train_size:]\n",
        "test_labels = df_reviews_products.overall[train_size:]"
      ],
      "execution_count": null,
      "outputs": []
    },
    {
      "cell_type": "code",
      "metadata": {
        "colab": {
          "base_uri": "https://localhost:8080/"
        },
        "id": "WVsdezhc6YLG",
        "outputId": "66e16a66-b505-4b29-b81b-9423b724f2bb"
      },
      "source": [
        "len(train_sentences)"
      ],
      "execution_count": null,
      "outputs": [
        {
          "output_type": "execute_result",
          "data": {
            "text/plain": [
              "234960"
            ]
          },
          "metadata": {},
          "execution_count": 58
        }
      ]
    },
    {
      "cell_type": "code",
      "metadata": {
        "colab": {
          "base_uri": "https://localhost:8080/"
        },
        "id": "ob6CJ9s9Tg_r",
        "outputId": "ab35589e-8857-4872-afda-52ce2c15a759"
      },
      "source": [
        "#len(Y_train), len(X_train), len(Y_test), len(X_test)"
      ],
      "execution_count": null,
      "outputs": [
        {
          "output_type": "execute_result",
          "data": {
            "text/plain": [
              "(234960, 234960, 58741, 58741)"
            ]
          },
          "metadata": {},
          "execution_count": 122
        }
      ]
    },
    {
      "cell_type": "code",
      "metadata": {
        "id": "mOMZ79OIt0AW"
      },
      "source": [
        "#maybe I can do a prediction on it\n"
      ],
      "execution_count": null,
      "outputs": []
    },
    {
      "cell_type": "markdown",
      "metadata": {
        "id": "21VqAtZyxKj9"
      },
      "source": [
        "Tokanization - only consider the X set; because we consider only reviews for this part "
      ]
    },
    {
      "cell_type": "code",
      "metadata": {
        "colab": {
          "base_uri": "https://localhost:8080/"
        },
        "id": "VvHFKCDkxqb8",
        "outputId": "b743187f-6911-46d3-aa42-11d6a46b53e7"
      },
      "source": [
        "len(counter)"
      ],
      "execution_count": null,
      "outputs": [
        {
          "output_type": "execute_result",
          "data": {
            "text/plain": [
              "78151"
            ]
          },
          "metadata": {},
          "execution_count": 173
        }
      ]
    },
    {
      "cell_type": "code",
      "metadata": {
        "id": "bewhx-fmwfFq"
      },
      "source": [
        "#train_sequences = X_train\n",
        "#train_labels = Y_train\n",
        "\n",
        "#test_sequences = X_test\n",
        "#test_labels = Y_test\n",
        "\n"
      ],
      "execution_count": null,
      "outputs": []
    },
    {
      "cell_type": "code",
      "metadata": {
        "id": "4u1CMA3DTiMg"
      },
      "source": [
        "num_words = len(counter)\n",
        "tokenizer = Tokenizer(num_words=num_words)\n",
        "tokenizer.fit_on_texts(train_sentences)"
      ],
      "execution_count": 103,
      "outputs": []
    },
    {
      "cell_type": "code",
      "metadata": {
        "id": "8WZs7qDVxcx7"
      },
      "source": [
        "# Max number of words in a sequence(review texts in our case)\n",
        "max_length = 150"
      ],
      "execution_count": 104,
      "outputs": []
    },
    {
      "cell_type": "code",
      "metadata": {
        "colab": {
          "base_uri": "https://localhost:8080/"
        },
        "id": "V-fZaE6qToS9",
        "outputId": "7e7a3ffb-3448-400f-cc4d-8a6b6ed8027d"
      },
      "source": [
        "words_to_index = tokenizer.word_index\n",
        "len(words_to_index)"
      ],
      "execution_count": 105,
      "outputs": [
        {
          "output_type": "execute_result",
          "data": {
            "text/plain": [
              "69169"
            ]
          },
          "metadata": {},
          "execution_count": 105
        }
      ]
    },
    {
      "cell_type": "markdown",
      "metadata": {
        "id": "AAo6A4kVOovT"
      },
      "source": [
        "The number of different words in the dataset after the\n",
        "pre-processing is counted, the number of occurrences of each\n",
        "word, the length of the largest word included in each review,\n",
        "and the length of the word contained in each review in the\n",
        "calculated dataset. The average review length is used as the\n",
        "ﬁxed length of words in each review. If the review length is\n",
        "larger than the ﬁxed length, it is intercepted, and if the review\n",
        "length is smaller than the ﬁxed length, 0 will be added"
      ]
    },
    {
      "cell_type": "code",
      "metadata": {
        "colab": {
          "base_uri": "https://localhost:8080/"
        },
        "id": "U0LA99bXTtY1",
        "outputId": "84124c30-8aef-49a5-ffac-a9842fa60c10"
      },
      "source": [
        "#now we give an index to each word \n",
        "\n",
        "words_to_index"
      ],
      "execution_count": 106,
      "outputs": [
        {
          "output_type": "execute_result",
          "data": {
            "text/plain": [
              "{'watch': 1,\n",
              " 'it': 2,\n",
              " 'great': 3,\n",
              " 'like': 4,\n",
              " 'i': 5,\n",
              " 'one': 6,\n",
              " 'good': 7,\n",
              " 'would': 8,\n",
              " 'love': 9,\n",
              " 'well': 10,\n",
              " 'time': 11,\n",
              " 'nice': 12,\n",
              " 'fit': 13,\n",
              " 'really': 14,\n",
              " '34': 15,\n",
              " 'quality': 16,\n",
              " 'price': 17,\n",
              " 'size': 18,\n",
              " 'bought': 19,\n",
              " 'bag': 20,\n",
              " 'wear': 21,\n",
              " 'get': 22,\n",
              " 's': 23,\n",
              " 'looks': 24,\n",
              " 'little': 25,\n",
              " 'small': 26,\n",
              " 'look': 27,\n",
              " 'perfect': 28,\n",
              " 'use': 29,\n",
              " 'made': 30,\n",
              " 'got': 31,\n",
              " 'much': 32,\n",
              " 'm': 33,\n",
              " 'also': 34,\n",
              " 'buy': 35,\n",
              " 'product': 36,\n",
              " 'big': 37,\n",
              " 'looking': 38,\n",
              " 'recommend': 39,\n",
              " 'even': 40,\n",
              " 'color': 41,\n",
              " 'band': 42,\n",
              " 'still': 43,\n",
              " 'back': 44,\n",
              " 'easy': 45,\n",
              " 'day': 46,\n",
              " 'work': 47,\n",
              " 'fits': 48,\n",
              " 'them': 49,\n",
              " 'first': 50,\n",
              " '5': 51,\n",
              " 'comfortable': 52,\n",
              " 'cute': 53,\n",
              " 'bit': 54,\n",
              " 'better': 55,\n",
              " 'pretty': 56,\n",
              " 'gift': 57,\n",
              " '2': 58,\n",
              " 'long': 59,\n",
              " 'watches': 60,\n",
              " 've': 61,\n",
              " 'could': 62,\n",
              " 'hat': 63,\n",
              " 'way': 64,\n",
              " 'large': 65,\n",
              " 'ordered': 66,\n",
              " 'loves': 67,\n",
              " 'cheap': 68,\n",
              " 'face': 69,\n",
              " 'two': 70,\n",
              " 'see': 71,\n",
              " 'enough': 72,\n",
              " 'need': 73,\n",
              " 'happy': 74,\n",
              " 'put': 75,\n",
              " 'old': 76,\n",
              " 'right': 77,\n",
              " 'light': 78,\n",
              " 't': 79,\n",
              " 'used': 80,\n",
              " 'loved': 81,\n",
              " 'came': 82,\n",
              " 'lot': 83,\n",
              " 'expected': 84,\n",
              " 'around': 85,\n",
              " 'go': 86,\n",
              " 'purchase': 87,\n",
              " 'year': 88,\n",
              " 'picture': 89,\n",
              " 'purchased': 90,\n",
              " 'another': 91,\n",
              " 'that': 92,\n",
              " 'keep': 93,\n",
              " 'beautiful': 94,\n",
              " 'make': 95,\n",
              " 'years': 96,\n",
              " 'think': 97,\n",
              " 'wallet': 98,\n",
              " 'pair': 99,\n",
              " 'many': 100,\n",
              " 'wanted': 101,\n",
              " 'me': 102,\n",
              " 'amazon': 103,\n",
              " 'material': 104,\n",
              " 'wearing': 105,\n",
              " 'the': 106,\n",
              " 'new': 107,\n",
              " 'money': 108,\n",
              " '3': 109,\n",
              " 'want': 110,\n",
              " 'received': 111,\n",
              " 'though': 112,\n",
              " 'can': 113,\n",
              " 'thing': 114,\n",
              " 'black': 115,\n",
              " 'leather': 116,\n",
              " 'wrist': 117,\n",
              " 'works': 118,\n",
              " 'daughter': 119,\n",
              " 'glasses': 120,\n",
              " 'however': 121,\n",
              " 'find': 122,\n",
              " 'definitely': 123,\n",
              " 'thought': 124,\n",
              " 'since': 125,\n",
              " 'worth': 126,\n",
              " 'last': 127,\n",
              " 'something': 128,\n",
              " 'item': 129,\n",
              " 'strap': 130,\n",
              " 'know': 131,\n",
              " 'head': 132,\n",
              " 'feel': 133,\n",
              " 'different': 134,\n",
              " 'going': 135,\n",
              " 'every': 136,\n",
              " 'socks': 137,\n",
              " 'exactly': 138,\n",
              " 'this': 139,\n",
              " 'take': 140,\n",
              " 'everything': 141,\n",
              " 'on': 142,\n",
              " 'read': 143,\n",
              " '4': 144,\n",
              " 'sure': 145,\n",
              " 'without': 146,\n",
              " 'set': 147,\n",
              " 'colors': 148,\n",
              " 'never': 149,\n",
              " 'top': 150,\n",
              " 'arrived': 151,\n",
              " 'say': 152,\n",
              " 'belt': 153,\n",
              " 'best': 154,\n",
              " 'needed': 155,\n",
              " 'costume': 156,\n",
              " 'perfectly': 157,\n",
              " 'order': 158,\n",
              " 'carry': 159,\n",
              " 'fine': 160,\n",
              " 'dress': 161,\n",
              " 'far': 162,\n",
              " 'case': 163,\n",
              " 'hard': 164,\n",
              " 'son': 165,\n",
              " 'all': 166,\n",
              " 'purse': 167,\n",
              " 'easily': 168,\n",
              " 'inside': 169,\n",
              " 'seems': 170,\n",
              " 'days': 171,\n",
              " 'too': 172,\n",
              " 'shoes': 173,\n",
              " 'husband': 174,\n",
              " 'makes': 175,\n",
              " 'style': 176,\n",
              " 'warm': 177,\n",
              " 'hold': 178,\n",
              " '1': 179,\n",
              " 'actually': 180,\n",
              " 'again': 181,\n",
              " 'smaller': 182,\n",
              " 'sunglasses': 183,\n",
              " 'super': 184,\n",
              " 'looked': 185,\n",
              " 'always': 186,\n",
              " 'plastic': 187,\n",
              " 'they': 188,\n",
              " 'side': 189,\n",
              " 'problem': 190,\n",
              " 'give': 191,\n",
              " 'compliments': 192,\n",
              " 'pocket': 193,\n",
              " 'design': 194,\n",
              " 'heavy': 195,\n",
              " 'for': 196,\n",
              " 'out': 197,\n",
              " 'soft': 198,\n",
              " 'sturdy': 199,\n",
              " 'quite': 200,\n",
              " 'pockets': 201,\n",
              " 'high': 202,\n",
              " 'box': 203,\n",
              " 'wish': 204,\n",
              " 'piece': 205,\n",
              " 'things': 206,\n",
              " 'found': 207,\n",
              " 'took': 208,\n",
              " 'overall': 209,\n",
              " 'said': 210,\n",
              " 'second': 211,\n",
              " 'come': 212,\n",
              " 'disappointed': 213,\n",
              " 'weight': 214,\n",
              " 'using': 215,\n",
              " 'people': 216,\n",
              " 'able': 217,\n",
              " 'bad': 218,\n",
              " 'up': 219,\n",
              " 'months': 220,\n",
              " 'getting': 221,\n",
              " 'excellent': 222,\n",
              " 'christmas': 223,\n",
              " 'thin': 224,\n",
              " 'durable': 225,\n",
              " 'awesome': 226,\n",
              " 'highly': 227,\n",
              " 'shipping': 228,\n",
              " 'ever': 229,\n",
              " 'tight': 230,\n",
              " 'several': 231,\n",
              " 'anyone': 232,\n",
              " 'broke': 233,\n",
              " 'off': 234,\n",
              " 'water': 235,\n",
              " 'almost': 236,\n",
              " '6': 237,\n",
              " 'll': 238,\n",
              " 'yet': 239,\n",
              " 'buying': 240,\n",
              " 'battery': 241,\n",
              " 'larger': 242,\n",
              " '10': 243,\n",
              " 'may': 244,\n",
              " 'cool': 245,\n",
              " 're': 246,\n",
              " 'gave': 247,\n",
              " 'worn': 248,\n",
              " 'anything': 249,\n",
              " 'pleased': 250,\n",
              " 'return': 251,\n",
              " 'absolutely': 252,\n",
              " 'reviews': 253,\n",
              " 'wife': 254,\n",
              " 'stars': 255,\n",
              " 'you': 256,\n",
              " 'probably': 257,\n",
              " 'd': 258,\n",
              " 'keeps': 259,\n",
              " 'real': 260,\n",
              " 'hand': 261,\n",
              " 'liked': 262,\n",
              " 'times': 263,\n",
              " 'cards': 264,\n",
              " 'room': 265,\n",
              " 'in': 266,\n",
              " 'week': 267,\n",
              " 'wore': 268,\n",
              " 'expensive': 269,\n",
              " 'hands': 270,\n",
              " 'white': 271,\n",
              " 'bigger': 272,\n",
              " 'part': 273,\n",
              " 'date': 274,\n",
              " 'less': 275,\n",
              " 'worked': 276,\n",
              " 'fabric': 277,\n",
              " 'store': 278,\n",
              " 'fast': 279,\n",
              " 'might': 280,\n",
              " 'but': 281,\n",
              " 'blue': 282,\n",
              " 'couple': 283,\n",
              " 'stuff': 284,\n",
              " 'tried': 285,\n",
              " 'phone': 286,\n",
              " 'these': 287,\n",
              " 'feels': 288,\n",
              " 'backpack': 289,\n",
              " 'short': 290,\n",
              " 'boots': 291,\n",
              " 'deal': 292,\n",
              " 'ones': 293,\n",
              " 'trip': 294,\n",
              " 'nothing': 295,\n",
              " 'place': 296,\n",
              " 'fun': 297,\n",
              " 'and': 298,\n",
              " 'extra': 299,\n",
              " 'away': 300,\n",
              " 'brand': 301,\n",
              " 'ok': 302,\n",
              " 'holds': 303,\n",
              " 'bracelet': 304,\n",
              " 'luggage': 305,\n",
              " 'pay': 306,\n",
              " 'zipper': 307,\n",
              " 'dark': 308,\n",
              " 'there': 309,\n",
              " 'person': 310,\n",
              " 'feet': 311,\n",
              " 'now': 312,\n",
              " 'try': 313,\n",
              " 'night': 314,\n",
              " 'lots': 315,\n",
              " 'gold': 316,\n",
              " 'already': 317,\n",
              " 'metal': 318,\n",
              " 'shirt': 319,\n",
              " 'so': 320,\n",
              " 'items': 321,\n",
              " 'weeks': 322,\n",
              " 'thank': 323,\n",
              " 'simple': 324,\n",
              " 'jewelry': 325,\n",
              " 'front': 326,\n",
              " 'change': 327,\n",
              " 'expect': 328,\n",
              " 'everyday': 329,\n",
              " 'maybe': 330,\n",
              " 'three': 331,\n",
              " 'went': 332,\n",
              " '8': 333,\n",
              " 'necklace': 334,\n",
              " 'job': 335,\n",
              " 'comes': 336,\n",
              " 'amazing': 337,\n",
              " 'kind': 338,\n",
              " 'month': 339,\n",
              " 'stay': 340,\n",
              " 'especially': 341,\n",
              " 'friend': 342,\n",
              " 'not': 343,\n",
              " 'plus': 344,\n",
              " 'quickly': 345,\n",
              " 'seller': 346,\n",
              " 'wears': 347,\n",
              " 'tell': 348,\n",
              " 'birthday': 349,\n",
              " 'thick': 350,\n",
              " 'end': 351,\n",
              " 'bags': 352,\n",
              " 'travel': 353,\n",
              " 'longer': 354,\n",
              " 'others': 355,\n",
              " 'mine': 356,\n",
              " 'bottom': 357,\n",
              " 'nicely': 358,\n",
              " 'seem': 359,\n",
              " 'working': 360,\n",
              " 'paid': 361,\n",
              " 'next': 362,\n",
              " 'goes': 363,\n",
              " 'etc': 364,\n",
              " 'thanks': 365,\n",
              " 'mask': 366,\n",
              " 'huge': 367,\n",
              " '7': 368,\n",
              " 'open': 369,\n",
              " 'shoe': 370,\n",
              " 'needs': 371,\n",
              " 'is': 372,\n",
              " 'more': 373,\n",
              " 'although': 374,\n",
              " 'straps': 375,\n",
              " 'cost': 376,\n",
              " 'instead': 377,\n",
              " 'outside': 378,\n",
              " 'stylish': 379,\n",
              " 'someone': 380,\n",
              " 'school': 381,\n",
              " 'low': 382,\n",
              " 'red': 383,\n",
              " 'lenses': 384,\n",
              " 'length': 385,\n",
              " 'replace': 386,\n",
              " 'ago': 387,\n",
              " 'extremely': 388,\n",
              " 'wrong': 389,\n",
              " 'guess': 390,\n",
              " 'fact': 391,\n",
              " 'else': 392,\n",
              " 'loose': 393,\n",
              " 'either': 394,\n",
              " 'saw': 395,\n",
              " 'handle': 396,\n",
              " 'hair': 397,\n",
              " 'chain': 398,\n",
              " 'must': 399,\n",
              " 'dial': 400,\n",
              " 'links': 401,\n",
              " 'glad': 402,\n",
              " 'bright': 403,\n",
              " 'value': 404,\n",
              " 'issue': 405,\n",
              " 'kids': 406,\n",
              " 'shape': 407,\n",
              " 'pack': 408,\n",
              " 'strong': 409,\n",
              " 'apart': 410,\n",
              " 'everyone': 411,\n",
              " 'gets': 412,\n",
              " 'full': 413,\n",
              " 'party': 414,\n",
              " 'close': 415,\n",
              " 'likes': 416,\n",
              " 'true': 417,\n",
              " 'reason': 418,\n",
              " 'sun': 419,\n",
              " 'friends': 420,\n",
              " 'favorite': 421,\n",
              " 'wig': 422,\n",
              " 'scarf': 423,\n",
              " 'says': 424,\n",
              " 'run': 425,\n",
              " 'sized': 426,\n",
              " 'casio': 427,\n",
              " 'gloves': 428,\n",
              " 'solid': 429,\n",
              " 'replacement': 430,\n",
              " 'together': 431,\n",
              " 'difficult': 432,\n",
              " 'medium': 433,\n",
              " 'cold': 434,\n",
              " 'package': 435,\n",
              " 'pants': 436,\n",
              " 'sent': 437,\n",
              " 'wait': 438,\n",
              " 'model': 439,\n",
              " 'half': 440,\n",
              " 'features': 441,\n",
              " 'seiko': 442,\n",
              " 'returned': 443,\n",
              " 'fell': 444,\n",
              " 'rather': 445,\n",
              " 'accurate': 446,\n",
              " 'least': 447,\n",
              " 'decided': 448,\n",
              " 'feature': 449,\n",
              " 'star': 450,\n",
              " 'review': 451,\n",
              " 'show': 452,\n",
              " 'silver': 453,\n",
              " 'broken': 454,\n",
              " 'cut': 455,\n",
              " 'lightweight': 456,\n",
              " 'otherwise': 457,\n",
              " 'problems': 458,\n",
              " 'company': 459,\n",
              " 'within': 460,\n",
              " 'fan': 461,\n",
              " 'winter': 462,\n",
              " 'shoulder': 463,\n",
              " 'type': 464,\n",
              " 'help': 465,\n",
              " 'hope': 466,\n",
              " 'fall': 467,\n",
              " 'casual': 468,\n",
              " 'lost': 469,\n",
              " 'kept': 470,\n",
              " 'to': 471,\n",
              " 'let': 472,\n",
              " 'daily': 473,\n",
              " 'satisfied': 474,\n",
              " 'slightly': 475,\n",
              " 'pull': 476,\n",
              " 'seen': 477,\n",
              " 'pink': 478,\n",
              " 'held': 479,\n",
              " 'space': 480,\n",
              " 'usually': 481,\n",
              " 'green': 482,\n",
              " 'clean': 483,\n",
              " 'outfit': 484,\n",
              " 'credit': 485,\n",
              " 'plenty': 486,\n",
              " 'completely': 487,\n",
              " 'body': 488,\n",
              " 'timex': 489,\n",
              " 'cover': 490,\n",
              " 'delivery': 491,\n",
              " 'clasp': 492,\n",
              " '20': 493,\n",
              " 'surprised': 494,\n",
              " 'described': 495,\n",
              " 'break': 496,\n",
              " 'card': 497,\n",
              " 'trying': 498,\n",
              " 'started': 499,\n",
              " 'be': 500,\n",
              " 'running': 501,\n",
              " 'service': 502,\n",
              " 'due': 503,\n",
              " 'clothes': 504,\n",
              " 'summer': 505,\n",
              " 'wide': 506,\n",
              " 'display': 507,\n",
              " 'finally': 508,\n",
              " 'clear': 509,\n",
              " '12': 510,\n",
              " 'photo': 511,\n",
              " 'adjust': 512,\n",
              " 'neck': 513,\n",
              " 'life': 514,\n",
              " 'quick': 515,\n",
              " 'left': 516,\n",
              " 'soon': 517,\n",
              " 'wonderful': 518,\n",
              " 'description': 519,\n",
              " 'original': 520,\n",
              " 'owned': 521,\n",
              " 'hours': 522,\n",
              " 'cannot': 523,\n",
              " 'girl': 524,\n",
              " 'us': 525,\n",
              " 'online': 526,\n",
              " 'man': 527,\n",
              " 'ordering': 528,\n",
              " 'halloween': 529,\n",
              " 'brown': 530,\n",
              " 'cap': 531,\n",
              " 'expecting': 532,\n",
              " 'minutes': 533,\n",
              " 'done': 534,\n",
              " 'child': 535,\n",
              " 'point': 536,\n",
              " 'smell': 537,\n",
              " 'do': 538,\n",
              " 'eyes': 539,\n",
              " 'shipped': 540,\n",
              " 'recommended': 541,\n",
              " 'ears': 542,\n",
              " 'tiny': 543,\n",
              " 'laptop': 544,\n",
              " 'totally': 545,\n",
              " 'button': 546,\n",
              " 'pictured': 547,\n",
              " 'making': 548,\n",
              " 'opened': 549,\n",
              " 'waste': 550,\n",
              " 'tie': 551,\n",
              " '100': 552,\n",
              " 'similar': 553,\n",
              " 'home': 554,\n",
              " 'inexpensive': 555,\n",
              " '9': 556,\n",
              " 'wash': 557,\n",
              " 'keeping': 558,\n",
              " 'earrings': 559,\n",
              " 'regular': 560,\n",
              " 'lens': 561,\n",
              " 'line': 562,\n",
              " 'felt': 563,\n",
              " 'china': 564,\n",
              " 'compartments': 565,\n",
              " 'classy': 566,\n",
              " 'believe': 567,\n",
              " 'play': 568,\n",
              " 'issues': 569,\n",
              " 'umbrella': 570,\n",
              " 'compartment': 571,\n",
              " 'poor': 572,\n",
              " 'add': 573,\n",
              " 'waist': 574,\n",
              " 'invicta': 575,\n",
              " 'suit': 576,\n",
              " 'g': 577,\n",
              " 'pieces': 578,\n",
              " 'sizes': 579,\n",
              " 'often': 580,\n",
              " 'pictures': 581,\n",
              " 'normal': 582,\n",
              " 'unless': 583,\n",
              " 'numbers': 584,\n",
              " 'adorable': 585,\n",
              " 'free': 586,\n",
              " 'decent': 587,\n",
              " 'bulky': 588,\n",
              " 'send': 589,\n",
              " 'elegant': 590,\n",
              " 'products': 591,\n",
              " 'given': 592,\n",
              " 'a': 593,\n",
              " 'remove': 594,\n",
              " 'present': 595,\n",
              " 'flimsy': 596,\n",
              " 'down': 597,\n",
              " 'women': 598,\n",
              " 'attractive': 599,\n",
              " 'beat': 600,\n",
              " 'ring': 601,\n",
              " 'bands': 602,\n",
              " '30': 603,\n",
              " 'buckle': 604,\n",
              " 'adjustable': 605,\n",
              " 'weather': 606,\n",
              " 'condition': 607,\n",
              " 'gotten': 608,\n",
              " 'whole': 609,\n",
              " 'dry': 610,\n",
              " 'unfortunately': 611,\n",
              " 'past': 612,\n",
              " 'instructions': 613,\n",
              " 'area': 614,\n",
              " 'hour': 615,\n",
              " 'im': 616,\n",
              " 'shown': 617,\n",
              " 'boyfriend': 618,\n",
              " 'advertised': 619,\n",
              " 'frame': 620,\n",
              " 'four': 621,\n",
              " 'hot': 622,\n",
              " 'stretch': 623,\n",
              " 'mind': 624,\n",
              " 'care': 625,\n",
              " 'hit': 626,\n",
              " 'baby': 627,\n",
              " 'match': 628,\n",
              " 'complaint': 629,\n",
              " 'sometimes': 630,\n",
              " 'dont': 631,\n",
              " 'rubber': 632,\n",
              " 'check': 633,\n",
              " 'yes': 634,\n",
              " 'packaging': 635,\n",
              " 'coming': 636,\n",
              " 'eye': 637,\n",
              " 'here': 638,\n",
              " 'okay': 639,\n",
              " 'pairs': 640,\n",
              " 'shows': 641,\n",
              " '15': 642,\n",
              " 'he': 643,\n",
              " 'house': 644,\n",
              " 'along': 645,\n",
              " 'amount': 646,\n",
              " 'cheaper': 647,\n",
              " 'clip': 648,\n",
              " 'men': 649,\n",
              " 'zippers': 650,\n",
              " 'today': 651,\n",
              " 'later': 652,\n",
              " 'hats': 653,\n",
              " 'snug': 654,\n",
              " 'five': 655,\n",
              " 'movement': 656,\n",
              " 'idea': 657,\n",
              " 'purpose': 658,\n",
              " 'wrists': 659,\n",
              " 'granddaughter': 660,\n",
              " 'ray': 661,\n",
              " 'ended': 662,\n",
              " 'reading': 663,\n",
              " 'holes': 664,\n",
              " 'main': 665,\n",
              " 'fantastic': 666,\n",
              " 'velcro': 667,\n",
              " 'hoping': 668,\n",
              " 'holding': 669,\n",
              " 'version': 670,\n",
              " 'slip': 671,\n",
              " 'fairly': 672,\n",
              " 'wheels': 673,\n",
              " 'impressed': 674,\n",
              " 'excited': 675,\n",
              " 'suitcase': 676,\n",
              " 'foot': 677,\n",
              " 'easier': 678,\n",
              " 'course': 679,\n",
              " 'wind': 680,\n",
              " 'with': 681,\n",
              " 'my': 682,\n",
              " 'useful': 683,\n",
              " 'woman': 684,\n",
              " 'touch': 685,\n",
              " 'grandson': 686,\n",
              " 'customer': 687,\n",
              " 'cheaply': 688,\n",
              " 'pin': 689,\n",
              " 'average': 690,\n",
              " 'purchasing': 691,\n",
              " 'anyway': 692,\n",
              " 'stop': 693,\n",
              " 'receive': 694,\n",
              " 'warranty': 695,\n",
              " 'classic': 696,\n",
              " 'built': 697,\n",
              " 'takes': 698,\n",
              " 'seemed': 699,\n",
              " 'if': 700,\n",
              " 'thinking': 701,\n",
              " 'except': 702,\n",
              " 'sexy': 703,\n",
              " 'digital': 704,\n",
              " 'stand': 705,\n",
              " 'bra': 706,\n",
              " 'construction': 707,\n",
              " 'fix': 708,\n",
              " 'very': 709,\n",
              " 'comfy': 710,\n",
              " 'nose': 711,\n",
              " 'function': 712,\n",
              " 'we': 713,\n",
              " 'have': 714,\n",
              " 'carrying': 715,\n",
              " 'future': 716,\n",
              " 'hole': 717,\n",
              " 'stiff': 718,\n",
              " 'simply': 719,\n",
              " 'support': 720,\n",
              " 'functions': 721,\n",
              " 'noticed': 722,\n",
              " 'skin': 723,\n",
              " 'functional': 724,\n",
              " 'elastic': 725,\n",
              " 'tool': 726,\n",
              " 'spend': 727,\n",
              " 'taking': 728,\n",
              " 'arm': 729,\n",
              " 'replaced': 730,\n",
              " 'seconds': 731,\n",
              " 'collection': 732,\n",
              " 'appears': 733,\n",
              " 'car': 734,\n",
              " 'plan': 735,\n",
              " 'kit': 736,\n",
              " 'her': 737,\n",
              " 'considering': 738,\n",
              " 'jeans': 739,\n",
              " 'finish': 740,\n",
              " 'flat': 741,\n",
              " 'runs': 742,\n",
              " 'supposed': 743,\n",
              " 'unique': 744,\n",
              " 'live': 745,\n",
              " 'gorgeous': 746,\n",
              " 'told': 747,\n",
              " 'roomy': 748,\n",
              " 'business': 749,\n",
              " 'enjoy': 750,\n",
              " 'knew': 751,\n",
              " 'uses': 752,\n",
              " 'family': 753,\n",
              " 'batteries': 754,\n",
              " 'immediately': 755,\n",
              " 'leggings': 756,\n",
              " 'stores': 757,\n",
              " 'uncomfortable': 758,\n",
              " 'lovely': 759,\n",
              " 'choice': 760,\n",
              " 'pins': 761,\n",
              " 'no': 762,\n",
              " 'glass': 763,\n",
              " 'handy': 764,\n",
              " 'lasted': 765,\n",
              " 'start': 766,\n",
              " 'guy': 767,\n",
              " 'compared': 768,\n",
              " 'sister': 769,\n",
              " 'shock': 770,\n",
              " 'buttons': 771,\n",
              " 'actual': 772,\n",
              " 'mother': 773,\n",
              " '00': 774,\n",
              " 'yellow': 775,\n",
              " 'giving': 776,\n",
              " 'rain': 777,\n",
              " 'complaints': 778,\n",
              " 'barely': 779,\n",
              " 'steel': 780,\n",
              " 'myself': 781,\n",
              " 'automatic': 782,\n",
              " 'returning': 783,\n",
              " 'inches': 784,\n",
              " 'minute': 785,\n",
              " 'figure': 786,\n",
              " 'sizing': 787,\n",
              " 'number': 788,\n",
              " 'mom': 789,\n",
              " 'lol': 790,\n",
              " 'putting': 791,\n",
              " 'adult': 792,\n",
              " 'did': 793,\n",
              " 'tall': 794,\n",
              " 'traveling': 795,\n",
              " 'careful': 796,\n",
              " 'delivered': 797,\n",
              " 'note': 798,\n",
              " 'gear': 799,\n",
              " 'sock': 800,\n",
              " 'inch': 801,\n",
              " 'middle': 802,\n",
              " 'setting': 803,\n",
              " 'falling': 804,\n",
              " 'stitching': 805,\n",
              " 'wet': 806,\n",
              " 'boot': 807,\n",
              " 'crystal': 808,\n",
              " 'walking': 809,\n",
              " 'spring': 810,\n",
              " 'worry': 811,\n",
              " 'move': 812,\n",
              " 'solar': 813,\n",
              " 'gives': 814,\n",
              " 'expectations': 815,\n",
              " 'jacket': 816,\n",
              " 'worried': 817,\n",
              " 'priced': 818,\n",
              " 'alarm': 819,\n",
              " 'taken': 820,\n",
              " 'designed': 821,\n",
              " 'stopped': 822,\n",
              " 'bezel': 823,\n",
              " 'helps': 824,\n",
              " 'secure': 825,\n",
              " 'special': 826,\n",
              " 'which': 827,\n",
              " 'gifts': 828,\n",
              " 'somewhat': 829,\n",
              " '50': 830,\n",
              " 'sides': 831,\n",
              " 'bill': 832,\n",
              " 'legs': 833,\n",
              " 'purple': 834,\n",
              " 'girls': 835,\n",
              " 'gym': 836,\n",
              " 'reasonable': 837,\n",
              " 'materials': 838,\n",
              " 'orange': 839,\n",
              " 'washed': 840,\n",
              " 'prefer': 841,\n",
              " 'turn': 842,\n",
              " 'mail': 843,\n",
              " 'u': 844,\n",
              " 'shiny': 845,\n",
              " 'addition': 846,\n",
              " 'available': 847,\n",
              " 'screen': 848,\n",
              " 'laces': 849,\n",
              " 'trips': 850,\n",
              " 'lose': 851,\n",
              " 'crown': 852,\n",
              " 'twice': 853,\n",
              " 'air': 854,\n",
              " 'tough': 855,\n",
              " 'ask': 856,\n",
              " 'rating': 857,\n",
              " 'correct': 858,\n",
              " 'cant': 859,\n",
              " 'resistant': 860,\n",
              " 'leave': 861,\n",
              " 'pouch': 862,\n",
              " 'id': 863,\n",
              " 'polarized': 864,\n",
              " 'ear': 865,\n",
              " 'lock': 866,\n",
              " 'previous': 867,\n",
              " 'scratch': 868,\n",
              " 'repair': 869,\n",
              " 'asked': 870,\n",
              " 'cause': 871,\n",
              " 'books': 872,\n",
              " 'rest': 873,\n",
              " 'local': 874,\n",
              " 'oh': 875,\n",
              " 'wants': 876,\n",
              " 'chose': 877,\n",
              " 'fitting': 878,\n",
              " 'please': 879,\n",
              " 'spent': 880,\n",
              " 'clock': 881,\n",
              " 'added': 882,\n",
              " 'protection': 883,\n",
              " 'tag': 884,\n",
              " 'name': 885,\n",
              " 'him': 886,\n",
              " 'slots': 887,\n",
              " 'tote': 888,\n",
              " 'beanie': 889,\n",
              " 'pattern': 890,\n",
              " 'sweater': 891,\n",
              " '11': 892,\n",
              " 'world': 893,\n",
              " 'clothing': 894,\n",
              " 'forward': 895,\n",
              " 'across': 896,\n",
              " 'means': 897,\n",
              " 'update': 898,\n",
              " 'frames': 899,\n",
              " 'over': 900,\n",
              " 'kinda': 901,\n",
              " 'print': 902,\n",
              " 'matter': 903,\n",
              " 'scratches': 904,\n",
              " 'experience': 905,\n",
              " 'waterproof': 906,\n",
              " 'removed': 907,\n",
              " 'turned': 908,\n",
              " 'slide': 909,\n",
              " 'cash': 910,\n",
              " 'bracelets': 911,\n",
              " 'stays': 912,\n",
              " 'skirt': 913,\n",
              " 'walk': 914,\n",
              " 'standard': 915,\n",
              " 'attached': 916,\n",
              " 'kid': 917,\n",
              " 'everywhere': 918,\n",
              " 'comfortably': 919,\n",
              " 'recently': 920,\n",
              " 'fashion': 921,\n",
              " 'arms': 922,\n",
              " 'cloth': 923,\n",
              " 'keys': 924,\n",
              " 'multiple': 925,\n",
              " 'packaged': 926,\n",
              " 'notice': 927,\n",
              " 'citizen': 928,\n",
              " 'what': 929,\n",
              " 'exact': 930,\n",
              " 'certainly': 931,\n",
              " 'attention': 932,\n",
              " 'properly': 933,\n",
              " 'save': 934,\n",
              " 'fake': 935,\n",
              " 'negative': 936,\n",
              " 'tools': 937,\n",
              " 'normally': 938,\n",
              " 'smooth': 939,\n",
              " 'refund': 940,\n",
              " 'was': 941,\n",
              " 'holder': 942,\n",
              " 'difference': 943,\n",
              " 'rings': 944,\n",
              " 'bottle': 945,\n",
              " 'lighter': 946,\n",
              " 'stick': 947,\n",
              " 'as': 948,\n",
              " 'girlfriend': 949,\n",
              " 'third': 950,\n",
              " 'non': 951,\n",
              " 'trouble': 952,\n",
              " 'or': 953,\n",
              " 'slim': 954,\n",
              " 'storage': 955,\n",
              " 'cell': 956,\n",
              " 'opening': 957,\n",
              " 'higher': 958,\n",
              " 'sports': 959,\n",
              " 'important': 960,\n",
              " 'dollars': 961,\n",
              " 'option': 962,\n",
              " 'ban': 963,\n",
              " 'weird': 964,\n",
              " 'surprise': 965,\n",
              " 'stainless': 966,\n",
              " 'washing': 967,\n",
              " 'shades': 968,\n",
              " 'jeweler': 969,\n",
              " 'constantly': 970,\n",
              " 'lining': 971,\n",
              " 'based': 972,\n",
              " 'darker': 973,\n",
              " 'zippered': 974,\n",
              " 'feeling': 975,\n",
              " 'missing': 976,\n",
              " 'comfort': 977,\n",
              " 'rose': 978,\n",
              " 'affordable': 979,\n",
              " 'stated': 980,\n",
              " 'near': 981,\n",
              " 'book': 982,\n",
              " 'cross': 983,\n",
              " '14': 984,\n",
              " 'bucks': 985,\n",
              " 'thicker': 986,\n",
              " 'push': 987,\n",
              " 'suggest': 988,\n",
              " 'while': 989,\n",
              " 'entire': 990,\n",
              " 'shirts': 991,\n",
              " 'older': 992,\n",
              " 'pain': 993,\n",
              " 'wedding': 994,\n",
              " 'opinion': 995,\n",
              " 'had': 996,\n",
              " 'sharp': 997,\n",
              " 'arrive': 998,\n",
              " 'including': 999,\n",
              " 'ripped': 1000,\n",
              " ...}"
            ]
          },
          "metadata": {},
          "execution_count": 106
        }
      ]
    },
    {
      "cell_type": "code",
      "metadata": {
        "id": "Cacnuw_I0D_P"
      },
      "source": [
        "train_sequences = tokenizer.texts_to_sequences(train_sentences)"
      ],
      "execution_count": 107,
      "outputs": []
    },
    {
      "cell_type": "code",
      "metadata": {
        "colab": {
          "base_uri": "https://localhost:8080/"
        },
        "id": "TQNxnMtr0Feu",
        "outputId": "129901ff-7479-4b17-8d2c-a7827dc06339"
      },
      "source": [
        "train_sequences[0]"
      ],
      "execution_count": 108,
      "outputs": [
        {
          "output_type": "execute_result",
          "data": {
            "text/plain": [
              "[290,\n",
              " 982,\n",
              " 92,\n",
              " 23,\n",
              " 3,\n",
              " 3862,\n",
              " 1068,\n",
              " 1692,\n",
              " 581,\n",
              " 1711,\n",
              " 932,\n",
              " 25,\n",
              " 6,\n",
              " 3806,\n",
              " 9,\n",
              " 175,\n",
              " 2255,\n",
              " 1343,\n",
              " 119,\n",
              " 23,\n",
              " 8476,\n",
              " 822,\n",
              " 548,\n",
              " 34022,\n",
              " 2255,\n",
              " 46,\n",
              " 31,\n",
              " 2,\n",
              " 762,\n",
              " 6,\n",
              " 406,\n",
              " 1568,\n",
              " 14671,\n",
              " 4868,\n",
              " 771,\n",
              " 754,\n",
              " 425,\n",
              " 755,\n",
              " 31,\n",
              " 107,\n",
              " 754,\n",
              " 386,\n",
              " 698,\n",
              " 109,\n",
              " 26,\n",
              " 2909,\n",
              " 754,\n",
              " 668,\n",
              " 190,\n",
              " 754,\n",
              " 76,\n",
              " 730,\n",
              " 331,\n",
              " 390,\n",
              " 929,\n",
              " 276,\n",
              " 243,\n",
              " 546,\n",
              " 7080,\n",
              " 822,\n",
              " 181,\n",
              " 125,\n",
              " 65,\n",
              " 408,\n",
              " 754,\n",
              " 6,\n",
              " 430,\n",
              " 119,\n",
              " 10390,\n",
              " 220,\n",
              " 652,\n",
              " 114,\n",
              " 593,\n",
              " 5038,\n",
              " 546,\n",
              " 4868,\n",
              " 295,\n",
              " 119,\n",
              " 876,\n",
              " 1120,\n",
              " 982,\n",
              " 1871,\n",
              " 1505,\n",
              " 3876,\n",
              " 737]"
            ]
          },
          "metadata": {},
          "execution_count": 108
        }
      ]
    },
    {
      "cell_type": "code",
      "metadata": {
        "colab": {
          "base_uri": "https://localhost:8080/",
          "height": 90
        },
        "id": "m8Z9J2SbVEtQ",
        "outputId": "10f88460-c8cc-44fe-b111-de2196af416b"
      },
      "source": [
        "train_sentences[0]"
      ],
      "execution_count": 109,
      "outputs": [
        {
          "output_type": "execute_result",
          "data": {
            "application/vnd.google.colaboratory.intrinsic+json": {
              "type": "string"
            },
            "text/plain": [
              "'short book that s great infant young toddler  pictures catch attention little one  naturally  love makes sounds  imagine daughter s dismay stopped making kissing sounds day got it  no  one kids sits incessantly pushes buttons batteries run immediately  got new batteries replace  takes 3 small calculator batteries   hoping problem batteries old replaced three  guess what  worked 10 button presses stopped again  since large pack batteries  one replacement daughter begged months later  thing   a handful button pushes nothing  daughter wants throw book trash  hardly blame her '"
            ]
          },
          "metadata": {},
          "execution_count": 109
        }
      ]
    },
    {
      "cell_type": "markdown",
      "metadata": {
        "id": "f6gPoWnAt28Z"
      },
      "source": [
        "Padding "
      ]
    },
    {
      "cell_type": "code",
      "metadata": {
        "id": "bok3N35zzfM0"
      },
      "source": [
        "#pad sequences --- replace sentences with word vectors\n",
        "from keras.preprocessing.sequence import pad_sequences\n",
        "\n",
        "train_padded = pad_sequences(\n",
        "    train_sequences, maxlen=max_length, padding=\"post\", truncating=\"post\"\n",
        ")"
      ],
      "execution_count": 110,
      "outputs": []
    },
    {
      "cell_type": "code",
      "metadata": {
        "colab": {
          "base_uri": "https://localhost:8080/"
        },
        "id": "8owHm3m30NWl",
        "outputId": "093ec211-6b1a-48da-8341-b3c6a8c052b2"
      },
      "source": [
        "#I guess this is the vector for the first sentence ---- zeros because the sentence at position zero is shorter then the largest sentence in the text \n",
        "train_padded[0]"
      ],
      "execution_count": 111,
      "outputs": [
        {
          "output_type": "execute_result",
          "data": {
            "text/plain": [
              "array([  290,   982,    92,    23,     3,  3862,  1068,  1692,   581,\n",
              "        1711,   932,    25,     6,  3806,     9,   175,  2255,  1343,\n",
              "         119,    23,  8476,   822,   548, 34022,  2255,    46,    31,\n",
              "           2,   762,     6,   406,  1568, 14671,  4868,   771,   754,\n",
              "         425,   755,    31,   107,   754,   386,   698,   109,    26,\n",
              "        2909,   754,   668,   190,   754,    76,   730,   331,   390,\n",
              "         929,   276,   243,   546,  7080,   822,   181,   125,    65,\n",
              "         408,   754,     6,   430,   119, 10390,   220,   652,   114,\n",
              "         593,  5038,   546,  4868,   295,   119,   876,  1120,   982,\n",
              "        1871,  1505,  3876,   737,     0,     0,     0,     0,     0,\n",
              "           0,     0,     0,     0,     0,     0,     0,     0,     0,\n",
              "           0,     0,     0,     0,     0,     0,     0,     0,     0,\n",
              "           0,     0,     0,     0,     0,     0,     0,     0,     0,\n",
              "           0,     0,     0,     0,     0,     0,     0,     0,     0,\n",
              "           0,     0,     0,     0,     0,     0,     0,     0,     0,\n",
              "           0,     0,     0,     0,     0,     0,     0,     0,     0,\n",
              "           0,     0,     0,     0,     0,     0], dtype=int32)"
            ]
          },
          "metadata": {},
          "execution_count": 111
        }
      ]
    },
    {
      "cell_type": "code",
      "metadata": {
        "colab": {
          "base_uri": "https://localhost:8080/"
        },
        "id": "lC_O-ubt0a8n",
        "outputId": "4bbf2178-3756-48f4-e687-a10c3397276e"
      },
      "source": [
        "#vector for the second sentence \n",
        "train_padded[1]"
      ],
      "execution_count": 112,
      "outputs": [
        {
          "output_type": "execute_result",
          "data": {
            "text/plain": [
              "array([ 173,  388,   56,  478,    4,  547, 9374, 1110,   38,    3,   78,\n",
              "         30,    7,  632,  104,  190, 1249,  375,  997, 1150,   21,  191,\n",
              "       3598, 3146,  268,   85,  644,  651, 3146, 1575, 2058,   56,  188,\n",
              "        246,   30,    3,   16,  632,  204,    8,   95, 1249,  134,   64,\n",
              "          0,    0,    0,    0,    0,    0,    0,    0,    0,    0,    0,\n",
              "          0,    0,    0,    0,    0,    0,    0,    0,    0,    0,    0,\n",
              "          0,    0,    0,    0,    0,    0,    0,    0,    0,    0,    0,\n",
              "          0,    0,    0,    0,    0,    0,    0,    0,    0,    0,    0,\n",
              "          0,    0,    0,    0,    0,    0,    0,    0,    0,    0,    0,\n",
              "          0,    0,    0,    0,    0,    0,    0,    0,    0,    0,    0,\n",
              "          0,    0,    0,    0,    0,    0,    0,    0,    0,    0,    0,\n",
              "          0,    0,    0,    0,    0,    0,    0,    0,    0,    0,    0,\n",
              "          0,    0,    0,    0,    0,    0,    0,    0,    0,    0,    0,\n",
              "          0,    0,    0,    0,    0,    0,    0], dtype=int32)"
            ]
          },
          "metadata": {},
          "execution_count": 112
        }
      ]
    },
    {
      "cell_type": "code",
      "metadata": {
        "id": "9Aq0vgvK0wCZ"
      },
      "source": [
        "# Pad the sentences for testset \n",
        "\n",
        "test_sequences = tokenizer.texts_to_sequences(test_sentences)\n",
        "test_padded = pad_sequences(\n",
        "    test_sequences, maxlen=max_length, padding=\"post\", truncating=\"post\"\n",
        ")\n"
      ],
      "execution_count": 113,
      "outputs": []
    },
    {
      "cell_type": "code",
      "metadata": {
        "colab": {
          "base_uri": "https://localhost:8080/"
        },
        "id": "_368A05V1dXK",
        "outputId": "72beae41-bb86-486f-a821-0e2868590dfa"
      },
      "source": [
        "#compare phrase with vector representing phrase \n",
        "print(df_reviews_products.iloc[0].reviewText)\n",
        "print(train_sequences[0])\n",
        "\n"
      ],
      "execution_count": 114,
      "outputs": [
        {
          "output_type": "stream",
          "name": "stdout",
          "text": [
            "short book that s great infant young toddler  pictures catch attention little one  naturally  love makes sounds  imagine daughter s dismay stopped making kissing sounds day got it  no  one kids sits incessantly pushes buttons batteries run immediately  got new batteries replace  takes 3 small calculator batteries   hoping problem batteries old replaced three  guess what  worked 10 button presses stopped again  since large pack batteries  one replacement daughter begged months later  thing   a handful button pushes nothing  daughter wants throw book trash  hardly blame her \n",
            "[290, 982, 92, 23, 3, 3862, 1068, 1692, 581, 1711, 932, 25, 6, 3806, 9, 175, 2255, 1343, 119, 23, 8476, 822, 548, 34022, 2255, 46, 31, 2, 762, 6, 406, 1568, 14671, 4868, 771, 754, 425, 755, 31, 107, 754, 386, 698, 109, 26, 2909, 754, 668, 190, 754, 76, 730, 331, 390, 929, 276, 243, 546, 7080, 822, 181, 125, 65, 408, 754, 6, 430, 119, 10390, 220, 652, 114, 593, 5038, 546, 4868, 295, 119, 876, 1120, 982, 1871, 1505, 3876, 737]\n"
          ]
        }
      ]
    },
    {
      "cell_type": "code",
      "metadata": {
        "id": "xDc39tGD2Vhn"
      },
      "source": [
        "#check inverse --- word to index derives from sentences tokanized \n",
        "reverse_words_to_index = dict([(value, key) for (key, value) in words_to_index.items()])"
      ],
      "execution_count": 115,
      "outputs": []
    },
    {
      "cell_type": "code",
      "metadata": {
        "id": "o7mdEPC42nOB"
      },
      "source": [
        "def decode(text):\n",
        "    return \" \".join([reverse_words_to_index.get(i, \"?\") for i in text])"
      ],
      "execution_count": 116,
      "outputs": []
    },
    {
      "cell_type": "code",
      "metadata": {
        "colab": {
          "base_uri": "https://localhost:8080/",
          "height": 90
        },
        "id": "f5Wrd-oj2yWI",
        "outputId": "c2328133-6856-401f-bb13-b3f88332aa05"
      },
      "source": [
        "decode(train_sequences[0])"
      ],
      "execution_count": 117,
      "outputs": [
        {
          "output_type": "execute_result",
          "data": {
            "application/vnd.google.colaboratory.intrinsic+json": {
              "type": "string"
            },
            "text/plain": [
              "'short book that s great infant young toddler pictures catch attention little one naturally love makes sounds imagine daughter s dismay stopped making kissing sounds day got it no one kids sits incessantly pushes buttons batteries run immediately got new batteries replace takes 3 small calculator batteries hoping problem batteries old replaced three guess what worked 10 button presses stopped again since large pack batteries one replacement daughter begged months later thing a handful button pushes nothing daughter wants throw book trash hardly blame her'"
            ]
          },
          "metadata": {},
          "execution_count": 117
        }
      ]
    },
    {
      "cell_type": "code",
      "metadata": {
        "colab": {
          "base_uri": "https://localhost:8080/",
          "height": 36
        },
        "id": "oLFh-FoBs36U",
        "outputId": "3c02ac49-4bae-4ecc-b30c-40f7a90a35a6"
      },
      "source": [
        "decode(test_sequences[0])"
      ],
      "execution_count": 121,
      "outputs": [
        {
          "output_type": "execute_result",
          "data": {
            "application/vnd.google.colaboratory.intrinsic+json": {
              "type": "string"
            },
            "text/plain": [
              "'plastic cheap ugly uncomfortable wear piece junk china don t waste money watch get another brand'"
            ]
          },
          "metadata": {},
          "execution_count": 121
        }
      ]
    },
    {
      "cell_type": "markdown",
      "metadata": {
        "id": "vyGjp6CBuEl0"
      },
      "source": [
        "I have tokenized reviews in text and then I inserted each token in array representing tokens. The maximum length of each array is given by the review that has maximum length. I had to uniformate the array lengths because for NN we need to have array of the same length "
      ]
    },
    {
      "cell_type": "code",
      "metadata": {
        "id": "3b7cE8pB6SF4"
      },
      "source": [
        ""
      ],
      "execution_count": null,
      "outputs": []
    },
    {
      "cell_type": "markdown",
      "metadata": {
        "id": "WQDNPi_1JrJl"
      },
      "source": [
        "**The last part is basically related to word embedding, feature extraction and sentiment classification**\n",
        "\n",
        "\n",
        "Now, in this second part, the focus is on reviews and analysis of test contained in each review.\n",
        "\n",
        "a) GloVe Model\n",
        "\n",
        "b) BiGru Model\n",
        "\n",
        "c) CFR without BiGRU Model and with BiGRU Model \n",
        "\n",
        "d) comparison between BiGRU Model and LSTM-Model "
      ]
    },
    {
      "cell_type": "markdown",
      "metadata": {
        "id": "QHa8cj5y6vvN"
      },
      "source": [
        "**Glove to build a word embedding vector**\n",
        "\n",
        "Now we have to convert words (tokenized text) in word vector and, in order to do this, we use GloVe that is a word embedding model.\n",
        "\n",
        "The aim of gloVe is to build word vector and represent similar words in the same vector space. \n",
        "\n"
      ]
    },
    {
      "cell_type": "code",
      "metadata": {
        "colab": {
          "base_uri": "https://localhost:8080/"
        },
        "id": "Vm2NSIcuUAa-",
        "outputId": "bb6b4ec4-2b06-4381-ec1c-4098feaa8b18"
      },
      "source": [
        "!wget http://nlp.stanford.edu/data/glove.6B.zip"
      ],
      "execution_count": null,
      "outputs": [
        {
          "output_type": "stream",
          "name": "stdout",
          "text": [
            "--2021-10-23 17:29:06--  http://nlp.stanford.edu/data/glove.6B.zip\n",
            "Resolving nlp.stanford.edu (nlp.stanford.edu)... 171.64.67.140\n",
            "Connecting to nlp.stanford.edu (nlp.stanford.edu)|171.64.67.140|:80... connected.\n",
            "HTTP request sent, awaiting response... 302 Found\n",
            "Location: https://nlp.stanford.edu/data/glove.6B.zip [following]\n",
            "--2021-10-23 17:29:06--  https://nlp.stanford.edu/data/glove.6B.zip\n",
            "Connecting to nlp.stanford.edu (nlp.stanford.edu)|171.64.67.140|:443... connected.\n",
            "HTTP request sent, awaiting response... 301 Moved Permanently\n",
            "Location: http://downloads.cs.stanford.edu/nlp/data/glove.6B.zip [following]\n",
            "--2021-10-23 17:29:06--  http://downloads.cs.stanford.edu/nlp/data/glove.6B.zip\n",
            "Resolving downloads.cs.stanford.edu (downloads.cs.stanford.edu)... 171.64.64.22\n",
            "Connecting to downloads.cs.stanford.edu (downloads.cs.stanford.edu)|171.64.64.22|:80... connected.\n",
            "HTTP request sent, awaiting response... 200 OK\n",
            "Length: 862182613 (822M) [application/zip]\n",
            "Saving to: ‘glove.6B.zip’\n",
            "\n",
            "glove.6B.zip        100%[===================>] 822.24M  4.98MB/s    in 2m 40s  \n",
            "\n",
            "2021-10-23 17:31:46 (5.14 MB/s) - ‘glove.6B.zip’ saved [862182613/862182613]\n",
            "\n"
          ]
        }
      ]
    },
    {
      "cell_type": "code",
      "metadata": {
        "colab": {
          "base_uri": "https://localhost:8080/"
        },
        "id": "Zkqgsu2LUP54",
        "outputId": "8b84d666-e962-4e9f-90fa-4a6eb7e5278a"
      },
      "source": [
        "!unzip glove*.zip\n",
        "!ls\n",
        "!pwd"
      ],
      "execution_count": null,
      "outputs": [
        {
          "output_type": "stream",
          "name": "stdout",
          "text": [
            "Archive:  glove.6B.zip\n",
            "  inflating: glove.6B.50d.txt        \n",
            "  inflating: glove.6B.100d.txt       \n",
            "  inflating: glove.6B.200d.txt       \n",
            "  inflating: glove.6B.300d.txt       \n",
            "derby.log  glove.6B.100d.txt  glove.6B.300d.txt  glove.6B.zip  sample_data\n",
            "drive\t   glove.6B.200d.txt  glove.6B.50d.txt\t metastore_db\n",
            "/content\n"
          ]
        }
      ]
    },
    {
      "cell_type": "code",
      "metadata": {
        "id": "RTGP9UgvTu7V"
      },
      "source": [
        "def read_glove_vector(glove_vec):\n",
        "  with open(glove_vec, 'r', encoding='UTF-8') as f:\n",
        "    words = set()\n",
        "    word_to_vec_map = {}\n",
        "    for line in f:\n",
        "      w_line = line.split()\n",
        "      curr_word = w_line[0]\n",
        "      word_to_vec_map[curr_word] = np.array(w_line[1:], dtype=np.float64)\n",
        "\n",
        "\n",
        "\n",
        "  return word_to_vec_map"
      ],
      "execution_count": null,
      "outputs": []
    },
    {
      "cell_type": "code",
      "metadata": {
        "id": "5qIzwcWRT6Ai"
      },
      "source": [
        "word_to_vec_map = read_glove_vector('/content/drive/MyDrive/glove.6B.100d.txt')"
      ],
      "execution_count": null,
      "outputs": []
    },
    {
      "cell_type": "code",
      "metadata": {
        "colab": {
          "base_uri": "https://localhost:8080/"
        },
        "id": "YujtdPBDg8Tm",
        "outputId": "ebba9ded-b7d4-4093-b735-4c76b17cfe4d"
      },
      "source": [
        "#add +1 because the matrix starts from position 0 and the length from position 1\n",
        "vocab_len = len(words_to_index) + 1\n",
        "vocab_len"
      ],
      "execution_count": null,
      "outputs": [
        {
          "output_type": "execute_result",
          "data": {
            "text/plain": [
              "69170"
            ]
          },
          "metadata": {},
          "execution_count": 84
        }
      ]
    },
    {
      "cell_type": "code",
      "metadata": {
        "colab": {
          "base_uri": "https://localhost:8080/"
        },
        "id": "vkt8Xd_vki4r",
        "outputId": "ae50421d-7456-4095-9073-47524d881144"
      },
      "source": [
        "embed_vector_len = word_to_vec_map['moon'].shape[0]\n",
        "embed_vector_len"
      ],
      "execution_count": null,
      "outputs": [
        {
          "output_type": "execute_result",
          "data": {
            "text/plain": [
              "100"
            ]
          },
          "metadata": {},
          "execution_count": 85
        }
      ]
    },
    {
      "cell_type": "code",
      "metadata": {
        "colab": {
          "base_uri": "https://localhost:8080/"
        },
        "id": "A0IkuDoHLHAZ",
        "outputId": "d56cabaa-08a5-4075-ca8d-fe289409ac03"
      },
      "source": [
        "emb_matrix = np.zeros((vocab_len, embed_vector_len))\n",
        "emb_matrix"
      ],
      "execution_count": null,
      "outputs": [
        {
          "output_type": "execute_result",
          "data": {
            "text/plain": [
              "array([[0., 0., 0., ..., 0., 0., 0.],\n",
              "       [0., 0., 0., ..., 0., 0., 0.],\n",
              "       [0., 0., 0., ..., 0., 0., 0.],\n",
              "       ...,\n",
              "       [0., 0., 0., ..., 0., 0., 0.],\n",
              "       [0., 0., 0., ..., 0., 0., 0.],\n",
              "       [0., 0., 0., ..., 0., 0., 0.]])"
            ]
          },
          "metadata": {},
          "execution_count": 86
        }
      ]
    },
    {
      "cell_type": "code",
      "metadata": {
        "id": "fkE7_KofwOz0"
      },
      "source": [
        "# Max number of words in a sequence\n",
        "max_length = 150"
      ],
      "execution_count": null,
      "outputs": []
    },
    {
      "cell_type": "code",
      "metadata": {
        "id": "d0ac8-lxku0d"
      },
      "source": [
        "for word, index in words_to_index.items():\n",
        "  embedding_vector = word_to_vec_map.get(word)\n",
        "  if embedding_vector is not None:\n",
        "    emb_matrix[index, :] = embedding_vector\n",
        "\n",
        "embedding_layer = Embedding(input_dim=vocab_len, output_dim=embed_vector_len, input_length=max_length, weights = [emb_matrix], trainable=False)"
      ],
      "execution_count": null,
      "outputs": []
    },
    {
      "cell_type": "code",
      "metadata": {
        "colab": {
          "base_uri": "https://localhost:8080/"
        },
        "id": "RhbEoSkkkyjB",
        "outputId": "ed5488ef-fdf0-4563-bfc5-714a985861ad"
      },
      "source": [
        "#The main function of the embedded layer is to represent the text statement as a weighted word vector matrix; all the sententes are represented by the embedded matrix as a collection of embedded vectors\n",
        "embedding_layer"
      ],
      "execution_count": null,
      "outputs": [
        {
          "output_type": "execute_result",
          "data": {
            "text/plain": [
              "<keras.layers.embeddings.Embedding at 0x7f94774f7090>"
            ]
          },
          "metadata": {},
          "execution_count": 89
        }
      ]
    },
    {
      "cell_type": "code",
      "metadata": {
        "colab": {
          "base_uri": "https://localhost:8080/"
        },
        "id": "K-PGhR0dlApW",
        "outputId": "ed8bd95b-d3c7-495e-e857-30c2644e82bf"
      },
      "source": [
        "#before embedded matrix with zeros and then insert embedded vector inside \n",
        "emb_matrix\n"
      ],
      "execution_count": null,
      "outputs": [
        {
          "output_type": "execute_result",
          "data": {
            "text/plain": [
              "array([[ 0.      ,  0.      ,  0.      , ...,  0.      ,  0.      ,\n",
              "         0.      ],\n",
              "       [-0.38264 , -0.089682,  0.024723, ...,  0.16366 ,  0.43887 ,\n",
              "         0.28925 ],\n",
              "       [-0.30664 ,  0.16821 ,  0.98511 , ..., -0.38775 ,  0.36916 ,\n",
              "         0.54521 ],\n",
              "       ...,\n",
              "       [ 0.      ,  0.      ,  0.      , ...,  0.      ,  0.      ,\n",
              "         0.      ],\n",
              "       [ 0.92085 ,  0.30269 ,  0.35859 , ...,  0.35185 , -0.2279  ,\n",
              "        -0.73066 ],\n",
              "       [-1.3046  ,  0.055802,  0.25823 , ..., -0.71069 , -0.35377 ,\n",
              "        -0.63405 ]])"
            ]
          },
          "metadata": {},
          "execution_count": 90
        }
      ]
    },
    {
      "cell_type": "code",
      "metadata": {
        "colab": {
          "base_uri": "https://localhost:8080/"
        },
        "id": "0v2RODCw7UOl",
        "outputId": "94289447-62db-4dbd-9301-77b308fc01da"
      },
      "source": [
        "embedding_vector"
      ],
      "execution_count": null,
      "outputs": [
        {
          "output_type": "execute_result",
          "data": {
            "text/plain": [
              "array([-1.3046e+00,  5.5802e-02,  2.5823e-01,  3.1793e-01, -1.6898e-01,\n",
              "       -1.1317e+00,  6.1549e-01, -1.0256e+00, -7.3427e-02, -4.9743e-01,\n",
              "       -6.4630e-01,  1.2031e-01, -1.4924e-01, -4.2913e-01, -6.1349e-01,\n",
              "       -2.6137e-01, -1.7414e-01,  6.4564e-01,  7.2441e-01,  1.9579e-01,\n",
              "        3.5705e-01,  5.7211e-01, -1.1064e-01,  4.9322e-01,  5.2623e-01,\n",
              "        3.0543e-02, -8.4493e-01, -5.2750e-01, -4.5739e-01,  2.3514e-01,\n",
              "        1.1006e+00, -5.6729e-01,  3.5634e-01, -1.1462e-01,  2.3368e-01,\n",
              "       -8.4738e-01,  5.5798e-02,  2.6828e-01, -6.2954e-02,  5.6889e-01,\n",
              "        1.3936e-01, -4.4661e-01, -2.2147e-01, -6.7564e-02,  1.6134e-01,\n",
              "        1.5776e-03, -6.8686e-01,  5.2118e-02,  1.1329e+00,  3.5537e-01,\n",
              "       -7.3704e-01,  1.9332e-02, -7.0289e-01, -6.2026e-02, -8.0289e-01,\n",
              "        1.4799e+00,  1.1485e+00,  9.4612e-01,  3.1200e-01, -7.0017e-01,\n",
              "        3.4272e-02,  9.3862e-02,  4.8533e-01, -1.0437e+00, -2.0160e-01,\n",
              "        2.9753e-01,  2.4468e-01,  3.5931e-01, -2.0053e+00,  3.1389e-01,\n",
              "        4.1099e-03, -1.0098e-01, -9.4198e-01, -3.7677e-01, -8.5060e-01,\n",
              "       -9.4845e-01,  7.7902e-01, -3.7411e-01,  2.3725e-01,  3.1943e-01,\n",
              "        1.4686e-01, -8.1284e-01,  9.2402e-01, -7.2448e-01,  7.8593e-02,\n",
              "       -4.0542e-02,  3.8267e-01,  1.4633e-01, -1.3253e-01,  7.3697e-01,\n",
              "       -4.3647e-03, -4.9730e-01, -3.8723e-01, -5.1377e-01,  8.9888e-01,\n",
              "        1.2397e-01,  6.0953e-01, -7.1069e-01, -3.5377e-01, -6.3405e-01])"
            ]
          },
          "metadata": {},
          "execution_count": 91
        }
      ]
    },
    {
      "cell_type": "code",
      "metadata": {
        "id": "Vh5xapp2wD9c"
      },
      "source": [
        ""
      ],
      "execution_count": null,
      "outputs": []
    },
    {
      "cell_type": "markdown",
      "metadata": {
        "id": "MSzOlUprwF5k"
      },
      "source": [
        "**Prossimi step**\n",
        "\n",
        "-gru layer per aspect extraction \n",
        "\n",
        "-CRF \n",
        "\n",
        "Part of speech per la predizione "
      ]
    }
  ]
}